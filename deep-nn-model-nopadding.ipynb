{
 "cells": [
  {
   "cell_type": "markdown",
   "metadata": {},
   "source": [
    "# Load library and dataset"
   ]
  },
  {
   "cell_type": "code",
   "execution_count": 1,
   "metadata": {},
   "outputs": [],
   "source": [
    "import warnings\n",
    "\n",
    "warnings.filterwarnings(\"ignore\")\n",
    "import torch\n",
    "import numpy as np\n",
    "import pandas as pd\n",
    "import os\n",
    "import itertools\n",
    "import time\n",
    "\n",
    "from tqdm import tqdm_notebook as tqdm\n",
    "from torch import optim\n",
    "from torch.utils.data import TensorDataset, DataLoader\n",
    "from model.model_new import TripletModel\n",
    "from model.SelfAttentionModel import StructuredSelfAttention\n",
    "from utils.data_loader_new import (\n",
    "    load_data_set,\n",
    "    load_word_to_index,\n",
    "    load_triplet_orders,\n",
    "    load_padded_data,\n",
    "    load_triplet,\n",
    "    generate_embedding\n",
    ")\n",
    "from sklearn.utils import shuffle\n",
    "from sklearn.metrics import f1_score, accuracy_score\n"
   ]
  },
  {
   "cell_type": "code",
   "execution_count": 2,
   "metadata": {},
   "outputs": [
    {
     "name": "stdout",
     "output_type": "stream",
     "text": [
      "Load dataset successfully!\n",
      "Load word to index successfully!\n",
      "Load pretrained embedding\n",
      "Load padded data successfully!\n"
     ]
    }
   ],
   "source": [
    "full_generated_data_path = 'new_generated_labeled_data.csv'\n",
    "# device\n",
    "device = torch.device('cuda:0' if torch.cuda.is_available() else 'cpu')\n",
    "# Load dataset\n",
    "df = load_data_set(full_generated_data_path, retrain=False)\n",
    "df.fillna(\"\", inplace=True)\n",
    "df = df[df['cid'] != 50]\n",
    "df.reset_index(inplace=True)\n",
    "print('Load dataset successfully!')\n",
    "# get word to index and embedding whole dataset\n",
    "word_to_index = load_word_to_index(df, retrain=False)\n",
    "print('Load word to index successfully!')\n",
    "embeddings = generate_embedding(word_to_index, embedding_dim=300)\n",
    "print('Load pretrained embedding')\n",
    "X, X_len = load_padded_data(df, word_to_index, retrain=False)\n",
    "print('Load padded data successfully!')\n",
    "\n",
    "def truncate_non_string(X, X_len):\n",
    "    # Drop rows that have length of word vector = 0\n",
    "    truncate_index = [i for i in range(0, len(X_len)) if X_len[i] <= 0]\n",
    "    X, X_len = np.delete(X, truncate_index, axis=0), np.delete(X_len, truncate_index, axis=0)\n",
    "    \n",
    "    return X, X_len, truncate_index\n",
    "\n",
    "X, X_len, truncate_index = truncate_non_string(X, X_len)\n",
    "df.drop(index=truncate_index, inplace=True)\n",
    "df.reset_index(inplace=True)\n"
   ]
  },
  {
   "cell_type": "markdown",
   "metadata": {
    "toc-hr-collapsed": false
   },
   "source": [
    "# Building Model"
   ]
  },
  {
   "cell_type": "markdown",
   "metadata": {},
   "source": [
    "## Generate DataLoader and Triplet orders"
   ]
  },
  {
   "cell_type": "code",
   "execution_count": 3,
   "metadata": {},
   "outputs": [
    {
     "name": "stdout",
     "output_type": "stream",
     "text": [
      "Loading triplet order successfully!\n",
      "Load triplet data successfully!\n"
     ]
    }
   ],
   "source": [
    "batch_size = 10000\n",
    "df_triplet_orders = load_triplet_orders(shuffle(df), retrain=False)['content']\n",
    "print('Loading triplet order successfully!')\n",
    "anc_loader, pos_loader, neg_loader = load_triplet(np.array(X), X_len, df_triplet_orders,\n",
    "                                                  batch_size=batch_size,\n",
    "                                                  retrain=False)\n",
    "print('Load triplet data successfully!')\n"
   ]
  },
  {
   "cell_type": "code",
   "execution_count": 4,
   "metadata": {},
   "outputs": [],
   "source": [
    "def to_cuda(loader):\n",
    "    return [load.to(device) for load in loader]"
   ]
  },
  {
   "cell_type": "markdown",
   "metadata": {},
   "source": [
    "## TripletModel with embedding inside model"
   ]
  },
  {
   "cell_type": "code",
   "execution_count": 24,
   "metadata": {
    "scrolled": true
   },
   "outputs": [
    {
     "data": {
      "text/plain": [
       "TripletModel(\n",
       "  (embeddings): Embedding(1335, 300)\n",
       "  (gru): GRU(300, 120, batch_first=True, bidirectional=True)\n",
       "  (linear_final): Linear(in_features=240, out_features=10, bias=True)\n",
       "  (linear_distance): Linear(in_features=20, out_features=1, bias=True)\n",
       "  (tanh): Tanh()\n",
       ")"
      ]
     },
     "execution_count": 24,
     "metadata": {},
     "output_type": "execute_result"
    }
   ],
   "source": [
    "# Self-attention triplet model\n",
    "# triplet_300d_20p_dynamic_embedding -- glove embedding\n",
    "# triplet_300d_20p_own_embedding -- initiate embedding\n",
    "# triplet_300d_20p_own_embedding_bi_gru -- gru\n",
    "# triplet_300d_20p_own_embedding_bi -- lstm\n",
    "# triplet_300d_20p_own_embedding_bi_lstm\n",
    "triplet_model_path = '/data/dac/dedupe-project/new/model/triplet_300d_no_embedding_bi_gru'\n",
    "\n",
    "lr = 0.015\n",
    "margin = 0.2\n",
    "# Load model & optimizer\n",
    "model = TripletModel(embeddings=embeddings, margin=margin, cuda=device).to(device)\n",
    "optimizer = optim.Adam(model.parameters(), lr=lr)\n",
    "model\n"
   ]
  },
  {
   "cell_type": "code",
   "execution_count": null,
   "metadata": {},
   "outputs": [],
   "source": [
    "# Load model and optimizer\n",
    "checkpoint = torch.load(triplet_model_path, map_location=device)\n",
    "model.load_state_dict(checkpoint['model'])\n",
    "optimizer.load_state_dict(checkpoint['optimizer'])\n",
    "\n",
    "model.eval()\n"
   ]
  },
  {
   "cell_type": "code",
   "execution_count": 25,
   "metadata": {},
   "outputs": [
    {
     "data": {
      "application/vnd.jupyter.widget-view+json": {
       "model_id": "53311b90a15546c99e87675c5908019c",
       "version_major": 2,
       "version_minor": 0
      },
      "text/plain": [
       "HBox(children=(IntProgress(value=0, description='Epoch', max=1, style=ProgressStyle(description_width='initial…"
      ]
     },
     "metadata": {},
     "output_type": "display_data"
    },
    {
     "name": "stdout",
     "output_type": "stream",
     "text": [
      "Epoch:\t0\t\tAverage Loss:\t0.5083\t\tAvg Accuracy:\t0.7739\t\t\n",
      "\n",
      "--- 120.92139029502869 seconds ---\n"
     ]
    }
   ],
   "source": [
    "# Train model\n",
    "epochs = 1\n",
    "best_lost = None\n",
    "early_stopping_steps = 10\n",
    "\n",
    "loss_list = []\n",
    "average_list = []\n",
    "model.train()\n",
    "\n",
    "start_time = time.time()\n",
    "for epoch in tqdm(range(epochs), desc='Epoch'):\n",
    "    avg_loss = 0\n",
    "    avg_acc = 0\n",
    "    for batch, [anc_x, pos_x, neg_x] in enumerate(zip(anc_loader, pos_loader, neg_loader)):\n",
    "        # Training model per batch\n",
    "        # Send data to graphic card - Cuda0\n",
    "        anc_x, pos_x, neg_x = to_cuda(anc_x), to_cuda(pos_x), to_cuda(neg_x)\n",
    "        pos_pred, neg_pred = model(anc_x, pos_x, neg_x)\n",
    "\n",
    "        loss = (pos_pred + neg_pred).mean()\n",
    "        corrects = torch.sum(pos_pred == 0) + torch.sum(neg_pred == 0)\n",
    "        accuracy = float(corrects) / (2 * len(anc_x[0]))\n",
    "        avg_acc += accuracy\n",
    "        avg_loss += float(loss)\n",
    "\n",
    "        # Gradient\n",
    "        optimizer.zero_grad()\n",
    "        loss.backward()\n",
    "        optimizer.step()\n",
    "        torch.cuda.empty_cache()  # Empty cuda cache\n",
    "        print('\\rBatch:\\t{}\\t\\tLoss:\\t{}\\t\\tAccuracy:\\t{}\\t\\t'.format(batch, round(float(loss), 4),\n",
    "                                                                      round(accuracy, 4)), end='')\n",
    "    # Average loss and accuracy\n",
    "    avg_acc = avg_acc / len(anc_loader)\n",
    "    avg_loss = avg_loss / len(anc_loader)\n",
    "    loss_list.append(avg_loss)\n",
    "    average_list.append(avg_acc)\n",
    "    print('\\rEpoch:\\t{}\\t\\tAverage Loss:\\t{}\\t\\tAvg Accuracy:\\t{}\\t\\t'.format(epoch, round(avg_loss, 4),\n",
    "                                                                            round(avg_acc, 4)))\n",
    "    if avg_acc > 0.85:\n",
    "        break\n",
    "    if best_lost is None or best_lost > avg_loss:\n",
    "        best_lost = avg_loss\n",
    "        forward_index = 0\n",
    "        \n",
    "#         Save model\n",
    "        torch.save({\n",
    "            'model': model.state_dict(),\n",
    "            'optimizer': optimizer.state_dict()\n",
    "        }, triplet_model_path)\n",
    "    else:\n",
    "        # Early stopping after reachs {early_stopping_steps} steps\n",
    "        forward_index += 1\n",
    "        if forward_index == early_stopping_steps:\n",
    "            break\n",
    "        \n",
    "print(\"--- %s seconds ---\"%(time.time() - start_time))\n"
   ]
  },
  {
   "cell_type": "code",
   "execution_count": 54,
   "metadata": {},
   "outputs": [],
   "source": [
    "#Save model\n",
    "torch.save({\n",
    "    'model': model.state_dict(),\n",
    "    'optimizer': optimizer.state_dict()\n",
    "}, triplet_model_path)"
   ]
  },
  {
   "cell_type": "markdown",
   "metadata": {
    "toc-hr-collapsed": false
   },
   "source": [
    "# Test"
   ]
  },
  {
   "cell_type": "code",
   "execution_count": 26,
   "metadata": {},
   "outputs": [],
   "source": [
    "path = '/data/dac/dedupe-project/test/'\n",
    "test_df = pd.read_excel(path + 'GT_added.xls')\n",
    "test_df.fillna('', inplace=True)\n",
    "test_df.reset_index(inplace=True)\n",
    "test_df_1 = test_df.loc[:, ['address']]\n",
    "test_df_1['content'] = test_df_1['address'].str.lower().str.replace('\\n', ' ').str.replace(r'[ ]+', ' ', regex=True)\n",
    "test_df_2 = test_df.loc[:, ['duplicated_address']]\n",
    "test_df_2['content'] = test_df_2['duplicated_address'].str.lower().str.replace('\\n', ' ').str.replace(r'[ ]+', ' ', regex=True)"
   ]
  },
  {
   "cell_type": "code",
   "execution_count": 27,
   "metadata": {},
   "outputs": [],
   "source": [
    "def data_loader(test_df_1, test_df_2):\n",
    "    # Make data loader\n",
    "    X1, X1_lens = load_padded_data(pd.DataFrame(test_df_1), \n",
    "                               word_to_index, \n",
    "                               dump_path=None, \n",
    "                               retrain=True)\n",
    "\n",
    "    X2, X2_lens = load_padded_data(pd.DataFrame(test_df_2),\n",
    "                                   word_to_index, \n",
    "                                   dump_path=None, \n",
    "                                   retrain=True)\n",
    "\n",
    "    # Drop rows that have length of word vector = 0\n",
    "    truncate_index = [i for i in range(0, len(X1_lens)) if (X1_lens[i] <= 0 or X2_lens[i] <= 0)]\n",
    "    X1, X1_lens = np.delete(X1, truncate_index, axis=0), np.delete(X1_lens, truncate_index, axis=0)\n",
    "    X2, X2_lens = np.delete(X2, truncate_index, axis=0), np.delete(X2_lens, truncate_index, axis=0)\n",
    "\n",
    "    def create_data_loader(X, batch_size=batch_size):\n",
    "        X, X_lens = np.array(X[0]), np.array(X[1])\n",
    "\n",
    "        # Create data loader\n",
    "        data = TensorDataset(torch.from_numpy(X).type(torch.LongTensor),\n",
    "                             torch.ByteTensor(X_lens))\n",
    "        loader = DataLoader(data, batch_size=batch_size, drop_last=False)\n",
    "        return loader\n",
    "\n",
    "    return create_data_loader([X1, X1_lens]), create_data_loader([X2, X2_lens])\n",
    "\n",
    "\n",
    "def create_test(n):\n",
    "    # Generate small test based on ground truth\n",
    "    test_df_1a = pd.DataFrame()\n",
    "    test_df_1b = pd.DataFrame()\n",
    "\n",
    "    for i1, i2 in shuffle(list(itertools.combinations(test_df_1.index, 2)))[:n]:\n",
    "        test_df_1a = test_df_1a.append(test_df_1.iloc[i1, :])\n",
    "        test_df_1b = test_df_1b.append(test_df_1.iloc[i2, :])\n",
    "\n",
    "    test_df_1b = test_df_1b.append(test_df_1a)\n",
    "    test_df_1a = test_df_1a.append(test_df_1a)\n",
    "\n",
    "    test_df_1a.reset_index(inplace=True)\n",
    "    test_df_1b.reset_index(inplace=True)\n",
    "    \n",
    "    return test_df_1a, test_df_1b"
   ]
  },
  {
   "cell_type": "markdown",
   "metadata": {},
   "source": [
    "## True Test"
   ]
  },
  {
   "cell_type": "code",
   "execution_count": 28,
   "metadata": {},
   "outputs": [
    {
     "data": {
      "application/vnd.jupyter.widget-view+json": {
       "model_id": "35124e7c4e2246a4b2ebf86ba20508a6",
       "version_major": 2,
       "version_minor": 0
      },
      "text/plain": [
       "HBox(children=(IntProgress(value=0, description='Padding', max=428, style=ProgressStyle(description_width='ini…"
      ]
     },
     "metadata": {},
     "output_type": "display_data"
    },
    {
     "name": "stdout",
     "output_type": "stream",
     "text": [
      "\n"
     ]
    },
    {
     "data": {
      "application/vnd.jupyter.widget-view+json": {
       "model_id": "67d975391eb84d8f940625a352eb4c7c",
       "version_major": 2,
       "version_minor": 0
      },
      "text/plain": [
       "HBox(children=(IntProgress(value=0, description='Padding', max=428, style=ProgressStyle(description_width='ini…"
      ]
     },
     "metadata": {},
     "output_type": "display_data"
    },
    {
     "name": "stdout",
     "output_type": "stream",
     "text": [
      "\n"
     ]
    },
    {
     "data": {
      "application/vnd.jupyter.widget-view+json": {
       "model_id": "dad6c8c87fe442ddaff8e3a1a0337a33",
       "version_major": 2,
       "version_minor": 0
      },
      "text/plain": [
       "HBox(children=(IntProgress(value=1, bar_style='info', max=1), HTML(value='')))"
      ]
     },
     "metadata": {},
     "output_type": "display_data"
    },
    {
     "name": "stdout",
     "output_type": "stream",
     "text": [
      "\n",
      "Accuracy:\t0.8067\t\tF1-score:\t0.893\t\t"
     ]
    }
   ],
   "source": [
    "X1, X2 = data_loader(test_df_1, test_df_2)\n",
    "\n",
    "pred_list = np.array([])\n",
    "y_true = np.array([])\n",
    "y_pred = np.array([])\n",
    "att1_list = []\n",
    "att2_list = []\n",
    "for a, b in tqdm(zip(X1, X2)):\n",
    "    # Send data to graphic card - Cuda0\n",
    "    a, b = to_cuda(a), to_cuda(b)\n",
    "    with torch.no_grad():\n",
    "        pred = model(a, b)\n",
    "        pred = pred.cpu()\n",
    "#         att1 = att1.cpu()\n",
    "#         att2 = att2.cpu()\n",
    "        y_true_curr = np.ones(len(pred))\n",
    "        y_true = np.concatenate([y_true, y_true_curr])\n",
    "\n",
    "        y_pred_curr = np.ones(len(pred))\n",
    "        y_pred_curr[np.where(pred <= 0)[0]] = 0\n",
    "        y_pred = np.concatenate([y_pred, y_pred_curr])\n",
    "        \n",
    "        pred_list = np.concatenate([pred_list, pred.squeeze().data.numpy()])\n",
    "#         att1_list.append(att1)\n",
    "#         att2_list.append(att2)\n",
    "\n",
    "print('Accuracy:\\t{}\\t\\tF1-score:\\t{}\\t\\t'.format(\n",
    "    round(accuracy_score(y_true, y_pred), 4),\n",
    "    round(f1_score(y_true, y_pred), 4)), end='')"
   ]
  },
  {
   "cell_type": "code",
   "execution_count": 15,
   "metadata": {},
   "outputs": [
    {
     "data": {
      "text/html": [
       "<div>\n",
       "<style scoped>\n",
       "    .dataframe tbody tr th:only-of-type {\n",
       "        vertical-align: middle;\n",
       "    }\n",
       "\n",
       "    .dataframe tbody tr th {\n",
       "        vertical-align: top;\n",
       "    }\n",
       "\n",
       "    .dataframe thead th {\n",
       "        text-align: right;\n",
       "    }\n",
       "</style>\n",
       "<table border=\"1\" class=\"dataframe\">\n",
       "  <thead>\n",
       "    <tr style=\"text-align: right;\">\n",
       "      <th></th>\n",
       "      <th>address</th>\n",
       "      <th>content</th>\n",
       "    </tr>\n",
       "  </thead>\n",
       "  <tbody>\n",
       "    <tr>\n",
       "      <th>1</th>\n",
       "      <td>12124 Rojas Dr, STE Suite 1200, El Paso, US 79936</td>\n",
       "      <td>12124 rojas dr, ste suite 1200, el paso, us 79936</td>\n",
       "    </tr>\n",
       "    <tr>\n",
       "      <th>4</th>\n",
       "      <td>SheYang Economic Development Zone, , Yancheng,...</td>\n",
       "      <td>sheyang economic development zone, , yancheng,...</td>\n",
       "    </tr>\n",
       "    <tr>\n",
       "      <th>6</th>\n",
       "      <td>458 2ND AVEN, TIFFIN, US 44883</td>\n",
       "      <td>458 2nd aven, tiffin, us 44883</td>\n",
       "    </tr>\n",
       "    <tr>\n",
       "      <th>8</th>\n",
       "      <td>Chuangye Road , Chengnan Development Area, Yua...</td>\n",
       "      <td>chuangye road , chengnan development area, yua...</td>\n",
       "    </tr>\n",
       "    <tr>\n",
       "      <th>9</th>\n",
       "      <td>56/1, Block # C, Section # 13, Mirpur, Dhaka-1...</td>\n",
       "      <td>56/1, block # c, section # 13, mirpur, dhaka-1...</td>\n",
       "    </tr>\n",
       "    <tr>\n",
       "      <th>...</th>\n",
       "      <td>...</td>\n",
       "      <td>...</td>\n",
       "    </tr>\n",
       "    <tr>\n",
       "      <th>389</th>\n",
       "      <td>Garden town, Buttar road, daska road, Sialkot.</td>\n",
       "      <td>garden town, buttar road, daska road, sialkot.</td>\n",
       "    </tr>\n",
       "    <tr>\n",
       "      <th>411</th>\n",
       "      <td>PHUM PREY RORKA, KHUM CHORKCHENEANG, SORK ANGS...</td>\n",
       "      <td>phum prey rorka, khum chorkcheneang, sork angs...</td>\n",
       "    </tr>\n",
       "    <tr>\n",
       "      <th>413</th>\n",
       "      <td>79 North Qingyang Road, Changzhou City, Jiangs...</td>\n",
       "      <td>79 north qingyang road, changzhou city, jiangs...</td>\n",
       "    </tr>\n",
       "    <tr>\n",
       "      <th>415</th>\n",
       "      <td>#1 Fuyou rd. Guangling area, Yangzhou</td>\n",
       "      <td>#1 fuyou rd. guangling area, yangzhou</td>\n",
       "    </tr>\n",
       "    <tr>\n",
       "      <th>418</th>\n",
       "      <td>Ying Hua Village Industrial Park</td>\n",
       "      <td>ying hua village industrial park</td>\n",
       "    </tr>\n",
       "  </tbody>\n",
       "</table>\n",
       "<p>65 rows × 2 columns</p>\n",
       "</div>"
      ],
      "text/plain": [
       "                                               address  \\\n",
       "1    12124 Rojas Dr, STE Suite 1200, El Paso, US 79936   \n",
       "4    SheYang Economic Development Zone, , Yancheng,...   \n",
       "6                       458 2ND AVEN, TIFFIN, US 44883   \n",
       "8    Chuangye Road , Chengnan Development Area, Yua...   \n",
       "9    56/1, Block # C, Section # 13, Mirpur, Dhaka-1...   \n",
       "..                                                 ...   \n",
       "389     Garden town, Buttar road, daska road, Sialkot.   \n",
       "411  PHUM PREY RORKA, KHUM CHORKCHENEANG, SORK ANGS...   \n",
       "413  79 North Qingyang Road, Changzhou City, Jiangs...   \n",
       "415              #1 Fuyou rd. Guangling area, Yangzhou   \n",
       "418                   Ying Hua Village Industrial Park   \n",
       "\n",
       "                                               content  \n",
       "1    12124 rojas dr, ste suite 1200, el paso, us 79936  \n",
       "4    sheyang economic development zone, , yancheng,...  \n",
       "6                       458 2nd aven, tiffin, us 44883  \n",
       "8    chuangye road , chengnan development area, yua...  \n",
       "9    56/1, block # c, section # 13, mirpur, dhaka-1...  \n",
       "..                                                 ...  \n",
       "389     garden town, buttar road, daska road, sialkot.  \n",
       "411  phum prey rorka, khum chorkcheneang, sork angs...  \n",
       "413  79 north qingyang road, changzhou city, jiangs...  \n",
       "415              #1 fuyou rd. guangling area, yangzhou  \n",
       "418                   ying hua village industrial park  \n",
       "\n",
       "[65 rows x 2 columns]"
      ]
     },
     "execution_count": 15,
     "metadata": {},
     "output_type": "execute_result"
    }
   ],
   "source": [
    "test_df_1.iloc[np.where(pred<=0)[0]]"
   ]
  },
  {
   "cell_type": "code",
   "execution_count": 13,
   "metadata": {},
   "outputs": [
    {
     "data": {
      "text/html": [
       "<div>\n",
       "<style scoped>\n",
       "    .dataframe tbody tr th:only-of-type {\n",
       "        vertical-align: middle;\n",
       "    }\n",
       "\n",
       "    .dataframe tbody tr th {\n",
       "        vertical-align: top;\n",
       "    }\n",
       "\n",
       "    .dataframe thead th {\n",
       "        text-align: right;\n",
       "    }\n",
       "</style>\n",
       "<table border=\"1\" class=\"dataframe\">\n",
       "  <thead>\n",
       "    <tr style=\"text-align: right;\">\n",
       "      <th></th>\n",
       "      <th>duplicated_address</th>\n",
       "      <th>content</th>\n",
       "    </tr>\n",
       "  </thead>\n",
       "  <tbody>\n",
       "    <tr>\n",
       "      <th>26</th>\n",
       "      <td>181 Freeman Ave, Islip, US 11751</td>\n",
       "      <td>181 freeman ave, islip, us 11751</td>\n",
       "    </tr>\n",
       "    <tr>\n",
       "      <th>54</th>\n",
       "      <td>NO.175, XIANYOU, PUTIAN, CN</td>\n",
       "      <td>no.175, xianyou, putian, cn</td>\n",
       "    </tr>\n",
       "    <tr>\n",
       "      <th>63</th>\n",
       "      <td>No.76 Sunwu Road, Xukou Town, Wuzhong District...</td>\n",
       "      <td>no.76 sunwu road, xukou town, wuzhong district...</td>\n",
       "    </tr>\n",
       "    <tr>\n",
       "      <th>73</th>\n",
       "      <td>1 Tsvi Borenstein, PO Box 16, Yeruham, IL 80500</td>\n",
       "      <td>1 tsvi borenstein, po box 16, yeruham, il 80500</td>\n",
       "    </tr>\n",
       "    <tr>\n",
       "      <th>74</th>\n",
       "      <td>No.495, Quyuan North Road, Wukang Town, Deqing...</td>\n",
       "      <td>no.495, quyuan north road, wukang town, deqing...</td>\n",
       "    </tr>\n",
       "    <tr>\n",
       "      <th>113</th>\n",
       "      <td>1980 Industrial Drive, Sterling,USA</td>\n",
       "      <td>1980 industrial drive, sterling,usa</td>\n",
       "    </tr>\n",
       "    <tr>\n",
       "      <th>156</th>\n",
       "      <td>Missing Address</td>\n",
       "      <td>missing address</td>\n",
       "    </tr>\n",
       "    <tr>\n",
       "      <th>195</th>\n",
       "      <td>NO.7 QILIANG ROAD ,HUAFU INDUSTRIAL &amp; TRADING ...</td>\n",
       "      <td>no.7 qiliang road ,huafu industrial &amp; trading ...</td>\n",
       "    </tr>\n",
       "    <tr>\n",
       "      <th>208</th>\n",
       "      <td>No.15, Fengzu Road STE Paitou town, zhuji, CN ...</td>\n",
       "      <td>no.15, fengzu road ste paitou town, zhuji, cn ...</td>\n",
       "    </tr>\n",
       "    <tr>\n",
       "      <th>217</th>\n",
       "      <td>No.135 Zhaofeng Road, Leyu Town, Zhangjiagang,...</td>\n",
       "      <td>no.135 zhaofeng road, leyu town, zhangjiagang,...</td>\n",
       "    </tr>\n",
       "    <tr>\n",
       "      <th>218</th>\n",
       "      <td>Metal Industry,Feie Ling Hadi Town, Dongguan, ...</td>\n",
       "      <td>metal industry,feie ling hadi town, dongguan, ...</td>\n",
       "    </tr>\n",
       "    <tr>\n",
       "      <th>225</th>\n",
       "      <td>21-B Weaving Industry Park, Bobai County, Yuli...</td>\n",
       "      <td>21-b weaving industry park, bobai county, yuli...</td>\n",
       "    </tr>\n",
       "    <tr>\n",
       "      <th>248</th>\n",
       "      <td>251 Herrod Blvd.</td>\n",
       "      <td>251 herrod blvd.</td>\n",
       "    </tr>\n",
       "    <tr>\n",
       "      <th>307</th>\n",
       "      <td>No.15 Yongxing Road, Chengdong Industrial Park...</td>\n",
       "      <td>no.15 yongxing road, chengdong industrial park...</td>\n",
       "    </tr>\n",
       "    <tr>\n",
       "      <th>316</th>\n",
       "      <td>FLAT 9, 2 ROAD, YINJIAN, DALUOTANG, SHATOU STR...</td>\n",
       "      <td>flat 9, 2 road, yinjian, daluotang, shatou str...</td>\n",
       "    </tr>\n",
       "    <tr>\n",
       "      <th>350</th>\n",
       "      <td>NO.568, XING PING 4TH ROAD, PINGHU ECONOMIC DE...</td>\n",
       "      <td>no.568, xing ping 4th road, pinghu economic de...</td>\n",
       "    </tr>\n",
       "    <tr>\n",
       "      <th>431</th>\n",
       "      <td>No.6 Shengfeng Road, Xindeng Town, Fuyang Dist...</td>\n",
       "      <td>no.6 shengfeng road, xindeng town, fuyang dist...</td>\n",
       "    </tr>\n",
       "  </tbody>\n",
       "</table>\n",
       "</div>"
      ],
      "text/plain": [
       "                                    duplicated_address  \\\n",
       "26                    181 Freeman Ave, Islip, US 11751   \n",
       "54                         NO.175, XIANYOU, PUTIAN, CN   \n",
       "63   No.76 Sunwu Road, Xukou Town, Wuzhong District...   \n",
       "73     1 Tsvi Borenstein, PO Box 16, Yeruham, IL 80500   \n",
       "74   No.495, Quyuan North Road, Wukang Town, Deqing...   \n",
       "113                1980 Industrial Drive, Sterling,USA   \n",
       "156                                    Missing Address   \n",
       "195  NO.7 QILIANG ROAD ,HUAFU INDUSTRIAL & TRADING ...   \n",
       "208  No.15, Fengzu Road STE Paitou town, zhuji, CN ...   \n",
       "217  No.135 Zhaofeng Road, Leyu Town, Zhangjiagang,...   \n",
       "218  Metal Industry,Feie Ling Hadi Town, Dongguan, ...   \n",
       "225  21-B Weaving Industry Park, Bobai County, Yuli...   \n",
       "248                                   251 Herrod Blvd.   \n",
       "307  No.15 Yongxing Road, Chengdong Industrial Park...   \n",
       "316  FLAT 9, 2 ROAD, YINJIAN, DALUOTANG, SHATOU STR...   \n",
       "350  NO.568, XING PING 4TH ROAD, PINGHU ECONOMIC DE...   \n",
       "431  No.6 Shengfeng Road, Xindeng Town, Fuyang Dist...   \n",
       "\n",
       "                                               content  \n",
       "26                    181 freeman ave, islip, us 11751  \n",
       "54                         no.175, xianyou, putian, cn  \n",
       "63   no.76 sunwu road, xukou town, wuzhong district...  \n",
       "73     1 tsvi borenstein, po box 16, yeruham, il 80500  \n",
       "74   no.495, quyuan north road, wukang town, deqing...  \n",
       "113                1980 industrial drive, sterling,usa  \n",
       "156                                    missing address  \n",
       "195  no.7 qiliang road ,huafu industrial & trading ...  \n",
       "208  no.15, fengzu road ste paitou town, zhuji, cn ...  \n",
       "217  no.135 zhaofeng road, leyu town, zhangjiagang,...  \n",
       "218  metal industry,feie ling hadi town, dongguan, ...  \n",
       "225  21-b weaving industry park, bobai county, yuli...  \n",
       "248                                   251 herrod blvd.  \n",
       "307  no.15 yongxing road, chengdong industrial park...  \n",
       "316  flat 9, 2 road, yinjian, daluotang, shatou str...  \n",
       "350  no.568, xing ping 4th road, pinghu economic de...  \n",
       "431  no.6 shengfeng road, xindeng town, fuyang dist...  "
      ]
     },
     "execution_count": 13,
     "metadata": {},
     "output_type": "execute_result"
    }
   ],
   "source": [
    "test_df_2.iloc[np.where(pred<=0)[0]]"
   ]
  },
  {
   "cell_type": "markdown",
   "metadata": {},
   "source": [
    "## Test 1"
   ]
  },
  {
   "cell_type": "code",
   "execution_count": 29,
   "metadata": {},
   "outputs": [
    {
     "data": {
      "application/vnd.jupyter.widget-view+json": {
       "model_id": "cebf1b85e4e04ff78b0b718c69f269a9",
       "version_major": 2,
       "version_minor": 0
      },
      "text/plain": [
       "HBox(children=(IntProgress(value=0, description='Padding', max=1000, style=ProgressStyle(description_width='in…"
      ]
     },
     "metadata": {},
     "output_type": "display_data"
    },
    {
     "name": "stdout",
     "output_type": "stream",
     "text": [
      "\n"
     ]
    },
    {
     "data": {
      "application/vnd.jupyter.widget-view+json": {
       "model_id": "d421fe4b0fab465897c9b7655e4a52a4",
       "version_major": 2,
       "version_minor": 0
      },
      "text/plain": [
       "HBox(children=(IntProgress(value=0, description='Padding', max=1000, style=ProgressStyle(description_width='in…"
      ]
     },
     "metadata": {},
     "output_type": "display_data"
    },
    {
     "name": "stdout",
     "output_type": "stream",
     "text": [
      "\n"
     ]
    },
    {
     "data": {
      "application/vnd.jupyter.widget-view+json": {
       "model_id": "d4941436e5f84633a2bef0037b266cdf",
       "version_major": 2,
       "version_minor": 0
      },
      "text/plain": [
       "HBox(children=(IntProgress(value=1, bar_style='info', max=1), HTML(value='')))"
      ]
     },
     "metadata": {},
     "output_type": "display_data"
    },
    {
     "name": "stdout",
     "output_type": "stream",
     "text": [
      "\n",
      "Accuracy:\t0.6653\t\tF1-score:\t0.7148\t\t"
     ]
    },
    {
     "data": {
      "application/vnd.jupyter.widget-view+json": {
       "model_id": "26ab3390961d42cd8234851535b78e6a",
       "version_major": 2,
       "version_minor": 0
      },
      "text/plain": [
       "HBox(children=(IntProgress(value=0, description='Padding', max=1000, style=ProgressStyle(description_width='in…"
      ]
     },
     "metadata": {},
     "output_type": "display_data"
    },
    {
     "name": "stdout",
     "output_type": "stream",
     "text": [
      "\n"
     ]
    },
    {
     "data": {
      "application/vnd.jupyter.widget-view+json": {
       "model_id": "b82ea133b3ef4cd4984dba2d75a32898",
       "version_major": 2,
       "version_minor": 0
      },
      "text/plain": [
       "HBox(children=(IntProgress(value=0, description='Padding', max=1000, style=ProgressStyle(description_width='in…"
      ]
     },
     "metadata": {},
     "output_type": "display_data"
    },
    {
     "name": "stdout",
     "output_type": "stream",
     "text": [
      "\n"
     ]
    },
    {
     "data": {
      "application/vnd.jupyter.widget-view+json": {
       "model_id": "c8b11dfae077456f98eac24c97e4de2c",
       "version_major": 2,
       "version_minor": 0
      },
      "text/plain": [
       "HBox(children=(IntProgress(value=1, bar_style='info', max=1), HTML(value='')))"
      ]
     },
     "metadata": {},
     "output_type": "display_data"
    },
    {
     "name": "stdout",
     "output_type": "stream",
     "text": [
      "\n",
      "Accuracy:\t0.6653\t\tF1-score:\t0.7165\t\t"
     ]
    },
    {
     "data": {
      "application/vnd.jupyter.widget-view+json": {
       "model_id": "e02b7ab11ccf4f25b85375c21f62263b",
       "version_major": 2,
       "version_minor": 0
      },
      "text/plain": [
       "HBox(children=(IntProgress(value=0, description='Padding', max=1000, style=ProgressStyle(description_width='in…"
      ]
     },
     "metadata": {},
     "output_type": "display_data"
    },
    {
     "name": "stdout",
     "output_type": "stream",
     "text": [
      "\n"
     ]
    },
    {
     "data": {
      "application/vnd.jupyter.widget-view+json": {
       "model_id": "39bd5b218db249f9a4d09966be063858",
       "version_major": 2,
       "version_minor": 0
      },
      "text/plain": [
       "HBox(children=(IntProgress(value=0, description='Padding', max=1000, style=ProgressStyle(description_width='in…"
      ]
     },
     "metadata": {},
     "output_type": "display_data"
    },
    {
     "name": "stdout",
     "output_type": "stream",
     "text": [
      "\n"
     ]
    },
    {
     "data": {
      "application/vnd.jupyter.widget-view+json": {
       "model_id": "237d365999a94911b1fb632b17c49632",
       "version_major": 2,
       "version_minor": 0
      },
      "text/plain": [
       "HBox(children=(IntProgress(value=1, bar_style='info', max=1), HTML(value='')))"
      ]
     },
     "metadata": {},
     "output_type": "display_data"
    },
    {
     "name": "stdout",
     "output_type": "stream",
     "text": [
      "\n",
      "Accuracy:\t0.6639\t\tF1-score:\t0.7104\t\t"
     ]
    },
    {
     "data": {
      "application/vnd.jupyter.widget-view+json": {
       "model_id": "092148f293da494f9db100321b44ca26",
       "version_major": 2,
       "version_minor": 0
      },
      "text/plain": [
       "HBox(children=(IntProgress(value=0, description='Padding', max=1000, style=ProgressStyle(description_width='in…"
      ]
     },
     "metadata": {},
     "output_type": "display_data"
    },
    {
     "name": "stdout",
     "output_type": "stream",
     "text": [
      "\n"
     ]
    },
    {
     "data": {
      "application/vnd.jupyter.widget-view+json": {
       "model_id": "d4264e63d73749208a673818edd6d4d3",
       "version_major": 2,
       "version_minor": 0
      },
      "text/plain": [
       "HBox(children=(IntProgress(value=0, description='Padding', max=1000, style=ProgressStyle(description_width='in…"
      ]
     },
     "metadata": {},
     "output_type": "display_data"
    },
    {
     "name": "stdout",
     "output_type": "stream",
     "text": [
      "\n"
     ]
    },
    {
     "data": {
      "application/vnd.jupyter.widget-view+json": {
       "model_id": "4f3e670c362c45bbaa1b21d6883e019c",
       "version_major": 2,
       "version_minor": 0
      },
      "text/plain": [
       "HBox(children=(IntProgress(value=1, bar_style='info', max=1), HTML(value='')))"
      ]
     },
     "metadata": {},
     "output_type": "display_data"
    },
    {
     "name": "stdout",
     "output_type": "stream",
     "text": [
      "\n",
      "Accuracy:\t0.6886\t\tF1-score:\t0.7351\t\t"
     ]
    },
    {
     "data": {
      "application/vnd.jupyter.widget-view+json": {
       "model_id": "1743857f59a34ce7a15708e03f5ae431",
       "version_major": 2,
       "version_minor": 0
      },
      "text/plain": [
       "HBox(children=(IntProgress(value=0, description='Padding', max=1000, style=ProgressStyle(description_width='in…"
      ]
     },
     "metadata": {},
     "output_type": "display_data"
    },
    {
     "name": "stdout",
     "output_type": "stream",
     "text": [
      "\n"
     ]
    },
    {
     "data": {
      "application/vnd.jupyter.widget-view+json": {
       "model_id": "02be5f4ba9c14acab7f4a9ccd1183a2a",
       "version_major": 2,
       "version_minor": 0
      },
      "text/plain": [
       "HBox(children=(IntProgress(value=0, description='Padding', max=1000, style=ProgressStyle(description_width='in…"
      ]
     },
     "metadata": {},
     "output_type": "display_data"
    },
    {
     "name": "stdout",
     "output_type": "stream",
     "text": [
      "\n"
     ]
    },
    {
     "data": {
      "application/vnd.jupyter.widget-view+json": {
       "model_id": "20f1c394bebf49a5b0a02a3db880e0e1",
       "version_major": 2,
       "version_minor": 0
      },
      "text/plain": [
       "HBox(children=(IntProgress(value=1, bar_style='info', max=1), HTML(value='')))"
      ]
     },
     "metadata": {},
     "output_type": "display_data"
    },
    {
     "name": "stdout",
     "output_type": "stream",
     "text": [
      "\n",
      "Accuracy:\t0.6735\t\tF1-score:\t0.7241\t\t"
     ]
    },
    {
     "data": {
      "application/vnd.jupyter.widget-view+json": {
       "model_id": "59adea29e03c4c4fa1fa9e750bc35954",
       "version_major": 2,
       "version_minor": 0
      },
      "text/plain": [
       "HBox(children=(IntProgress(value=0, description='Padding', max=1000, style=ProgressStyle(description_width='in…"
      ]
     },
     "metadata": {},
     "output_type": "display_data"
    },
    {
     "name": "stdout",
     "output_type": "stream",
     "text": [
      "\n"
     ]
    },
    {
     "data": {
      "application/vnd.jupyter.widget-view+json": {
       "model_id": "c8319f1c2b0a48c4be432b6667ad7df4",
       "version_major": 2,
       "version_minor": 0
      },
      "text/plain": [
       "HBox(children=(IntProgress(value=0, description='Padding', max=1000, style=ProgressStyle(description_width='in…"
      ]
     },
     "metadata": {},
     "output_type": "display_data"
    },
    {
     "name": "stdout",
     "output_type": "stream",
     "text": [
      "\n"
     ]
    },
    {
     "data": {
      "application/vnd.jupyter.widget-view+json": {
       "model_id": "22740dbcbb5343679ba1a211549db5fd",
       "version_major": 2,
       "version_minor": 0
      },
      "text/plain": [
       "HBox(children=(IntProgress(value=1, bar_style='info', max=1), HTML(value='')))"
      ]
     },
     "metadata": {},
     "output_type": "display_data"
    },
    {
     "name": "stdout",
     "output_type": "stream",
     "text": [
      "\n",
      "Accuracy:\t0.6505\t\tF1-score:\t0.7043\t\t"
     ]
    },
    {
     "data": {
      "application/vnd.jupyter.widget-view+json": {
       "model_id": "4843f9a5b7224358b8ab23ce67a0254b",
       "version_major": 2,
       "version_minor": 0
      },
      "text/plain": [
       "HBox(children=(IntProgress(value=0, description='Padding', max=1000, style=ProgressStyle(description_width='in…"
      ]
     },
     "metadata": {},
     "output_type": "display_data"
    },
    {
     "name": "stdout",
     "output_type": "stream",
     "text": [
      "\n"
     ]
    },
    {
     "data": {
      "application/vnd.jupyter.widget-view+json": {
       "model_id": "ede68965803b484392a448fe328b6718",
       "version_major": 2,
       "version_minor": 0
      },
      "text/plain": [
       "HBox(children=(IntProgress(value=0, description='Padding', max=1000, style=ProgressStyle(description_width='in…"
      ]
     },
     "metadata": {},
     "output_type": "display_data"
    },
    {
     "name": "stdout",
     "output_type": "stream",
     "text": [
      "\n"
     ]
    },
    {
     "data": {
      "application/vnd.jupyter.widget-view+json": {
       "model_id": "f2c9abc1dd554fecb2b7a08f0c746235",
       "version_major": 2,
       "version_minor": 0
      },
      "text/plain": [
       "HBox(children=(IntProgress(value=1, bar_style='info', max=1), HTML(value='')))"
      ]
     },
     "metadata": {},
     "output_type": "display_data"
    },
    {
     "name": "stdout",
     "output_type": "stream",
     "text": [
      "\n",
      "Accuracy:\t0.6578\t\tF1-score:\t0.7098\t\t"
     ]
    },
    {
     "data": {
      "application/vnd.jupyter.widget-view+json": {
       "model_id": "7fa6d83332144ca094feb6d93afe84ee",
       "version_major": 2,
       "version_minor": 0
      },
      "text/plain": [
       "HBox(children=(IntProgress(value=0, description='Padding', max=1000, style=ProgressStyle(description_width='in…"
      ]
     },
     "metadata": {},
     "output_type": "display_data"
    },
    {
     "name": "stdout",
     "output_type": "stream",
     "text": [
      "\n"
     ]
    },
    {
     "data": {
      "application/vnd.jupyter.widget-view+json": {
       "model_id": "d6d5f97d0c9f49ac82ec3a5e08bfce93",
       "version_major": 2,
       "version_minor": 0
      },
      "text/plain": [
       "HBox(children=(IntProgress(value=0, description='Padding', max=1000, style=ProgressStyle(description_width='in…"
      ]
     },
     "metadata": {},
     "output_type": "display_data"
    },
    {
     "name": "stdout",
     "output_type": "stream",
     "text": [
      "\n"
     ]
    },
    {
     "data": {
      "application/vnd.jupyter.widget-view+json": {
       "model_id": "6bf637f55be045e8a51b3190a9fd1b82",
       "version_major": 2,
       "version_minor": 0
      },
      "text/plain": [
       "HBox(children=(IntProgress(value=1, bar_style='info', max=1), HTML(value='')))"
      ]
     },
     "metadata": {},
     "output_type": "display_data"
    },
    {
     "name": "stdout",
     "output_type": "stream",
     "text": [
      "\n",
      "Accuracy:\t0.6565\t\tF1-score:\t0.7131\t\t"
     ]
    },
    {
     "data": {
      "application/vnd.jupyter.widget-view+json": {
       "model_id": "4cc06c9aa0df4a45af1f72a14b77141c",
       "version_major": 2,
       "version_minor": 0
      },
      "text/plain": [
       "HBox(children=(IntProgress(value=0, description='Padding', max=1000, style=ProgressStyle(description_width='in…"
      ]
     },
     "metadata": {},
     "output_type": "display_data"
    },
    {
     "name": "stdout",
     "output_type": "stream",
     "text": [
      "\n"
     ]
    },
    {
     "data": {
      "application/vnd.jupyter.widget-view+json": {
       "model_id": "ee22f80c93a046b886694b61475467b6",
       "version_major": 2,
       "version_minor": 0
      },
      "text/plain": [
       "HBox(children=(IntProgress(value=0, description='Padding', max=1000, style=ProgressStyle(description_width='in…"
      ]
     },
     "metadata": {},
     "output_type": "display_data"
    },
    {
     "name": "stdout",
     "output_type": "stream",
     "text": [
      "\n"
     ]
    },
    {
     "data": {
      "application/vnd.jupyter.widget-view+json": {
       "model_id": "15e6678bdca149bbb9268bbace88496b",
       "version_major": 2,
       "version_minor": 0
      },
      "text/plain": [
       "HBox(children=(IntProgress(value=1, bar_style='info', max=1), HTML(value='')))"
      ]
     },
     "metadata": {},
     "output_type": "display_data"
    },
    {
     "name": "stdout",
     "output_type": "stream",
     "text": [
      "\n",
      "Accuracy:\t0.6595\t\tF1-score:\t0.7121\t\t"
     ]
    },
    {
     "data": {
      "application/vnd.jupyter.widget-view+json": {
       "model_id": "b05e41e197044843940af37ac50c1654",
       "version_major": 2,
       "version_minor": 0
      },
      "text/plain": [
       "HBox(children=(IntProgress(value=0, description='Padding', max=1000, style=ProgressStyle(description_width='in…"
      ]
     },
     "metadata": {},
     "output_type": "display_data"
    },
    {
     "name": "stdout",
     "output_type": "stream",
     "text": [
      "\n"
     ]
    },
    {
     "data": {
      "application/vnd.jupyter.widget-view+json": {
       "model_id": "0bcdc63d756d41d1ad9cfcafa6bf5c4c",
       "version_major": 2,
       "version_minor": 0
      },
      "text/plain": [
       "HBox(children=(IntProgress(value=0, description='Padding', max=1000, style=ProgressStyle(description_width='in…"
      ]
     },
     "metadata": {},
     "output_type": "display_data"
    },
    {
     "name": "stdout",
     "output_type": "stream",
     "text": [
      "\n"
     ]
    },
    {
     "data": {
      "application/vnd.jupyter.widget-view+json": {
       "model_id": "2f44f28e058d4d3c9194e0102679c0a2",
       "version_major": 2,
       "version_minor": 0
      },
      "text/plain": [
       "HBox(children=(IntProgress(value=1, bar_style='info', max=1), HTML(value='')))"
      ]
     },
     "metadata": {},
     "output_type": "display_data"
    },
    {
     "name": "stdout",
     "output_type": "stream",
     "text": [
      "\n",
      "Accuracy:\t0.6643\t\tF1-score:\t0.7135\t\tAccuracy:\t0.6645\t\tF1-score:\t0.7154\t\t"
     ]
    }
   ],
   "source": [
    "test1_n = 500\n",
    "total_acc = 0\n",
    "total_f1 = 0\n",
    "for i in range (0, 10):\n",
    "    test_df_1a, test_df_1b = create_test(test1_n)\n",
    "    X1, X2 = data_loader(test_df_1a, test_df_1b)\n",
    "\n",
    "    pred_list = np.array([])\n",
    "    y_true = np.array([])\n",
    "    y_pred = np.array([])\n",
    "    # att1_list = []\n",
    "    # att2_list = []\n",
    "    for a, b in tqdm(zip(X1, X2)):\n",
    "        # Send data to graphic card - Cuda0\n",
    "        a, b = to_cuda(a), to_cuda(b)\n",
    "        with torch.no_grad():\n",
    "            pred = model(a, b)\n",
    "            pred = pred.cpu()\n",
    "    #         att1 = att1.cpu()\n",
    "    #         att2 = att2.cpu()\n",
    "            y_true_curr = np.zeros(len(pred))\n",
    "            y_true_curr[test1_n:] = 1\n",
    "            y_true = np.concatenate([y_true, y_true_curr])\n",
    "\n",
    "            y_pred_curr = np.ones(len(pred))\n",
    "            y_pred_curr[np.where(pred <= 0)[0]] = 0\n",
    "            y_pred = np.concatenate([y_pred, y_pred_curr])\n",
    "\n",
    "            pred_list = np.concatenate([pred_list, pred.squeeze().data.numpy()])\n",
    "    #         att1_list.append(att1)\n",
    "    #         att2_list.append(att2)\n",
    "    total_acc += accuracy_score(y_true, y_pred)\n",
    "    total_f1 += f1_score(y_true, y_pred)\n",
    "    print('Accuracy:\\t{}\\t\\tF1-score:\\t{}\\t\\t'.format(\n",
    "        round(accuracy_score(y_true, y_pred), 4),\n",
    "        round(f1_score(y_true, y_pred), 4)), end='')\n",
    "    \n",
    "print('\\nAccuracy:\\t{}\\t\\tF1-score:\\t{}\\t\\t'.format(\n",
    "        round(total_acc/10, 4),\n",
    "        round(total_f1/10, 4)))"
   ]
  },
  {
   "cell_type": "markdown",
   "metadata": {},
   "source": [
    "## Test 2"
   ]
  },
  {
   "cell_type": "code",
   "execution_count": 16,
   "metadata": {},
   "outputs": [],
   "source": [
    "test2_n = 1000\n",
    "test_df_1a, test_df_1b = create_test(test2_n)"
   ]
  },
  {
   "cell_type": "code",
   "execution_count": 17,
   "metadata": {},
   "outputs": [
    {
     "data": {
      "application/vnd.jupyter.widget-view+json": {
       "model_id": "2beb626cf1d94197a0ae867cc0dee59b",
       "version_major": 2,
       "version_minor": 0
      },
      "text/plain": [
       "HBox(children=(IntProgress(value=0, description='Padding', max=2000, style=ProgressStyle(description_width='in…"
      ]
     },
     "metadata": {},
     "output_type": "display_data"
    },
    {
     "name": "stdout",
     "output_type": "stream",
     "text": [
      "\n"
     ]
    },
    {
     "data": {
      "application/vnd.jupyter.widget-view+json": {
       "model_id": "ae041b2dc5b042debef0caa79b09116c",
       "version_major": 2,
       "version_minor": 0
      },
      "text/plain": [
       "HBox(children=(IntProgress(value=0, description='Padding', max=2000, style=ProgressStyle(description_width='in…"
      ]
     },
     "metadata": {},
     "output_type": "display_data"
    },
    {
     "name": "stdout",
     "output_type": "stream",
     "text": [
      "\n"
     ]
    },
    {
     "data": {
      "application/vnd.jupyter.widget-view+json": {
       "model_id": "f1178e866c364f5a8a18d95941decdec",
       "version_major": 2,
       "version_minor": 0
      },
      "text/plain": [
       "HBox(children=(IntProgress(value=1, bar_style='info', max=1), HTML(value='')))"
      ]
     },
     "metadata": {},
     "output_type": "display_data"
    },
    {
     "name": "stdout",
     "output_type": "stream",
     "text": [
      "\n",
      "Accuracy:\t0.8848\t\tF1-score:\t0.8958\t\t"
     ]
    }
   ],
   "source": [
    "X1, X2 = data_loader(test_df_1a, test_df_1b)\n",
    "\n",
    "pred_list = np.array([])\n",
    "y_true = np.array([])\n",
    "y_pred = np.array([])\n",
    "# att1_list = []\n",
    "# att2_list = []\n",
    "for a, b in tqdm(zip(X1, X2)):\n",
    "    # Send data to graphic card - Cuda0\n",
    "    a, b = to_cuda(a), to_cuda(b)\n",
    "    with torch.no_grad():\n",
    "        pred = model(a, b)\n",
    "        pred = pred.cpu()\n",
    "#         att1 = att1.cpu()\n",
    "#         att2 = att2.cpu()\n",
    "        y_true_curr = np.zeros(len(pred))\n",
    "        y_true_curr[test2_n:] = 1\n",
    "        y_true = np.concatenate([y_true, y_true_curr])\n",
    "\n",
    "        y_pred_curr = np.ones(len(pred))\n",
    "        y_pred_curr[np.where(pred <= 0)[0]] = 0\n",
    "        y_pred = np.concatenate([y_pred, y_pred_curr])\n",
    "        \n",
    "        pred_list = np.concatenate([pred_list, pred.squeeze().data.numpy()])\n",
    "#         att1_list.append(att1)\n",
    "#         att2_list.append(att2)\n",
    "\n",
    "print('Accuracy:\\t{}\\t\\tF1-score:\\t{}\\t\\t'.format(\n",
    "    round(accuracy_score(y_true, y_pred), 4),\n",
    "    round(f1_score(y_true, y_pred), 4)), end='')\n"
   ]
  },
  {
   "cell_type": "markdown",
   "metadata": {},
   "source": [
    "# Test with another dataset"
   ]
  },
  {
   "cell_type": "code",
   "execution_count": 16,
   "metadata": {},
   "outputs": [
    {
     "data": {
      "application/vnd.jupyter.widget-view+json": {
       "model_id": "5f2125d59dea422ca55232614a7049c0",
       "version_major": 2,
       "version_minor": 0
      },
      "text/plain": [
       "HBox(children=(IntProgress(value=0, description='Padding', max=132, style=ProgressStyle(description_width='ini…"
      ]
     },
     "metadata": {},
     "output_type": "display_data"
    },
    {
     "name": "stdout",
     "output_type": "stream",
     "text": [
      "\n"
     ]
    },
    {
     "data": {
      "application/vnd.jupyter.widget-view+json": {
       "model_id": "b679fbefaad84724b24a5ffd0c62f10a",
       "version_major": 2,
       "version_minor": 0
      },
      "text/plain": [
       "HBox(children=(IntProgress(value=0, max=8128), HTML(value='')))"
      ]
     },
     "metadata": {},
     "output_type": "display_data"
    },
    {
     "name": "stdout",
     "output_type": "stream",
     "text": [
      "\n"
     ]
    }
   ],
   "source": [
    "fd_df = pd.read_csv(path + 'fd_content.csv').iloc[:132, :]\n",
    "fd_df.fillna('', inplace=True)\n",
    "\n",
    "# test_df = shuffle(test_df)\n",
    "fd_df['content'] = fd_df['address'].str.lower()\n",
    "fd_df['content'] = fd_df['content'].str.replace('\\n', ' ').str.replace(',' ,' ').str.replace(r'[ ]+', ' ', regex=True)\n",
    "\n",
    "fd_df = fd_df.loc[:, ['Unnamed: 0', 'content']]\n",
    "fd_df['cid'] = fd_df.loc[:, 'Unnamed: 0']\n",
    "del(fd_df['Unnamed: 0'])\n",
    "\n",
    "# Padding all data of fd\n",
    "fd_arr, fd_lens = load_padded_data(pd.DataFrame(fd_df), word_to_index, dump_path=None, retrain=True)\n",
    "fd_arr, fd_lens, _ = truncate_non_string(fd_arr, fd_lens)\n",
    "# Split data set to anchor and object and y_true for testing model\n",
    "fd_anchor_arr = []\n",
    "fd_object_arr = []\n",
    "fd_anchor_lens = []\n",
    "fd_object_lens = []\n",
    "\n",
    "y = []\n",
    "for i, j in tqdm(list(itertools.combinations(range(0, len(fd_arr)), 2))):\n",
    "    # Loop through combination of fd dataset\n",
    "    fd_anchor_arr.append(fd_arr[i])\n",
    "    fd_object_arr.append(fd_arr[j])\n",
    "    \n",
    "    fd_anchor_lens.append(fd_lens[i])\n",
    "    fd_object_lens.append(fd_lens[j])\n",
    "    # Get true label by cid (column 1)\n",
    "    y.append(1 if fd_df.iloc[i, 1]==fd_df.iloc[j, 1] else 0)\n",
    "\n",
    "    \n",
    "# convert to numpy array\n",
    "fd_anchor_lens, fd_object_lens = np.array(fd_anchor_lens), np.array(fd_object_lens)\n",
    "y = np.array(y)"
   ]
  },
  {
   "cell_type": "code",
   "execution_count": 17,
   "metadata": {},
   "outputs": [],
   "source": [
    "def to_data_loader(data, batch_size=batch_size):\n",
    "    temp = TensorDataset(torch.cat(fd_anchor_arr).view(8128, -1).type(torch.LongTensor), \n",
    "                                    torch.ByteTensor(data[1]))\n",
    "    return DataLoader(temp, batch_size=batch_size, drop_last=False)"
   ]
  },
  {
   "cell_type": "code",
   "execution_count": 18,
   "metadata": {},
   "outputs": [
    {
     "data": {
      "application/vnd.jupyter.widget-view+json": {
       "model_id": "4a724ad766144ab7b2a91422b9f218b3",
       "version_major": 2,
       "version_minor": 0
      },
      "text/plain": [
       "HBox(children=(IntProgress(value=1, bar_style='info', max=1), HTML(value='')))"
      ]
     },
     "metadata": {},
     "output_type": "display_data"
    },
    {
     "name": "stdout",
     "output_type": "stream",
     "text": [
      "\n",
      "Accuracy:\t0.0416\t\tF1-score:\t0.001\t\t"
     ]
    }
   ],
   "source": [
    "import torch.utils.data as data_utils\n",
    "\n",
    "fd_anchor = to_data_loader([fd_anchor_arr, fd_anchor_lens], batch_size=batch_size)\n",
    "fd_object = to_data_loader([fd_object_arr, fd_object_lens], batch_size=batch_size)\n",
    "y_true = DataLoader(y, batch_size=batch_size, drop_last=False)\n",
    "\n",
    "fd_pred_list = np.array([])\n",
    "fd_y_pred = np.array([])\n",
    "fd_y_true = np.array([])\n",
    "for anc, obj, y_t in tqdm(zip(fd_anchor, fd_object, y_true)):\n",
    "    # Predict for each batch\n",
    "    anc, obj, y_t  = to_cuda(anc), to_cuda(obj), y_t\n",
    "    \n",
    "    with torch.no_grad():\n",
    "        pred = model(anc, obj)\n",
    "        pred = pred.cpu()\n",
    "\n",
    "        y_pred_curr = np.ones(len(pred))\n",
    "        y_pred_curr[np.where(pred <= 0)[0]] = 0\n",
    "        fd_y_pred = np.concatenate([fd_y_pred, y_pred_curr])\n",
    "        \n",
    "        fd_pred_list = np.concatenate([fd_pred_list, pred.squeeze().data.numpy()])\n",
    "        fd_y_true = np.concatenate([fd_y_true, y_t])\n",
    "\n",
    "print('Accuracy:\\t{}\\t\\tF1-score:\\t{}\\t\\t'.format(\n",
    "    round(accuracy_score(fd_y_true, fd_y_pred), 4),\n",
    "    round(f1_score(fd_y_true, fd_y_pred), 4)), end='')\n"
   ]
  },
  {
   "cell_type": "code",
   "execution_count": 19,
   "metadata": {},
   "outputs": [
    {
     "name": "stdout",
     "output_type": "stream",
     "text": [
      "tensor([0.8776, 0.8357, 0.7150, 0.7150, 0.7150, 0.8357, 0.7150, 0.1008, 0.4291,\n",
      "        0.1008, 0.7722, 0.7150, 0.7150, 0.8862, 0.7150, 0.8386, 0.1008, 0.8357,\n",
      "        0.1008, 0.1008, 0.4291, 0.8737, 0.7150, 0.4291, 0.7150, 0.4291, 0.8776,\n",
      "        0.8357, 0.7150, 0.8357, 0.7150, 0.8357, 0.8357, 0.8862, 0.7150, 0.4291,\n",
      "        0.4291, 0.7150, 0.8776, 0.8357, 0.8862, 0.8357, 0.8357, 0.8862, 0.7722,\n",
      "        0.8776, 0.8776, 0.8357, 0.8862, 0.4291, 0.8776, 0.4291, 0.8357, 0.8357,\n",
      "        0.7150, 0.7150, 0.4291, 0.7150, 0.8776, 0.8862, 0.8776, 0.8357, 0.7150,\n",
      "        0.1008, 0.8357, 0.7150, 0.7150, 0.7150, 0.8357, 0.8357, 0.4291, 0.4291,\n",
      "        0.8862, 0.8776, 0.7150, 0.4291, 0.8737, 0.8862, 0.4291, 0.7150, 0.4291,\n",
      "        0.1008, 0.8776, 0.8862, 0.8357, 0.7150, 0.7150, 0.8357, 0.2334, 0.4291,\n",
      "        0.8386, 0.7150, 0.8776, 0.8357, 0.8737, 0.8357, 0.4291, 0.8357, 0.8862,\n",
      "        0.8776])\n"
     ]
    }
   ],
   "source": [
    "print(pred.view(-1)[:100])"
   ]
  },
  {
   "cell_type": "code",
   "execution_count": 20,
   "metadata": {},
   "outputs": [
    {
     "data": {
      "text/plain": [
       "array([0., 0., 0., 0., 0., 0., 0., 0., 0., 0., 0., 0., 0., 0., 0., 0., 0.,\n",
       "       0., 0., 0., 0., 0., 0., 0., 0., 0., 0., 0., 0., 0., 0., 0., 0., 0.,\n",
       "       0., 0., 0., 0., 0., 0., 0., 0., 0., 0., 0., 0., 0., 0., 0., 0., 0.,\n",
       "       0., 0., 0., 0., 0., 0., 0., 0., 0., 0., 0., 0., 0., 0., 0., 0., 0.,\n",
       "       0., 0., 0., 0., 0., 0., 0., 0., 0., 0., 0., 0., 0., 0., 0., 0., 0.,\n",
       "       0., 0., 0., 0., 0., 0., 0., 0., 0., 0., 0., 0., 0., 0., 0.])"
      ]
     },
     "execution_count": 20,
     "metadata": {},
     "output_type": "execute_result"
    }
   ],
   "source": [
    "fd_y_true[:100]"
   ]
  },
  {
   "cell_type": "code",
   "execution_count": 21,
   "metadata": {},
   "outputs": [
    {
     "ename": "NameError",
     "evalue": "name 'fd_obj' is not defined",
     "output_type": "error",
     "traceback": [
      "\u001b[0;31m---------------------------------------------------------------------------\u001b[0m",
      "\u001b[0;31mNameError\u001b[0m                                 Traceback (most recent call last)",
      "\u001b[0;32m<ipython-input-21-707813b5d6ba>\u001b[0m in \u001b[0;36m<module>\u001b[0;34m\u001b[0m\n\u001b[0;32m----> 1\u001b[0;31m \u001b[0mnp\u001b[0m\u001b[0;34m.\u001b[0m\u001b[0marray\u001b[0m\u001b[0;34m(\u001b[0m\u001b[0mfd_obj\u001b[0m\u001b[0;34m)\u001b[0m\u001b[0;34m[\u001b[0m\u001b[0mfd_y_true\u001b[0m \u001b[0;34m!=\u001b[0m \u001b[0mfd_y_pred\u001b[0m\u001b[0;34m]\u001b[0m\u001b[0;34m[\u001b[0m\u001b[0;34m:\u001b[0m\u001b[0;36m5\u001b[0m\u001b[0;34m]\u001b[0m\u001b[0;34m\u001b[0m\u001b[0;34m\u001b[0m\u001b[0m\n\u001b[0m",
      "\u001b[0;31mNameError\u001b[0m: name 'fd_obj' is not defined"
     ]
    }
   ],
   "source": [
    "np.array(fd_obj)[fd_y_true != fd_y_pred][:5]"
   ]
  },
  {
   "cell_type": "code",
   "execution_count": 122,
   "metadata": {},
   "outputs": [
    {
     "data": {
      "text/plain": [
       "array([[1185,  342,  365,    0,    0,    0,    0,    0,    0,    0,    0,\n",
       "           0],\n",
       "       [1185,  342,  365,    0,    0,    0,    0,    0,    0,    0,    0,\n",
       "           0],\n",
       "       [1185,  342,  365,    0,    0,    0,    0,    0,    0,    0,    0,\n",
       "           0],\n",
       "       [1185,  342,  365,    0,    0,    0,    0,    0,    0,    0,    0,\n",
       "           0],\n",
       "       [1185,  342,  365,    0,    0,    0,    0,    0,    0,    0,    0,\n",
       "           0]])"
      ]
     },
     "execution_count": 122,
     "metadata": {},
     "output_type": "execute_result"
    }
   ],
   "source": [
    "np.array(fd_anc)[fd_y_true != fd_y_pred][:5]"
   ]
  },
  {
   "cell_type": "code",
   "execution_count": 123,
   "metadata": {},
   "outputs": [
    {
     "data": {
      "text/plain": [
       "array([1., 1., 1., ..., 1., 1., 1.])"
      ]
     },
     "execution_count": 123,
     "metadata": {},
     "output_type": "execute_result"
    }
   ],
   "source": [
    "fd_y_pred[fd_y_pred != fd_y_true]"
   ]
  }
 ],
 "metadata": {
  "kernelspec": {
   "display_name": "Python 3",
   "language": "python",
   "name": "python3"
  },
  "language_info": {
   "codemirror_mode": {
    "name": "ipython",
    "version": 3
   },
   "file_extension": ".py",
   "mimetype": "text/x-python",
   "name": "python",
   "nbconvert_exporter": "python",
   "pygments_lexer": "ipython3",
   "version": "3.7.5"
  },
  "toc-autonumbering": true,
  "toc-showtags": false,
  "widgets": {
   "application/vnd.jupyter.widget-state+json": {
    "state": {},
    "version_major": 2,
    "version_minor": 0
   }
  }
 },
 "nbformat": 4,
 "nbformat_minor": 4
}
