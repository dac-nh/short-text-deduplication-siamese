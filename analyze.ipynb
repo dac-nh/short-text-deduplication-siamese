{
 "cells": [
  {
   "cell_type": "code",
   "execution_count": 1,
   "metadata": {},
   "outputs": [],
   "source": [
    "import pandas as pd\n",
    "import matplotlib.pyplot as plt\n",
    "import numpy as np\n",
    "import seaborn as sns"
   ]
  },
  {
   "cell_type": "code",
   "execution_count": 11,
   "metadata": {},
   "outputs": [],
   "source": [
    "path = '/data/dac/dedupe-project/openmap-us.csv'\n",
    "df = pd.read_csv(path, header=None).iloc[:, 1]\n",
    "# path = \"/data/dac/dedupe-project/22Jul19_database.xlsx\"\n",
    "# df = pd.read_excel(path).loc[:, \"address\"]\n",
    "df = df.str.lower().str.replace(\"\\n\", \" \").str.replace(r\"[ ]+\", \" \", regex=True)"
   ]
  },
  {
   "cell_type": "markdown",
   "metadata": {},
   "source": [
    "# First Look\n",
    "We are trying to examing the overiew of data:\n",
    "1. Total length\n",
    "2. Duplicate samples\n",
    "3. Total length after sampling\n",
    "4. "
   ]
  },
  {
   "cell_type": "code",
   "execution_count": 3,
   "metadata": {},
   "outputs": [
    {
     "data": {
      "text/plain": [
       "(7716, 8)"
      ]
     },
     "execution_count": 3,
     "metadata": {},
     "output_type": "execute_result"
    }
   ],
   "source": [
    "path = \"/data/dac/dedupe-project/22Jul19_database.xlsx\"\n",
    "df = pd.read_excel(path)\n",
    "df.shape"
   ]
  },
  {
   "cell_type": "markdown",
   "metadata": {},
   "source": [
    "# Figure out mistake"
   ]
  },
  {
   "cell_type": "code",
   "execution_count": 12,
   "metadata": {},
   "outputs": [],
   "source": [
    "check_list = [\n",
    "    [\"[^0-9]1[^0-9]\", \"[^0-9]01[^0-9]\"],\n",
    "    [\"[^0-9]2[^0-9]\", \"[^0-9]02[^0-9]\"],\n",
    "    [\"[^0-9]3[^0-9]\", \"[^0-9]03[^0-9]\"],\n",
    "    [\"[^0-9]4[^0-9]\", \"[^0-9]04[^0-9]\"],\n",
    "    [\"[^0-9]5[^0-9]\", \"[^0-9]05[^0-9]\"],\n",
    "    [\"[^0-9]6[^0-9]\", \"[^0-9]06[^0-9]\"],\n",
    "    [\"[^0-9]7[^0-9]\", \"[^0-9]07[^0-9]\"],\n",
    "    [\"[^0-9]8[^0-9]\", \"[^0-9]08[^0-9]\"],\n",
    "    [\"[^0-9]9[^0-9]\", \"[^0-9]09[^0-9]\"],\n",
    "    [\"1st\", \"first\"],\n",
    "    [\"2nd\", \"second\"],\n",
    "    [\"3rd\", \"third\"],\n",
    "    [\"[^a-zA-Z]area[^a-zA-Z]\", \"[^a-zA-Z]zone[^a-zA-Z]\"],\n",
    "    [\"#\", \"[^a-zA-Z]no-\", \"[^a-zA-Z]no[.]{1}\", \"[^a-zA-Z]no[^a-zA-Z.-]\"],\n",
    "    [\"country\", \"county\"],\n",
    "    [\"[^a-zA-Z]&[^a-zA-Z]\", \"[^a-zA-Z]-[^a-zA-Z]\", \"[^a-zA-Z]/[^a-zA-Z]\"],\n",
    "    [\"road\", \"rd[.]{1}\", \"[^a-zA-Z0-9]rd[^a-zA-Z.]\"],\n",
    "    [\n",
    "        \"street\",\n",
    "        \"[^a-zA-Z0-9]str[.]{1}\",\n",
    "        \"[^a-zA-Z0-9]str[^a-zA-Z.]\",\n",
    "        \"[^a-zA-Z0-9]st[.]{1}\",\n",
    "        \"[^a-zA-Z0-9]st[^a-zA-Z.]\",\n",
    "    ],\n",
    "    [\"drive\", \"[^a-zA-Z]dr[^a-zA-Z.]\", \"[^a-zA-Z]dr[.]{1}\"],\n",
    "    [\"avenue\", \"[^a-zA-Z]ave[.]{1}\", \"[^a-zA-Z]ave[^a-zA-Z.]\"],\n",
    "    [\"boulevard\", \"[^a-zA-Z]blvd[.]{1}\", \"blvd[^.]\"],\n",
    "    [\"lane\", \"[^a-zA-Z]ln[.]{1}\", \"[^a-zA-Z0-9]ln[^a-zA-Z.]\"],\n",
    "    [\"sector[^-]\", \"sector-\"],\n",
    "    [\"[^a-zA-Z]court[^a-zA-Z]\", \"[^a-zA-Z]ct[^a-zA-Z.]\"],\n",
    "    [\"china\", \"[^a-zA-Z]cn[^a-zA-Z]\", \"c[.]{1}n\"],\n",
    "    [\"united states\", \"u[.]{1}s\", \"[^a-zA-Z]us[^a-zA-Z]\", \"usa\"],\n",
    "    [\"vietnam\", \"viet nam\", \"[^a-zA-Z]vn[^a-zA-Z]\"],\n",
    "]\n",
    "# Missing a character in word or duplicate a character in word\n",
    "# Name of nation in full or acronym\n",
    "\n",
    "label_list = [\n",
    "    [\"1\", \"01\"],\n",
    "    [\"2\", \"02\"],\n",
    "    [\"3\", \"03\"],\n",
    "    [\"4\", \"04\"],\n",
    "    [\"5\", \"05\"],\n",
    "    [\"6\", \"06\"],\n",
    "    [\"7\", \"07\"],\n",
    "    [\"8\", \"08\"],\n",
    "    [\"9\", \"09\"],\n",
    "    [\"1st\", \"first\"],\n",
    "    [\"2nd\", \"second\"],\n",
    "    [\"3rd\", \"third\"],\n",
    "    [\"area\", \"zone\"],\n",
    "    [\"#\", \"no-\", \"no.\", \"no\"],\n",
    "    [\"country\", \"county\"],\n",
    "    [\"&\", \"-\", \"\"],\n",
    "    [\"road\", \"rd.\", \"rd\"],\n",
    "    [\"street\", \"str.\", \"str\", \"st.\", \"st\"],\n",
    "    [\"drive\", \"dr\", \"dr.\"],\n",
    "    [\"avenue\", \"ave.\", \"ave\"],\n",
    "    [\"boulevard\", \"blvd.\", \"blvd\"],\n",
    "    [\"lane\", \"ln.\", \"ln\"],\n",
    "    [\"sector\", \"sector-\"],\n",
    "    [\"court\", \"ct\"],\n",
    "    [\"china\", \"cn\", \"c.n\"],\n",
    "    [\"united states\", \"u.s\", \"us\", \"usa\"],\n",
    "    [\"vietnam\", \"viet nam\", \"vn\"],\n",
    "]"
   ]
  },
  {
   "cell_type": "code",
   "execution_count": 13,
   "metadata": {},
   "outputs": [],
   "source": [
    "case_list = []\n",
    "for check in check_list:\n",
    "    rows = [df.str.contains(element, regex=True) for element in check]\n",
    "    case_list.append(rows)\n",
    "\n",
    "total_list = []\n",
    "count_list = []\n",
    "for case in case_list:\n",
    "    total = sum(1 for a in sum(case) if a > 0)\n",
    "    count = [a.sum() for a in case]\n",
    "    total_list.append(total)\n",
    "    count_list.append(count)\n",
    "\n",
    "ratio_list = []\n",
    "for a, b in zip(count_list, total_list):\n",
    "    ratio = [a / b for a in a]\n",
    "    ratio_list.append(ratio)"
   ]
  },
  {
   "cell_type": "code",
   "execution_count": 14,
   "metadata": {},
   "outputs": [
    {
     "name": "stdout",
     "output_type": "stream",
     "text": [
      "1\t0.998941652190415\t01\t0.001109440462461498\t\n",
      "2\t0.9994545073082034\t02\t0.0005489894398209665\t\n",
      "3\t0.9977914110429448\t03\t0.0022085889570552146\t\n",
      "4\t0.9980883033387721\t04\t0.0019116966612278694\t\n",
      "5\t0.9983118683480905\t05\t0.0016993113317234595\t\n",
      "6\t0.9974185221039045\t06\t0.0025814778960955146\t\n",
      "7\t0.9981014916851045\t07\t0.0018985083148954393\t\n",
      "8\t0.9982462347891635\t08\t0.001753765210836423\t\n",
      "9\t0.9990276716705196\t09\t0.0009723283294803996\t\n",
      "1st\t0.8645559717867342\tfirst\t0.13544402821326584\t\n",
      "2nd\t0.853280450326721\tsecond\t0.1467195496732791\t\n",
      "3rd\t0.8747818221197334\tthird\t0.12521817788026654\t\n",
      "area\t0.6287425149700598\tzone\t0.3712574850299401\t\n",
      "#\t0.923257592309373\tno-\t0.0\tno.\t0.004642779112956085\tno\t0.07209962857767097\t\n",
      "country\t0.011773326221486847\tcounty\t0.990120066836843\t\n",
      "&\t0.025075759166334238\t-\t0.572886266770245\t\t0.40636307011834527\t\n",
      "road\t0.44198054253441205\trd.\t1.2543884590179887e-05\trd\t0.559211126501655\t\n",
      "street\t0.4459385707783341\tstr.\t0.0\tstr\t0.00020726445152480656\tst.\t0.0010261265361857078\tst\t0.5561206736458807\t\n",
      "drive\t0.22348356260252095\tdr\t0.7764645700628136\tdr.\t8.505259618133508e-05\t\n",
      "avenue\t0.40926376106472295\tave.\t7.63035615676482e-06\tave\t0.5907297390022547\t\n",
      "boulevard\t0.22443614545398313\tblvd.\t9.664973363333411e-06\tblvd\t0.7756179783968515\t\n",
      "lane\t0.30853353613694984\tln.\t4.78310416285513e-06\tln\t0.6919196629824806\t\n",
      "sector\t1.0\tsector-\t0.0\t\n",
      "court\t0.18733693595046907\tct\t0.8131666193527456\t\n",
      "china\t0.9947049924357034\tcn\t0.00529500756429652\tc.n\t0.0\t\n",
      "united states\t0.1234846642814964\tu.s\t5.7892482082276795e-05\tus\t0.6503641437122976\tusa\t0.22613961350978962\t\n",
      "vietnam\t0.14285714285714285\tviet nam\t0.0\tvn\t0.8571428571428571\t\n",
      "0.15012734635983357\n"
     ]
    }
   ],
   "source": [
    "result_list = []\n",
    "total_difference = 0\n",
    "# Max percent of each type of clusters\n",
    "max_list = [max(ratios) for ratios in ratio_list]\n",
    "\n",
    "for labels, ratios, max_ratio in zip(label_list, ratio_list, max_list):\n",
    "    result = {}\n",
    "    for label, ratio in zip(labels, ratios):\n",
    "        result[label] = ratio\n",
    "        total_difference += ratio if ratio != max_ratio else 0\n",
    "        print(\"{}\\t{}\".format(label, ratio), end=\"\\t\")\n",
    "    result_list.append(result)\n",
    "    print()\n",
    "print(total_difference / len(max_list))"
   ]
  },
  {
   "cell_type": "code",
   "execution_count": null,
   "metadata": {},
   "outputs": [],
   "source": [
    "fig, ax = plt.subplots(12, 2, figsize=(20, 70))\n",
    "for i in range(0, len(label_list)):\n",
    "    label = tuple(label_list[i])\n",
    "    y_pos = np.arange(len(label))\n",
    "    ax[int(i / 2)][i % 2].barh(y_pos, np.array(ratio_list[i]), align=\"center\")\n",
    "    ax[int(i / 2)][i % 2].set_yticks(y_pos)\n",
    "    ax[int(i / 2)][i % 2].set_yticklabels(label)\n",
    "    ax[int(i / 2)][i % 2].invert_yaxis()\n",
    "\n",
    "plt.show()"
   ]
  },
  {
   "cell_type": "code",
   "execution_count": 7,
   "metadata": {},
   "outputs": [],
   "source": [
    "cosine_acc = [0.6667, 0.9, 0.8696]\n",
    "cosine_f1 = [0.8, 0.9474, 0.9302]\n",
    "rlt_acc = [0, 0.1, 0.3043]\n",
    "rlt_f1 = [0, 0.1818, 0.4667]\n",
    "nn_acc = [0.6667, 0.6, 0.6087]\n",
    "nn_f1 = [0.8, 0.75, 0.7568]\n",
    "\n",
    "mistakes = [\n",
    "    \"misunderstanding\",\n",
    "    \"typing error (translate)\",\n",
    "    \"don’t know zipcode\",\n",
    "]"
   ]
  },
  {
   "cell_type": "code",
   "execution_count": 54,
   "metadata": {},
   "outputs": [],
   "source": [
    "acc_df = pd.DataFrame(\n",
    "    [\n",
    "        np.concatenate([cosine_f1, rlt_f1, nn_f1]),\n",
    "        [\n",
    "            \"Cosine\",\n",
    "            \"Cosine\",\n",
    "            \"Cosine\",\n",
    "            \"RLT\",\n",
    "            \"RLT\",\n",
    "            \"RLT\",\n",
    "            \"Triplet\",\n",
    "            \"Triplet\",\n",
    "            \"Triplet\",\n",
    "        ],\n",
    "        [\n",
    "            \"misunderstanding\",\n",
    "            \"typing error (translate)\",\n",
    "            \"don’t know zipcode\",\n",
    "            \"misunderstanding\",\n",
    "            \"typing error (translate)\",\n",
    "            \"don’t know zipcode\",\n",
    "            \"misunderstanding\",\n",
    "            \"typing error (translate)\",\n",
    "            \"don’t know zipcode\",\n",
    "        ],\n",
    "    ],\n",
    "    index=[\"F1\", \"Method\", \"Errors\"],\n",
    ").T"
   ]
  },
  {
   "cell_type": "code",
   "execution_count": 56,
   "metadata": {},
   "outputs": [
    {
     "data": {
      "image/png": "[encoded data removed]",
      "text/plain": [
       "<Figure size 720x432 with 1 Axes>"
      ]
     },
     "metadata": {
      "needs_background": "light"
     },
     "output_type": "display_data"
    }
   ],
   "source": [
    "plt.figure(figsize=(10, 6))\n",
    "sns.barplot(x=\"Errors\", hue=\"Method\", y=\"F1\", data=acc_df)\n",
    "plt.show()"
   ]
  },
  {
   "cell_type": "code",
   "execution_count": 16,
   "metadata": {},
   "outputs": [
    {
     "data": {
      "text/plain": [
       "array([('misunderstanding',), ('typing error (translate)',),\n",
       "       ('don’t know zipcode',)], dtype=object)"
      ]
     },
     "execution_count": 16,
     "metadata": {},
     "output_type": "execute_result"
    }
   ],
   "source": [
    "acc_df.index.values"
   ]
  },
  {
   "cell_type": "code",
   "execution_count": 10,
   "metadata": {},
   "outputs": [
    {
     "data": {
      "image/png": "[encoded data removed]",
      "text/plain": [
       "<Figure size 1440x720 with 1 Axes>"
      ]
     },
     "metadata": {
      "needs_background": "light"
     },
     "output_type": "display_data"
    }
   ],
   "source": [
    "y = [0.264286, 0.121429, 0.4, 0.157143, 0.114286, 0.192857, 0.121429]\n",
    "x = [ 'misunderstanding', 'spelling mistake', 'typing error', 'system error', \n",
    "     'acronym', 'synonymous', 'unknown zipcode']\n",
    "\n",
    "import matplotlib.pyplot as plt\n",
    "\n",
    "\n",
    "fig, ax = plt.subplots(1, 1, figsize=(20, 10))\n",
    "plt.rcParams.update({'font.size': 16})\n",
    "ax.bar(x=x, height=y)\n",
    "plt.savefig(\"/data/dac/dedupe-project/image/mistakes.eps\", format=\"eps\", dpi=1200)"
   ]
  },
  {
   "cell_type": "code",
   "execution_count": null,
   "metadata": {},
   "outputs": [],
   "source": []
  }
 ],
 "metadata": {
  "kernelspec": {
   "display_name": "Python 3",
   "language": "python",
   "name": "python3"
  },
  "language_info": {
   "codemirror_mode": {
    "name": "ipython",
    "version": 3
   },
   "file_extension": ".py",
   "mimetype": "text/x-python",
   "name": "python",
   "nbconvert_exporter": "python",
   "pygments_lexer": "ipython3",
   "version": "3.7.5"
  },
  "widgets": {
   "application/vnd.jupyter.widget-state+json": {
    "state": {},
    "version_major": 2,
    "version_minor": 0
   }
  }
 },
 "nbformat": 4,
 "nbformat_minor": 4
}
