{
 "cells": [
  {
   "cell_type": "markdown",
   "metadata": {},
   "source": [
    "# Load library and dataset"
   ]
  },
  {
   "cell_type": "code",
   "execution_count": 3,
   "metadata": {
    "jupyter": {
     "source_hidden": true
    },
    "pycharm": {
     "is_executing": false,
     "name": "#%%\n"
    }
   },
   "outputs": [],
   "source": [
    "import warnings\n",
    "\n",
    "warnings.filterwarnings(\"ignore\")\n",
    "import torch\n",
    "import numpy as np\n",
    "import pandas as pd\n",
    "import os\n",
    "import itertools\n",
    "import time\n",
    "\n",
    "from tqdm import tqdm_notebook as tqdm\n",
    "from torch import optim\n",
    "from torch.utils.data import TensorDataset, DataLoader\n",
    "from model.model import TripletSiameseModel, TripletDistance\n",
    "from model.SelfAttentionModel import StructuredSelfAttention\n",
    "from utils.data_loader import (\n",
    "    load_data_set,\n",
    "    load_word_to_index,\n",
    "    load_char_to_index,\n",
    "    load_triplet_orders,\n",
    "    load_padded_data,\n",
    "    load_triplet,\n",
    "    generate_embedding,\n",
    ")\n",
    "from utils.pretrained_glove_embeddings import load_glove_embeddings\n",
    "from sklearn.metrics.pairwise import cosine_similarity\n",
    "from sklearn.utils import shuffle\n",
    "from sklearn.metrics import f1_score, accuracy_score, recall_score, precision_score"
   ]
  },
  {
   "cell_type": "code",
   "execution_count": 4,
   "metadata": {
    "pycharm": {
     "is_executing": false,
     "name": "#%%\n"
    }
   },
   "outputs": [],
   "source": [
    "# main_path = \"/data/dac/dedupe-project/openmap/\"  # Open map dataset\n",
    "main_path = \"/data/dac/dedupe-project/new/\"  # Lab dataset"
   ]
  },
  {
   "cell_type": "code",
   "execution_count": 5,
   "metadata": {
    "jupyter": {
     "source_hidden": true
    },
    "pycharm": {
     "is_executing": false,
     "name": "#%%\n"
    }
   },
   "outputs": [],
   "source": [
    "def prepare_data(file_path, retrain=True):\n",
    "    # Load dataset\n",
    "    df = load_data_set(file_path)\n",
    "    df.fillna(\"\", inplace=True)\n",
    "    df.reset_index(inplace=True, drop=True)\n",
    "    # get char to index and embedding whole dataset\n",
    "    embedding_index = load_char_to_index(df)\n",
    "    embeddings = generate_embedding(embedding_index, embedding_dim=50)\n",
    "    # Get X and X_len as matrix\n",
    "    X, X_len = load_padded_data(df, embedding_index, char_level=True)\n",
    "\n",
    "    def truncate_non_string(X, X_len):\n",
    "        # Drop rows that have length of word vector = 0\n",
    "        truncate_index = [i for i in range(0, len(X_len)) if X_len[i] <= 0]\n",
    "        X, X_len = (\n",
    "            np.delete(X, truncate_index, axis=0),\n",
    "            np.delete(X_len, truncate_index, axis=0),\n",
    "        )\n",
    "\n",
    "        return X, X_len, sorted(truncate_index, reverse=True)\n",
    "\n",
    "    X, X_len, truncate_index = truncate_non_string(X, X_len)\n",
    "    df.drop(index=truncate_index, inplace=True)\n",
    "    df.reset_index(inplace=True, drop=True)\n",
    "\n",
    "    return df, X, X_len, embeddings, embedding_index\n",
    "\n",
    "\n",
    "def to_cuda(loader, device):\n",
    "    return [load.to(device) for load in loader]"
   ]
  },
  {
   "cell_type": "code",
   "execution_count": 6,
   "metadata": {
    "collapsed": false,
    "jupyter": {
     "outputs_hidden": false
    },
    "pycharm": {
     "name": "#%%\n"
    }
   },
   "outputs": [
    {
     "name": "stdout",
     "output_type": "stream",
     "text": [
      "Load character to index successfully!\n"
     ]
    },
    {
     "data": {
      "application/vnd.jupyter.widget-view+json": {
       "model_id": "6181fc111fc243ad86a5605b6651ad8c",
       "version_major": 2,
       "version_minor": 0
      },
      "text/plain": [
       "HBox(children=(IntProgress(value=0, description='Padding', max=28896, style=ProgressStyle(description_width='i…"
      ]
     },
     "metadata": {},
     "output_type": "display_data"
    },
    {
     "name": "stdout",
     "output_type": "stream",
     "text": [
      "\n",
      "Load padded data successfully!\n"
     ]
    }
   ],
   "source": [
    "# set cuda device\n",
    "device = torch.device(\"cuda\" if torch.cuda.is_available() else \"cpu\")\n",
    "# torch.cuda.set_device(device)\n",
    "\n",
    "# random_augment_train.csv\n",
    "# \"new_generated_labeled_data.csv\"\n",
    "full_generated_data_path = \"random_augment_train.csv\"  # Local dataset\n",
    "open_map_data_path = \"openmap-us-train.csv\"  # Open map dataset\n",
    "# Remember to set open map in train data\n",
    "df, X, X_len, embeddings, embedding_index = prepare_data(\n",
    "    main_path + full_generated_data_path\n",
    ")"
   ]
  },
  {
   "cell_type": "code",
   "execution_count": null,
   "metadata": {
    "collapsed": false,
    "jupyter": {
     "outputs_hidden": false
    },
    "pycharm": {
     "name": "#%%\n"
    }
   },
   "outputs": [],
   "source": [
    "import matplotlib.pyplot as plt\n",
    "\n",
    "plt.hist(X_len)\n",
    "plt.savefig(\"/data/dac/dedupe-project/image/length_X.eps\", format=\"eps\", dpi=1200)"
   ]
  },
  {
   "cell_type": "markdown",
   "metadata": {
    "toc-hr-collapsed": false
   },
   "source": [
    "# Building Model"
   ]
  },
  {
   "cell_type": "markdown",
   "metadata": {},
   "source": [
    "## Generate DataLoader and Triplet orders"
   ]
  },
  {
   "cell_type": "code",
   "execution_count": 7,
   "metadata": {
    "collapsed": false,
    "jupyter": {
     "outputs_hidden": false
    },
    "pycharm": {
     "name": "#%%\n"
    }
   },
   "outputs": [
    {
     "data": {
      "application/vnd.jupyter.widget-view+json": {
       "model_id": "316b04eeee5c40a0ad55d470048f87dc",
       "version_major": 2,
       "version_minor": 0
      },
      "text/plain": [
       "HBox(children=(IntProgress(value=0, description='[Generate Triplet Dataset] Start thread', max=137, style=Prog…"
      ]
     },
     "metadata": {},
     "output_type": "display_data"
    },
    {
     "name": "stdout",
     "output_type": "stream",
     "text": [
      "\n"
     ]
    },
    {
     "data": {
      "application/vnd.jupyter.widget-view+json": {
       "model_id": "79ea84f58b1243cb8ee25188b26fa7c3",
       "version_major": 2,
       "version_minor": 0
      },
      "text/plain": [
       "HBox(children=(IntProgress(value=0, description='[Generate Triplet Dataset] Join thread', max=137, style=Progr…"
      ]
     },
     "metadata": {},
     "output_type": "display_data"
    },
    {
     "name": "stdout",
     "output_type": "stream",
     "text": [
      "\n",
      "Loading triplet order successfully!\n"
     ]
    },
    {
     "data": {
      "application/vnd.jupyter.widget-view+json": {
       "model_id": "04904e3568c04fb0a782f6d4e8f708fd",
       "version_major": 2,
       "version_minor": 0
      },
      "text/plain": [
       "HBox(children=(IntProgress(value=0, description='Load triplets', max=2070054, style=ProgressStyle(description_…"
      ]
     },
     "metadata": {},
     "output_type": "display_data"
    },
    {
     "name": "stdout",
     "output_type": "stream",
     "text": [
      "\n",
      "Load triplet data successfully!\n"
     ]
    }
   ],
   "source": [
    "batch_size = 10000\n",
    "df_triplet_orders = load_triplet_orders(df)\n",
    "print(\"Loading triplet order successfully!\")\n",
    "anc_loader, pos_loader, neg_loader = load_triplet(\n",
    "    np.array(X), X_len, df_triplet_orders, batch_size=batch_size\n",
    ")\n",
    "print(\"Load triplet data successfully!\")"
   ]
  },
  {
   "cell_type": "code",
   "execution_count": null,
   "metadata": {
    "collapsed": false,
    "jupyter": {
     "outputs_hidden": false
    },
    "pycharm": {
     "name": "#%%\n"
    }
   },
   "outputs": [],
   "source": [
    "# Create train file as pair for some methods\n",
    "train_pair_arr = []\n",
    "for row in df_triplet_orders.loc[:20000, :].itertuples():\n",
    "    anchor = row[2]\n",
    "    pos = row[3]\n",
    "    neg = row[4]\n",
    "\n",
    "    pair = {}\n",
    "    pair[\"address\"] = df.iloc[anchor].content\n",
    "    pair[\"duplicated_address\"] = df.iloc[pos].content\n",
    "    pair[\"similar\"] = 1\n",
    "    train_pair_arr.append(pair)\n",
    "\n",
    "    pair = {}\n",
    "    pair[\"address\"] = df.iloc[anchor].content\n",
    "    pair[\"duplicated_address\"] = df.iloc[neg].content\n",
    "    pair[\"similar\"] = 0\n",
    "    train_pair_arr.append(pair)\n",
    "\n",
    "pd.DataFrame(train_pair_arr).to_csv(\n",
    "    \"/data/dac/dedupe-project/train_as_pair.csv\", encoding=\"utf-8\"\n",
    ")"
   ]
  },
  {
   "cell_type": "markdown",
   "metadata": {},
   "source": [
    "## Prepare validate dataset\n",
    "1. Load dataset\n",
    "2. Pre-processing\n",
    "3. Create pair of data"
   ]
  },
  {
   "cell_type": "code",
   "execution_count": 8,
   "metadata": {},
   "outputs": [],
   "source": [
    "path = \"/data/dac/dedupe-project/test/\"\n",
    "test_df = pd.read_csv(path + \"test_address_3.csv\", encoding=\"ISO-8859-1\")\n",
    "test_df.fillna(\"\", inplace=True)\n",
    "test_df.reset_index(inplace=True)\n",
    "test_df_1 = test_df.loc[:, [\"address\"]]\n",
    "test_df_1[\"content\"] = (\n",
    "    test_df_1[\"address\"]\n",
    "    .str.lower()\n",
    "    .str.replace(\"\\n\", \" \")\n",
    "    .str.replace(r\"[ ]+\", \" \", regex=True)\n",
    "    .str.replace(\"null\", \"\")\n",
    "    .str.replace(\"nan\", \"\")\n",
    ")\n",
    "test_df_2 = test_df.loc[:, [\"duplicated_address\"]]\n",
    "test_df_2[\"content\"] = (\n",
    "    test_df_2[\"duplicated_address\"]\n",
    "    .str.lower()\n",
    "    .str.replace(\"\\n\", \" \")\n",
    "    .str.replace(r\"[ ]+\", \" \", regex=True)\n",
    "    .str.replace(\"null\", \"\")\n",
    "    .str.replace(\"nan\", \"\")\n",
    ")"
   ]
  },
  {
   "cell_type": "code",
   "execution_count": 9,
   "metadata": {},
   "outputs": [],
   "source": [
    "def data_loader(test_df_1, test_df_2):\n",
    "    # Data Preparation pipeline\n",
    "    # Create Dataloader based on two dataframe have row 'content' in it\n",
    "    X1, X1_lens = load_padded_data(pd.DataFrame(test_df_1), embedding_index)\n",
    "\n",
    "    X2, X2_lens = load_padded_data(pd.DataFrame(test_df_2), embedding_index)\n",
    "\n",
    "    # Drop rows that have length of word vector = 0\n",
    "    truncate_index = [\n",
    "        i for i in range(0, len(X1_lens)) if (X1_lens[i] <= 0 or X2_lens[i] <= 0)\n",
    "    ]\n",
    "    X1, X1_lens = (\n",
    "        np.delete(X1, truncate_index, axis=0),\n",
    "        np.delete(X1_lens, truncate_index, axis=0),\n",
    "    )\n",
    "    X2, X2_lens = (\n",
    "        np.delete(X2, truncate_index, axis=0),\n",
    "        np.delete(X2_lens, truncate_index, axis=0),\n",
    "    )\n",
    "\n",
    "    def create_data_loader(X, batch_size=batch_size):\n",
    "        X, X_lens = np.array(X[0]), np.array(X[1])\n",
    "\n",
    "        # Create data loader\n",
    "        data = TensorDataset(\n",
    "            torch.from_numpy(X).type(torch.LongTensor), torch.ByteTensor(X_lens)\n",
    "        )\n",
    "        loader = DataLoader(data, batch_size=batch_size, drop_last=False)\n",
    "        return loader\n",
    "\n",
    "    return (\n",
    "        create_data_loader([X1, X1_lens]),\n",
    "        create_data_loader([X2, X2_lens]),\n",
    "        truncate_index,\n",
    "    )\n",
    "\n",
    "\n",
    "def create_test(n, test_df_1, test_df_2):\n",
    "    # Generate small test based on ground truth\n",
    "    test_df_1a = pd.DataFrame()\n",
    "    test_df_1b = pd.DataFrame()\n",
    "\n",
    "    for i1, i2 in shuffle(list(itertools.combinations(test_df_1.index, 2)))[:n]:\n",
    "        try:\n",
    "            test_df_1a = test_df_1a.append(test_df_1.iloc[i1, :])\n",
    "            test_df_1b = test_df_1b.append(test_df_2.iloc[i2, :])\n",
    "        except:\n",
    "            print(i1, i2)\n",
    "\n",
    "    test_df_1b = test_df_1b.append(test_df_1)\n",
    "    test_df_1a = test_df_1a.append(test_df_2)\n",
    "\n",
    "    test_df_1a.reset_index(inplace=True)\n",
    "    test_df_1b.reset_index(inplace=True)\n",
    "\n",
    "    return test_df_1a, test_df_1b\n",
    "\n",
    "\n",
    "def validate(model, X1, X2, device):\n",
    "    y_true = []\n",
    "    y_pred = []\n",
    "    for a, b in tqdm(zip(X1, X2)):\n",
    "        # Send data to graphic card - Cuda0\n",
    "        a, b = to_cuda(a, device), to_cuda(b, device)\n",
    "        with torch.no_grad():\n",
    "            a, b = model(a, b)\n",
    "            a, b = a.cpu(), b.cpu()\n",
    "            a = a.reshape(a.shape[0], -1)\n",
    "            b = b.reshape(b.shape[0], -1)\n",
    "            #         att1 = att1.cpu()\n",
    "            #         att2 = att2.cpu()\n",
    "            dist = np.array(\n",
    "                [\n",
    "                    cosine_similarity([a[i].numpy()], [b[i].numpy()])\n",
    "                    for i in range(0, len(a))\n",
    "                ]\n",
    "            ).flatten()\n",
    "\n",
    "            y_true_curr = np.ones(len(dist))\n",
    "            y_true = np.concatenate([y_true, y_true_curr])\n",
    "\n",
    "            y_pred_curr = np.ones(len(dist))\n",
    "            y_pred_curr[np.where(dist < 0.665)[0]] = 0\n",
    "            y_pred = np.concatenate([y_pred, y_pred_curr])\n",
    "\n",
    "            pred_list = np.concatenate([pred_list, dist])\n",
    "\n",
    "    print(\n",
    "        \"Accuracy:\\t{}\\t\\tF1-score:\\t{}\\t\".format(\n",
    "            round(accuracy_score(y_true, y_pred), 4), round(f1_score(y_true, y_pred), 4)\n",
    "        ),\n",
    "        end=\"\",\n",
    "    )\n",
    "    print(\n",
    "        \"Precision:\\t{}\\t\\tRecall:\\t{}\".format(\n",
    "            round(precision_score(y_true, y_pred), 4),\n",
    "            round(recall_score(y_true, y_pred), 4),\n",
    "        ),\n",
    "        end=\"\",\n",
    "    )"
   ]
  },
  {
   "cell_type": "code",
   "execution_count": 10,
   "metadata": {},
   "outputs": [
    {
     "data": {
      "application/vnd.jupyter.widget-view+json": {
       "model_id": "6560aa2e3c0b4699a16b63e040db9261",
       "version_major": 2,
       "version_minor": 0
      },
      "text/plain": [
       "HBox(children=(IntProgress(value=0, description='Padding', max=1225, style=ProgressStyle(description_width='in…"
      ]
     },
     "metadata": {},
     "output_type": "display_data"
    },
    {
     "name": "stdout",
     "output_type": "stream",
     "text": [
      "\n",
      "Load padded data successfully!\n"
     ]
    },
    {
     "data": {
      "application/vnd.jupyter.widget-view+json": {
       "model_id": "bf75db3696aa42499ffa5f9e0d8ae59f",
       "version_major": 2,
       "version_minor": 0
      },
      "text/plain": [
       "HBox(children=(IntProgress(value=0, description='Padding', max=1225, style=ProgressStyle(description_width='in…"
      ]
     },
     "metadata": {},
     "output_type": "display_data"
    },
    {
     "name": "stdout",
     "output_type": "stream",
     "text": [
      "\n",
      "Load padded data successfully!\n"
     ]
    }
   ],
   "source": [
    "test_df_1a, test_df_1b = create_test(1176, test_df_1, test_df_2)\n",
    "X1, X2, drop = data_loader(test_df_1a, test_df_1b)"
   ]
  },
  {
   "cell_type": "markdown",
   "metadata": {},
   "source": [
    "## Triplet Siamese\n",
    "Build, train and validate Triplet Siamese Model\n",
    "1. Embedding\n",
    "2. Deep Neural Network (Loss: Minimize the loss by maximize the distance between positive and negative)\n",
    "3. Calculate Distance"
   ]
  },
  {
   "cell_type": "code",
   "execution_count": 11,
   "metadata": {
    "collapsed": false,
    "jupyter": {
     "outputs_hidden": false
    },
    "pycharm": {
     "name": "#%%\n"
    }
   },
   "outputs": [
    {
     "name": "stdout",
     "output_type": "stream",
     "text": [
      "TripletSiameseModel(\n",
      "  (embeddings): Embedding(59, 50)\n",
      "  (gru): GRU(50, 50, batch_first=True, bidirectional=True)\n",
      "  (linear_final): Linear(in_features=100, out_features=30, bias=True)\n",
      "  (linear_distance): Linear(in_features=60, out_features=1, bias=True)\n",
      ") TripletDistance()\n"
     ]
    }
   ],
   "source": [
    "# Self-attention triplet model\n",
    "# model = StructuredSelfAttention(embeddings=embeddings, n_classes=50).to(device)\n",
    "\n",
    "# triplet_siamese_300d_bi_gru: hit\n",
    "# triplet_siamese_50d_bi_gru_random: outperform\n",
    "triplet_model_path = (\n",
    "    \"/data/dac/dedupe-project/new/model/triplet_siamese_50d_bi_gru_random\"\n",
    ")\n",
    "\n",
    "lr = 0.1\n",
    "margin = 0.4\n",
    "# Load model & optimizer\n",
    "model = TripletSiameseModel(\n",
    "    embeddings=embeddings, layers=1, hid_dim=50, n_classes=30\n",
    ").to(device)\n",
    "distance = TripletDistance(margin=margin).to(device)\n",
    "optimizer = optim.Adam(model.parameters(), lr=lr)\n",
    "print(model, distance)"
   ]
  },
  {
   "cell_type": "code",
   "execution_count": 12,
   "metadata": {
    "collapsed": false,
    "jupyter": {
     "outputs_hidden": false
    },
    "pycharm": {
     "name": "#%%\n"
    }
   },
   "outputs": [
    {
     "ename": "RuntimeError",
     "evalue": "Error(s) in loading state_dict for TripletSiameseModel:\n\tMissing key(s) in state_dict: \"linear_distance.weight\", \"linear_distance.bias\". ",
     "output_type": "error",
     "traceback": [
      "\u001b[0;31m---------------------------------------------------------------------------\u001b[0m",
      "\u001b[0;31mRuntimeError\u001b[0m                              Traceback (most recent call last)",
      "\u001b[0;32m<ipython-input-12-55bb4f2bcfc9>\u001b[0m in \u001b[0;36m<module>\u001b[0;34m\u001b[0m\n\u001b[1;32m      1\u001b[0m \u001b[0;31m# Load model and optimizer\u001b[0m\u001b[0;34m\u001b[0m\u001b[0;34m\u001b[0m\u001b[0;34m\u001b[0m\u001b[0m\n\u001b[1;32m      2\u001b[0m \u001b[0mcheckpoint\u001b[0m \u001b[0;34m=\u001b[0m \u001b[0mtorch\u001b[0m\u001b[0;34m.\u001b[0m\u001b[0mload\u001b[0m\u001b[0;34m(\u001b[0m\u001b[0mtriplet_model_path\u001b[0m\u001b[0;34m,\u001b[0m \u001b[0mmap_location\u001b[0m\u001b[0;34m=\u001b[0m\u001b[0mdevice\u001b[0m\u001b[0;34m)\u001b[0m\u001b[0;34m\u001b[0m\u001b[0;34m\u001b[0m\u001b[0m\n\u001b[0;32m----> 3\u001b[0;31m \u001b[0mmodel\u001b[0m\u001b[0;34m.\u001b[0m\u001b[0mload_state_dict\u001b[0m\u001b[0;34m(\u001b[0m\u001b[0mcheckpoint\u001b[0m\u001b[0;34m[\u001b[0m\u001b[0;34m\"model\"\u001b[0m\u001b[0;34m]\u001b[0m\u001b[0;34m)\u001b[0m\u001b[0;34m\u001b[0m\u001b[0;34m\u001b[0m\u001b[0m\n\u001b[0m\u001b[1;32m      4\u001b[0m \u001b[0moptimizer\u001b[0m\u001b[0;34m.\u001b[0m\u001b[0mload_state_dict\u001b[0m\u001b[0;34m(\u001b[0m\u001b[0mcheckpoint\u001b[0m\u001b[0;34m[\u001b[0m\u001b[0;34m\"optimizer\"\u001b[0m\u001b[0;34m]\u001b[0m\u001b[0;34m)\u001b[0m\u001b[0;34m\u001b[0m\u001b[0;34m\u001b[0m\u001b[0m\n\u001b[1;32m      5\u001b[0m \u001b[0;34m\u001b[0m\u001b[0m\n",
      "\u001b[0;32m~/anaconda3/envs/dedupe/lib/python3.7/site-packages/torch/nn/modules/module.py\u001b[0m in \u001b[0;36mload_state_dict\u001b[0;34m(self, state_dict, strict)\u001b[0m\n\u001b[1;32m    837\u001b[0m         \u001b[0;32mif\u001b[0m \u001b[0mlen\u001b[0m\u001b[0;34m(\u001b[0m\u001b[0merror_msgs\u001b[0m\u001b[0;34m)\u001b[0m \u001b[0;34m>\u001b[0m \u001b[0;36m0\u001b[0m\u001b[0;34m:\u001b[0m\u001b[0;34m\u001b[0m\u001b[0;34m\u001b[0m\u001b[0m\n\u001b[1;32m    838\u001b[0m             raise RuntimeError('Error(s) in loading state_dict for {}:\\n\\t{}'.format(\n\u001b[0;32m--> 839\u001b[0;31m                                self.__class__.__name__, \"\\n\\t\".join(error_msgs)))\n\u001b[0m\u001b[1;32m    840\u001b[0m         \u001b[0;32mreturn\u001b[0m \u001b[0m_IncompatibleKeys\u001b[0m\u001b[0;34m(\u001b[0m\u001b[0mmissing_keys\u001b[0m\u001b[0;34m,\u001b[0m \u001b[0munexpected_keys\u001b[0m\u001b[0;34m)\u001b[0m\u001b[0;34m\u001b[0m\u001b[0;34m\u001b[0m\u001b[0m\n\u001b[1;32m    841\u001b[0m \u001b[0;34m\u001b[0m\u001b[0m\n",
      "\u001b[0;31mRuntimeError\u001b[0m: Error(s) in loading state_dict for TripletSiameseModel:\n\tMissing key(s) in state_dict: \"linear_distance.weight\", \"linear_distance.bias\". "
     ]
    }
   ],
   "source": [
    "# Load model and optimizer\n",
    "checkpoint = torch.load(triplet_model_path, map_location=device)\n",
    "model.load_state_dict(checkpoint[\"model\"])\n",
    "optimizer.load_state_dict(checkpoint[\"optimizer\"])\n",
    "\n",
    "model.eval()"
   ]
  },
  {
   "cell_type": "code",
   "execution_count": null,
   "metadata": {
    "collapsed": false,
    "jupyter": {
     "outputs_hidden": false
    },
    "pycharm": {
     "name": "#%%\n"
    }
   },
   "outputs": [],
   "source": [
    "# Train model\n",
    "epochs = 2\n",
    "best_lost = None\n",
    "early_stopping_steps = 5\n",
    "\n",
    "loss_list = []\n",
    "average_list = []\n",
    "model.train()\n",
    "\n",
    "start_time = time.time()\n",
    "for epoch in tqdm(range(epochs), desc=\"Epoch\", total=epochs):\n",
    "    avg_loss = 0\n",
    "    avg_acc = 0\n",
    "    avg_pos_sim = 0\n",
    "    avg_neg_sim = 0\n",
    "    for batch, [anc_x, pos_x, neg_x] in enumerate(\n",
    "        zip(anc_loader, pos_loader, neg_loader)\n",
    "    ):\n",
    "        # Training model per batch\n",
    "        # Send data to graphic card - Cuda\n",
    "        anc_x, pos_x, neg_x = (\n",
    "            to_cuda(anc_x, device),\n",
    "            to_cuda(pos_x, device),\n",
    "            to_cuda(neg_x, device),\n",
    "        )\n",
    "        x, pos, neg = model(anc_x, pos_x, neg_x)\n",
    "        loss, pos_sim, neg_sim = distance(x, pos, neg)\n",
    "\n",
    "        # Append to batch list\n",
    "        avg_loss += float(loss)\n",
    "        avg_pos_sim += pos_sim.mean()\n",
    "        avg_neg_sim += neg_sim.mean()\n",
    "\n",
    "        #         # F1 and Acc\n",
    "        #         y_true = np.concatenate([np.ones(len(pos_sim)), np.zeros(len(pos_sim))])\n",
    "        #         y_pred = np.concatenate(\n",
    "        #             [\n",
    "        #                 [1 if y > 0.665 else 0 for y in pos_sim.to(\"cpu\")],\n",
    "        #                 [1 if y > 0.665 else 0 for y in neg_sim.to(\"cpu\")],\n",
    "        #             ]\n",
    "        #         )\n",
    "        # Gradient\n",
    "        optimizer.zero_grad()\n",
    "        loss.backward()\n",
    "        optimizer.step()\n",
    "        print(\n",
    "            \"\\rBatch:\\t{}\\tLoss:\\t{}\\t\\tPos_sim:\\t{}\\t\\tNeg_sim:\\t{}\\t\\t\".format(\n",
    "                batch,\n",
    "                round(float(loss), 4),\n",
    "                round(float(pos_sim.mean()), 4),\n",
    "                round(float(neg_sim.mean()), 4),\n",
    "            ),\n",
    "            end=\"\",\n",
    "        )\n",
    "        validate(model, X1, X2, device)\n",
    "    # Average loss and distance of all epochs\n",
    "    avg_loss /= len(anc_loader)\n",
    "    avg_pos_sim /= len(anc_loader)\n",
    "    avg_neg_sim /= len(anc_loader)\n",
    "\n",
    "    loss_list.append(avg_loss)\n",
    "    print(\n",
    "        \"\\rEpoch:\\t{}\\tAverage Loss:\\t{}\\t\\tPos:\\t{}\\t\\tNeg:\\t{}\\t\\t\".format(\n",
    "            epoch,\n",
    "            round(avg_loss, 4),\n",
    "            round(float(avg_pos_sim), 4),\n",
    "            round(float(avg_neg_sim), 4),\n",
    "        )\n",
    "    )\n",
    "    if best_lost is None or best_lost > avg_loss:\n",
    "        best_lost = avg_loss\n",
    "        forward_index = 0\n",
    "        #         Save model\n",
    "        torch.save(\n",
    "            {\"model\": model.state_dict(), \"optimizer\": optimizer.state_dict()},\n",
    "            triplet_model_path,\n",
    "        )\n",
    "    else:\n",
    "        # Early stopping after reachs {early_stopping_steps} steps\n",
    "        forward_index += 1\n",
    "        if forward_index == early_stopping_steps or best_lost == 0:\n",
    "            break\n",
    "    if best_lost < 1:\n",
    "        break\n",
    "print(\"--- %s seconds ---\" % (time.time() - start_time))"
   ]
  },
  {
   "cell_type": "code",
   "execution_count": null,
   "metadata": {
    "collapsed": false,
    "jupyter": {
     "outputs_hidden": false
    },
    "pycharm": {
     "name": "#%%\n"
    }
   },
   "outputs": [],
   "source": [
    "# Save model\n",
    "torch.save(\n",
    "    {\"model\": model.state_dict(), \"optimizer\": optimizer.state_dict()},\n",
    "    triplet_model_path,\n",
    ")"
   ]
  },
  {
   "cell_type": "markdown",
   "metadata": {
    "toc-hr-collapsed": false
   },
   "source": [
    "# Test"
   ]
  },
  {
   "cell_type": "markdown",
   "metadata": {},
   "source": [
    "## Fodor"
   ]
  },
  {
   "cell_type": "code",
   "execution_count": 126,
   "metadata": {},
   "outputs": [],
   "source": [
    "def create_pairs(df1, df2, pair):\n",
    "    df_out1 = []\n",
    "    df_out2 = []\n",
    "    y = []\n",
    "    for row in df_test_pair.itertuples():\n",
    "        # Create two test dataframe based on index file\n",
    "        # index, l_id, r_id, label\n",
    "        df_out1.append(df1['content'][df1['id'] == row[1]])\n",
    "        df_out2.append(df2['content'][df2['id'] == row[2]])\n",
    "        y.append(row[3])\n",
    "        \n",
    "    df_out1 = pd.DataFrame(pd.concat(df_out1))\n",
    "    df_out2 = pd.DataFrame(pd.concat(df_out2))\n",
    "\n",
    "    # Create DataLoader\n",
    "    X1, X2, drop = data_loader(df_out1, df_out2)\n",
    "    \n",
    "    return X1, X2, y, df_out1, df_out2"
   ]
  },
  {
   "cell_type": "code",
   "execution_count": 138,
   "metadata": {},
   "outputs": [
    {
     "data": {
      "text/html": [
       "<div>\n",
       "<style scoped>\n",
       "    .dataframe tbody tr th:only-of-type {\n",
       "        vertical-align: middle;\n",
       "    }\n",
       "\n",
       "    .dataframe tbody tr th {\n",
       "        vertical-align: top;\n",
       "    }\n",
       "\n",
       "    .dataframe thead th {\n",
       "        text-align: right;\n",
       "    }\n",
       "</style>\n",
       "<table border=\"1\" class=\"dataframe\">\n",
       "  <thead>\n",
       "    <tr style=\"text-align: right;\">\n",
       "      <th></th>\n",
       "      <th>content</th>\n",
       "    </tr>\n",
       "  </thead>\n",
       "  <tbody>\n",
       "    <tr>\n",
       "      <th>6</th>\n",
       "      <td>6703 melrose ave.   los angeles californian</td>\n",
       "    </tr>\n",
       "    <tr>\n",
       "      <th>22</th>\n",
       "      <td>67 n. raymond ave.   los angeles asian</td>\n",
       "    </tr>\n",
       "    <tr>\n",
       "      <th>501</th>\n",
       "      <td>1915 fillmore st.   san francisco italian</td>\n",
       "    </tr>\n",
       "    <tr>\n",
       "      <th>38</th>\n",
       "      <td>160 e. 64th st.   new york american</td>\n",
       "    </tr>\n",
       "    <tr>\n",
       "      <th>70</th>\n",
       "      <td>3570 las vegas blvd. s   las vegas continental</td>\n",
       "    </tr>\n",
       "    <tr>\n",
       "      <th>...</th>\n",
       "      <td>...</td>\n",
       "    </tr>\n",
       "    <tr>\n",
       "      <th>108</th>\n",
       "      <td>3201 fillmore st.   san francisco mediterranean</td>\n",
       "    </tr>\n",
       "    <tr>\n",
       "      <th>133</th>\n",
       "      <td>730 n. la cienega blvd.   los angeles french</td>\n",
       "    </tr>\n",
       "    <tr>\n",
       "      <th>86</th>\n",
       "      <td>224 ponce de leon ave. atlantasouthern</td>\n",
       "    </tr>\n",
       "    <tr>\n",
       "      <th>424</th>\n",
       "      <td>3645 las vegas blvd. s   las vegas buffets</td>\n",
       "    </tr>\n",
       "    <tr>\n",
       "      <th>44</th>\n",
       "      <td>249 e. 50th st.   new york french</td>\n",
       "    </tr>\n",
       "  </tbody>\n",
       "</table>\n",
       "<p>189 rows × 1 columns</p>\n",
       "</div>"
      ],
      "text/plain": [
       "                                              content\n",
       "6         6703 melrose ave.   los angeles californian\n",
       "22             67 n. raymond ave.   los angeles asian\n",
       "501         1915 fillmore st.   san francisco italian\n",
       "38                160 e. 64th st.   new york american\n",
       "70     3570 las vegas blvd. s   las vegas continental\n",
       "..                                                ...\n",
       "108   3201 fillmore st.   san francisco mediterranean\n",
       "133      730 n. la cienega blvd.   los angeles french\n",
       "86             224 ponce de leon ave. atlantasouthern\n",
       "424        3645 las vegas blvd. s   las vegas buffets\n",
       "44                  249 e. 50th st.   new york french\n",
       "\n",
       "[189 rows x 1 columns]"
      ]
     },
     "execution_count": 138,
     "metadata": {},
     "output_type": "execute_result"
    }
   ],
   "source": [
    "df_train_1"
   ]
  },
  {
   "cell_type": "code",
   "execution_count": 139,
   "metadata": {},
   "outputs": [
    {
     "data": {
      "text/html": [
       "<div>\n",
       "<style scoped>\n",
       "    .dataframe tbody tr th:only-of-type {\n",
       "        vertical-align: middle;\n",
       "    }\n",
       "\n",
       "    .dataframe tbody tr th {\n",
       "        vertical-align: top;\n",
       "    }\n",
       "\n",
       "    .dataframe thead th {\n",
       "        text-align: right;\n",
       "    }\n",
       "</style>\n",
       "<table border=\"1\" class=\"dataframe\">\n",
       "  <thead>\n",
       "    <tr style=\"text-align: right;\">\n",
       "      <th></th>\n",
       "      <th>content</th>\n",
       "    </tr>\n",
       "  </thead>\n",
       "  <tbody>\n",
       "    <tr>\n",
       "      <th>230</th>\n",
       "      <td>8284 melrose ave.   los angeles   french bistro</td>\n",
       "    </tr>\n",
       "    <tr>\n",
       "      <th>240</th>\n",
       "      <td>67 n. raymond ave. pasadenachinese</td>\n",
       "    </tr>\n",
       "    <tr>\n",
       "      <th>214</th>\n",
       "      <td>1870 fillmore st.   san francisco american</td>\n",
       "    </tr>\n",
       "    <tr>\n",
       "      <th>256</th>\n",
       "      <td>160 e. 64th st.   new york city   french bistro</td>\n",
       "    </tr>\n",
       "    <tr>\n",
       "      <th>130</th>\n",
       "      <td>3595 las vegas blvd. s.   las vegas continental</td>\n",
       "    </tr>\n",
       "    <tr>\n",
       "      <th>...</th>\n",
       "      <td>...</td>\n",
       "    </tr>\n",
       "    <tr>\n",
       "      <th>326</th>\n",
       "      <td>3127 fillmore st.   san francisco   american ...</td>\n",
       "    </tr>\n",
       "    <tr>\n",
       "      <th>229</th>\n",
       "      <td>903 n. la cienega blvd.   w. hollywood   fren...</td>\n",
       "    </tr>\n",
       "    <tr>\n",
       "      <th>156</th>\n",
       "      <td>600 ponce de leon ave. atlantaitalian</td>\n",
       "    </tr>\n",
       "    <tr>\n",
       "      <th>125</th>\n",
       "      <td>3799 las vegas blvd. s.   las vegas seafood</td>\n",
       "    </tr>\n",
       "    <tr>\n",
       "      <th>251</th>\n",
       "      <td>243 e. 58th st.   new york city italian</td>\n",
       "    </tr>\n",
       "  </tbody>\n",
       "</table>\n",
       "<p>189 rows × 1 columns</p>\n",
       "</div>"
      ],
      "text/plain": [
       "                                               content\n",
       "230   8284 melrose ave.   los angeles   french bistro \n",
       "240                 67 n. raymond ave. pasadenachinese\n",
       "214         1870 fillmore st.   san francisco american\n",
       "256   160 e. 64th st.   new york city   french bistro \n",
       "130    3595 las vegas blvd. s.   las vegas continental\n",
       "..                                                 ...\n",
       "326   3127 fillmore st.   san francisco   american ...\n",
       "229   903 n. la cienega blvd.   w. hollywood   fren...\n",
       "156              600 ponce de leon ave. atlantaitalian\n",
       "125        3799 las vegas blvd. s.   las vegas seafood\n",
       "251            243 e. 58th st.   new york city italian\n",
       "\n",
       "[189 rows x 1 columns]"
      ]
     },
     "execution_count": 139,
     "metadata": {},
     "output_type": "execute_result"
    }
   ],
   "source": [
    "df_train_2"
   ]
  },
  {
   "cell_type": "code",
   "execution_count": 127,
   "metadata": {},
   "outputs": [
    {
     "data": {
      "application/vnd.jupyter.widget-view+json": {
       "model_id": "e3ddf61e39bf4beb8a27170150faf369",
       "version_major": 2,
       "version_minor": 0
      },
      "text/plain": [
       "HBox(children=(IntProgress(value=0, description='Padding', max=189, style=ProgressStyle(description_width='ini…"
      ]
     },
     "metadata": {},
     "output_type": "display_data"
    },
    {
     "name": "stdout",
     "output_type": "stream",
     "text": [
      "\n",
      "Load padded data successfully!\n"
     ]
    },
    {
     "data": {
      "application/vnd.jupyter.widget-view+json": {
       "model_id": "61e924efd6a3481db5f4033725ec61dc",
       "version_major": 2,
       "version_minor": 0
      },
      "text/plain": [
       "HBox(children=(IntProgress(value=0, description='Padding', max=189, style=ProgressStyle(description_width='ini…"
      ]
     },
     "metadata": {},
     "output_type": "display_data"
    },
    {
     "name": "stdout",
     "output_type": "stream",
     "text": [
      "\n",
      "Load padded data successfully!\n"
     ]
    },
    {
     "data": {
      "application/vnd.jupyter.widget-view+json": {
       "model_id": "89efea0a9a18412aaea8161bd8261009",
       "version_major": 2,
       "version_minor": 0
      },
      "text/plain": [
       "HBox(children=(IntProgress(value=0, description='Padding', max=189, style=ProgressStyle(description_width='ini…"
      ]
     },
     "metadata": {},
     "output_type": "display_data"
    },
    {
     "name": "stdout",
     "output_type": "stream",
     "text": [
      "\n",
      "Load padded data successfully!\n"
     ]
    },
    {
     "data": {
      "application/vnd.jupyter.widget-view+json": {
       "model_id": "60167e51d91c42a1b95a1a2d3b76b1a8",
       "version_major": 2,
       "version_minor": 0
      },
      "text/plain": [
       "HBox(children=(IntProgress(value=0, description='Padding', max=189, style=ProgressStyle(description_width='ini…"
      ]
     },
     "metadata": {},
     "output_type": "display_data"
    },
    {
     "name": "stdout",
     "output_type": "stream",
     "text": [
      "\n",
      "Load padded data successfully!\n"
     ]
    }
   ],
   "source": [
    "# Prepare data to input as DataLoader\n",
    "fd_a = pd.read_csv(path + 'fodor/tableA.csv')\n",
    "fd_a['content'] = fd_a['addr'] + fd_a['city'] + fd_a['type']\n",
    "fd_a['content'] = fd_a['content'].str.replace('\\'', '').str.replace('`', ' ')\n",
    "\n",
    "fd_b = pd.read_csv(path + 'fodor/tableB.csv')\n",
    "fd_b['content'] = fd_b['addr'] + df_b['city'] + fd_b['type']\n",
    "fd_b['content'] = fd_b['content'].str.replace('\\'', '').str.replace('`', ' ')\n",
    "\n",
    "fd_test_pair = pd.read_csv(path + 'fodor/test.csv')\n",
    "fd_train_pair = pd.read_csv(path + 'fodor/train.csv')\n",
    "\n",
    "X1_test, X2_test, y_test, df_test_1, df_test_2 = create_pairs(fd_a, fd_b, fd_test_pair)\n",
    "X1_train, X2_train, y_train, df_train_1, df_train_2 = create_pairs(fd_a, fd_b, fd_train_pair)"
   ]
  },
  {
   "cell_type": "code",
   "execution_count": 128,
   "metadata": {},
   "outputs": [
    {
     "data": {
      "application/vnd.jupyter.widget-view+json": {
       "model_id": "9177683d11084beaa39d6e4e48308726",
       "version_major": 2,
       "version_minor": 0
      },
      "text/plain": [
       "HBox(children=(IntProgress(value=1, bar_style='info', max=1), HTML(value='')))"
      ]
     },
     "metadata": {},
     "output_type": "display_data"
    },
    {
     "name": "stdout",
     "output_type": "stream",
     "text": [
      "\n",
      "Accuracy:\t0.2222\t\tF1-score:\t0.2304\tPrecision:\t0.1302\t\tRecall:\t1.0"
     ]
    }
   ],
   "source": [
    "y_pred = []\n",
    "pred_list = []\n",
    "for a, b in tqdm(zip(X1, X2)):\n",
    "    # Send data to graphic card - Cuda0\n",
    "    a, b = to_cuda(a, device), to_cuda(b, device)\n",
    "    with torch.no_grad():\n",
    "        a, b = model(a, b)\n",
    "        a, b = a.cpu(), b.cpu()\n",
    "        a = a.reshape(a.shape[0], -1)\n",
    "        b = b.reshape(b.shape[0], -1)\n",
    "        #         att1 = att1.cpu()\n",
    "        #         att2 = att2.cpu()\n",
    "        dist = np.array(\n",
    "            [\n",
    "                cosine_similarity([a[i].numpy()], [b[i].numpy()])\n",
    "                for i in range(0, len(a))\n",
    "            ]\n",
    "        ).flatten()\n",
    "        y_pred_curr = np.ones(len(dist))\n",
    "        y_pred_curr[np.where(dist < 0.35039073)[0]] = 0\n",
    "        y_pred = np.concatenate([y_pred, y_pred_curr])\n",
    "\n",
    "        pred_list = np.concatenate([pred_list, dist])\n",
    "\n",
    "print(\n",
    "    \"Accuracy:\\t{}\\t\\tF1-score:\\t{}\\t\".format(\n",
    "        round(accuracy_score(y_test, y_pred), 4), round(f1_score(y_test, y_pred), 4)\n",
    "    ),\n",
    "    end=\"\",\n",
    ")\n",
    "print(\n",
    "    \"Precision:\\t{}\\t\\tRecall:\\t{}\".format(\n",
    "        round(precision_score(y_test, y_pred), 4),\n",
    "        round(recall_score(y_test, y_pred), 4),\n",
    "    ),\n",
    "    end=\"\",\n",
    ")"
   ]
  },
  {
   "cell_type": "code",
   "execution_count": 135,
   "metadata": {},
   "outputs": [
    {
     "data": {
      "text/html": [
       "<div>\n",
       "<style scoped>\n",
       "    .dataframe tbody tr th:only-of-type {\n",
       "        vertical-align: middle;\n",
       "    }\n",
       "\n",
       "    .dataframe tbody tr th {\n",
       "        vertical-align: top;\n",
       "    }\n",
       "\n",
       "    .dataframe thead th {\n",
       "        text-align: right;\n",
       "    }\n",
       "</style>\n",
       "<table border=\"1\" class=\"dataframe\">\n",
       "  <thead>\n",
       "    <tr style=\"text-align: right;\">\n",
       "      <th></th>\n",
       "      <th>content</th>\n",
       "    </tr>\n",
       "  </thead>\n",
       "  <tbody>\n",
       "    <tr>\n",
       "      <th>22</th>\n",
       "      <td>67 n. raymond ave.   los angeles asian</td>\n",
       "    </tr>\n",
       "    <tr>\n",
       "      <th>38</th>\n",
       "      <td>160 e. 64th st.   new york american</td>\n",
       "    </tr>\n",
       "    <tr>\n",
       "      <th>83</th>\n",
       "      <td>595 piedmont ave. rio shopping mall atlantaasian</td>\n",
       "    </tr>\n",
       "    <tr>\n",
       "      <th>84</th>\n",
       "      <td>1397 n. highland ave. atlantacaribbean</td>\n",
       "    </tr>\n",
       "    <tr>\n",
       "      <th>74</th>\n",
       "      <td>2355 peachtree rd. . peachtree battle shoppin...</td>\n",
       "    </tr>\n",
       "    <tr>\n",
       "      <th>37</th>\n",
       "      <td>402 w. 44th st.   new york   tel caribbean</td>\n",
       "    </tr>\n",
       "    <tr>\n",
       "      <th>39</th>\n",
       "      <td>33 w. 55th st.   new york french</td>\n",
       "    </tr>\n",
       "    <tr>\n",
       "      <th>73</th>\n",
       "      <td>2245 e. flamingo rd.   las vegas seafood</td>\n",
       "    </tr>\n",
       "    <tr>\n",
       "      <th>57</th>\n",
       "      <td>240 central park s   new york italian</td>\n",
       "    </tr>\n",
       "    <tr>\n",
       "      <th>58</th>\n",
       "      <td>156 2nd ave. at 10th st.   new york delicatessen</td>\n",
       "    </tr>\n",
       "    <tr>\n",
       "      <th>75</th>\n",
       "      <td>3125 piedmont rd. . near peachtree rd. atlant...</td>\n",
       "    </tr>\n",
       "    <tr>\n",
       "      <th>27</th>\n",
       "      <td>1 w. 67th st.   new york continental</td>\n",
       "    </tr>\n",
       "    <tr>\n",
       "      <th>107</th>\n",
       "      <td>1737 post st.   san francisco asian</td>\n",
       "    </tr>\n",
       "    <tr>\n",
       "      <th>100</th>\n",
       "      <td>777 sutter st.   san francisco french</td>\n",
       "    </tr>\n",
       "    <tr>\n",
       "      <th>79</th>\n",
       "      <td>1529 piedmont ave. atlantafrench</td>\n",
       "    </tr>\n",
       "    <tr>\n",
       "      <th>101</th>\n",
       "      <td>570 4th st.   san francisco french</td>\n",
       "    </tr>\n",
       "    <tr>\n",
       "      <th>28</th>\n",
       "      <td>2450 broadway between 90th and 91st sts .   n...</td>\n",
       "    </tr>\n",
       "    <tr>\n",
       "      <th>36</th>\n",
       "      <td>42 e. 20th st. between park ave. s and broadwa...</td>\n",
       "    </tr>\n",
       "    <tr>\n",
       "      <th>71</th>\n",
       "      <td>200 e. fremont st.   las vegas seafood</td>\n",
       "    </tr>\n",
       "    <tr>\n",
       "      <th>96</th>\n",
       "      <td>1 mission st.   san francisco american</td>\n",
       "    </tr>\n",
       "    <tr>\n",
       "      <th>82</th>\n",
       "      <td>490 e. paces ferry rd. atlantainternational</td>\n",
       "    </tr>\n",
       "    <tr>\n",
       "      <th>108</th>\n",
       "      <td>3201 fillmore st.   san francisco mediterranean</td>\n",
       "    </tr>\n",
       "  </tbody>\n",
       "</table>\n",
       "</div>"
      ],
      "text/plain": [
       "                                               content\n",
       "22              67 n. raymond ave.   los angeles asian\n",
       "38                 160 e. 64th st.   new york american\n",
       "83    595 piedmont ave. rio shopping mall atlantaasian\n",
       "84              1397 n. highland ave. atlantacaribbean\n",
       "74    2355 peachtree rd. . peachtree battle shoppin...\n",
       "37         402 w. 44th st.   new york   tel caribbean \n",
       "39                    33 w. 55th st.   new york french\n",
       "73            2245 e. flamingo rd.   las vegas seafood\n",
       "57               240 central park s   new york italian\n",
       "58    156 2nd ave. at 10th st.   new york delicatessen\n",
       "75    3125 piedmont rd. . near peachtree rd. atlant...\n",
       "27                1 w. 67th st.   new york continental\n",
       "107                1737 post st.   san francisco asian\n",
       "100              777 sutter st.   san francisco french\n",
       "79                    1529 piedmont ave. atlantafrench\n",
       "101                 570 4th st.   san francisco french\n",
       "28    2450 broadway between 90th and 91st sts .   n...\n",
       "36   42 e. 20th st. between park ave. s and broadwa...\n",
       "71              200 e. fremont st.   las vegas seafood\n",
       "96              1 mission st.   san francisco american\n",
       "82         490 e. paces ferry rd. atlantainternational\n",
       "108    3201 fillmore st.   san francisco mediterranean"
      ]
     },
     "execution_count": 135,
     "metadata": {},
     "output_type": "execute_result"
    }
   ],
   "source": [
    "df_test_1[np.array(y_test) == 1]"
   ]
  },
  {
   "cell_type": "code",
   "execution_count": 136,
   "metadata": {},
   "outputs": [
    {
     "data": {
      "text/html": [
       "<div>\n",
       "<style scoped>\n",
       "    .dataframe tbody tr th:only-of-type {\n",
       "        vertical-align: middle;\n",
       "    }\n",
       "\n",
       "    .dataframe tbody tr th {\n",
       "        vertical-align: top;\n",
       "    }\n",
       "\n",
       "    .dataframe thead th {\n",
       "        text-align: right;\n",
       "    }\n",
       "</style>\n",
       "<table border=\"1\" class=\"dataframe\">\n",
       "  <thead>\n",
       "    <tr style=\"text-align: right;\">\n",
       "      <th></th>\n",
       "      <th>content</th>\n",
       "    </tr>\n",
       "  </thead>\n",
       "  <tbody>\n",
       "    <tr>\n",
       "      <th>240</th>\n",
       "      <td>67 n. raymond ave. pasadenachinese</td>\n",
       "    </tr>\n",
       "    <tr>\n",
       "      <th>256</th>\n",
       "      <td>160 e. 64th st.   new york city   french bistro</td>\n",
       "    </tr>\n",
       "    <tr>\n",
       "      <th>301</th>\n",
       "      <td>595 piedmont ave. atlantaindian</td>\n",
       "    </tr>\n",
       "    <tr>\n",
       "      <th>302</th>\n",
       "      <td>1397 n. highland ave. atlantaeclectic</td>\n",
       "    </tr>\n",
       "    <tr>\n",
       "      <th>292</th>\n",
       "      <td>2355 peachtree rd. ne atlantaitalian</td>\n",
       "    </tr>\n",
       "    <tr>\n",
       "      <th>255</th>\n",
       "      <td>402 w. 44th st.   new york city caribbean</td>\n",
       "    </tr>\n",
       "    <tr>\n",
       "      <th>257</th>\n",
       "      <td>33 w. 55th st.   new york city   french ( clas...</td>\n",
       "    </tr>\n",
       "    <tr>\n",
       "      <th>291</th>\n",
       "      <td>2245 e. flamingo rd.   las vegas steakhouses</td>\n",
       "    </tr>\n",
       "    <tr>\n",
       "      <th>275</th>\n",
       "      <td>240 central park s.   new york city italian</td>\n",
       "    </tr>\n",
       "    <tr>\n",
       "      <th>276</th>\n",
       "      <td>156 second ave.   new york city delis</td>\n",
       "    </tr>\n",
       "    <tr>\n",
       "      <th>293</th>\n",
       "      <td>3125 piedmont rd. atlantacalifornian</td>\n",
       "    </tr>\n",
       "    <tr>\n",
       "      <th>245</th>\n",
       "      <td>1 w. 67th st.   new york city   french ( clas...</td>\n",
       "    </tr>\n",
       "    <tr>\n",
       "      <th>325</th>\n",
       "      <td>1737 post st.   san francisco japanese</td>\n",
       "    </tr>\n",
       "    <tr>\n",
       "      <th>318</th>\n",
       "      <td>777 sutter st.   san francisco   french ( new )</td>\n",
       "    </tr>\n",
       "    <tr>\n",
       "      <th>297</th>\n",
       "      <td>1529 piedmont ave. atlanta  french ( new )</td>\n",
       "    </tr>\n",
       "    <tr>\n",
       "      <th>319</th>\n",
       "      <td>570 fourth st.   san francisco   french bistro</td>\n",
       "    </tr>\n",
       "    <tr>\n",
       "      <th>246</th>\n",
       "      <td>2450 broadway   new york city italian</td>\n",
       "    </tr>\n",
       "    <tr>\n",
       "      <th>254</th>\n",
       "      <td>42 e. 20th st.   new york city   american ( ne...</td>\n",
       "    </tr>\n",
       "    <tr>\n",
       "      <th>289</th>\n",
       "      <td>200 e. fremont st.   las vegas   pacific rim</td>\n",
       "    </tr>\n",
       "    <tr>\n",
       "      <th>314</th>\n",
       "      <td>1 mission st.   san francisco   american ( ne...</td>\n",
       "    </tr>\n",
       "    <tr>\n",
       "      <th>300</th>\n",
       "      <td>490 e. paces ferry rd. ne atlantacontinental</td>\n",
       "    </tr>\n",
       "    <tr>\n",
       "      <th>326</th>\n",
       "      <td>3127 fillmore st.   san francisco   american ...</td>\n",
       "    </tr>\n",
       "  </tbody>\n",
       "</table>\n",
       "</div>"
      ],
      "text/plain": [
       "                                               content\n",
       "240                 67 n. raymond ave. pasadenachinese\n",
       "256   160 e. 64th st.   new york city   french bistro \n",
       "301                    595 piedmont ave. atlantaindian\n",
       "302              1397 n. highland ave. atlantaeclectic\n",
       "292               2355 peachtree rd. ne atlantaitalian\n",
       "255          402 w. 44th st.   new york city caribbean\n",
       "257  33 w. 55th st.   new york city   french ( clas...\n",
       "291       2245 e. flamingo rd.   las vegas steakhouses\n",
       "275        240 central park s.   new york city italian\n",
       "276              156 second ave.   new york city delis\n",
       "293               3125 piedmont rd. atlantacalifornian\n",
       "245   1 w. 67th st.   new york city   french ( clas...\n",
       "325             1737 post st.   san francisco japanese\n",
       "318   777 sutter st.   san francisco   french ( new ) \n",
       "297        1529 piedmont ave. atlanta  french ( new ) \n",
       "319    570 fourth st.   san francisco   french bistro \n",
       "246              2450 broadway   new york city italian\n",
       "254  42 e. 20th st.   new york city   american ( ne...\n",
       "289      200 e. fremont st.   las vegas   pacific rim \n",
       "314   1 mission st.   san francisco   american ( ne...\n",
       "300       490 e. paces ferry rd. ne atlantacontinental\n",
       "326   3127 fillmore st.   san francisco   american ..."
      ]
     },
     "execution_count": 136,
     "metadata": {},
     "output_type": "execute_result"
    }
   ],
   "source": [
    "df_test_2[np.array(y_test) == 1]"
   ]
  },
  {
   "cell_type": "markdown",
   "metadata": {},
   "source": [
    "## Test 2"
   ]
  },
  {
   "cell_type": "code",
   "execution_count": null,
   "metadata": {
    "collapsed": false,
    "jupyter": {
     "outputs_hidden": false
    },
    "pycharm": {
     "name": "#%%\n"
    }
   },
   "outputs": [],
   "source": [
    "test_df_new = pd.read_csv(path + \"test.csv\")\n",
    "# drop_single = [i for i in test_df_new.ID.unique() if sum(test_df_new.ID == i) <2]\n",
    "# test_df_new.set_index('ID', inplace=True)\n",
    "# test_df_new.drop(drop_single, inplace=True)\n",
    "\n",
    "# # Generate pairs\n",
    "# pairs = []\n",
    "# for i in test_df_new.index.unique():\n",
    "#     temp = test_df_new[test_df_new.index == i]\n",
    "#     # Generate a pair on the same row and append them to pairs\n",
    "#     pair = [temp.iloc[0, 1], temp.iloc[1, 1]]\n",
    "#     pairs.append(pair)\n",
    "\n",
    "# test_df_new = pd.DataFrame(pairs, columns=['address', 'duplicated_address'])\n",
    "\n",
    "test_df_new.fillna(\"\", inplace=True)\n",
    "test_df_new.reset_index(inplace=True)\n",
    "test_df_1 = test_df_new.loc[:, [\"address\"]]\n",
    "test_df_1[\"content\"] = (\n",
    "    test_df_1[\"address\"]\n",
    "    .str.lower()\n",
    "    .str.replace(\"\\n\", \" \")\n",
    "    .str.replace(r\"[ ]+\", \" \", regex=True)\n",
    "    .str.replace(\"null\", \"\")\n",
    "    .str.replace(\"nan\", \"\")\n",
    ")\n",
    "test_df_2 = test_df_new.loc[:, [\"duplicated_address\"]]\n",
    "test_df_2[\"content\"] = (\n",
    "    test_df_2[\"duplicated_address\"]\n",
    "    .str.lower()\n",
    "    .str.replace(\"\\n\", \" \")\n",
    "    .str.replace(r\"[ ]+\", \" \", regex=True)\n",
    "    .str.replace(\"null\", \"\")\n",
    "    .str.replace(\"nan\", \"\")\n",
    ")"
   ]
  },
  {
   "cell_type": "code",
   "execution_count": null,
   "metadata": {
    "collapsed": false,
    "jupyter": {
     "outputs_hidden": false
    },
    "pycharm": {
     "name": "#%%\n"
    }
   },
   "outputs": [],
   "source": [
    "def test(n, df1, df2):\n",
    "    total_acc = 0\n",
    "    total_f1 = 0\n",
    "    for i in range(0, 1):\n",
    "        test_df_1a, test_df_1b = create_test(n, df1, df2)\n",
    "        X1, X2, drop = data_loader(test_df_1a, test_df_1b)\n",
    "\n",
    "        pred_list = np.array([])\n",
    "        y_true = np.array([])\n",
    "        y_pred = np.array([])\n",
    "        # att1_list = []\n",
    "        # att2_list = []\n",
    "        for a, b in tqdm(zip(X1, X2)):\n",
    "            # Send data to graphic card - Cuda0\n",
    "            a, b = to_cuda(a, device), to_cuda(b, device)\n",
    "            with torch.no_grad():\n",
    "                a, b = model(a, b)\n",
    "                a, b = a.cpu(), b.cpu()\n",
    "                a = a.reshape(a.shape[0], -1)\n",
    "                b = b.reshape(b.shape[0], -1)\n",
    "                #         att1 = att1.cpu()\n",
    "                #         att2 = att2.cpu()\n",
    "                dist = np.array(\n",
    "                    [\n",
    "                        cosine_similarity([a[i].numpy()], [b[i].numpy()])\n",
    "                        for i in range(0, len(a))\n",
    "                    ]\n",
    "                ).flatten()\n",
    "\n",
    "                y_true_curr = np.zeros(len(dist))\n",
    "                y_true = np.concatenate([y_true, y_true_curr])\n",
    "                if len(y_true) >= n:\n",
    "                    y_true[n:] = 1\n",
    "\n",
    "                y_pred_curr = np.ones(len(dist))\n",
    "                y_pred_curr[np.where(dist <= 0.72)[0]] = 0\n",
    "                y_pred = np.concatenate([y_pred, y_pred_curr])\n",
    "\n",
    "                pred_list = np.concatenate([pred_list, dist])\n",
    "        #         att1_list.append(att1)\n",
    "        #         att2_list.append(att2)\n",
    "        total_acc += accuracy_score(y_true, y_pred)\n",
    "        total_f1 += f1_score(y_true, y_pred)\n",
    "        print(\n",
    "            \"Accuracy:\\t{}\\t\\tF1-score:\\t{}\\t\\t\".format(\n",
    "                round(accuracy_score(y_true, y_pred), 4),\n",
    "                round(f1_score(y_true, y_pred), 4),\n",
    "            ),\n",
    "            end=\"\",\n",
    "        )\n",
    "        print(\n",
    "            \"Precision:\\t{}\\t\\tRecall:\\t{}\\t\\t\".format(\n",
    "                round(precision_score(y_true, y_pred), 4),\n",
    "                round(recall_score(y_true, y_pred), 4),\n",
    "            ),\n",
    "            end=\"\",\n",
    "        )\n",
    "\n",
    "    print(\n",
    "        \"\\nAccuracy:\\t{}\\t\\tF1-score:\\t{}\\t\\t\".format(\n",
    "            round(total_acc, 4), round(total_f1, 4)\n",
    "        ),\n",
    "        end=\"\",\n",
    "    )\n",
    "    return test_df_1a, test_df_1b\n",
    "\n",
    "\n",
    "test_df_1a, test_df_1b = test(5000, test_df_1, test_df_2)"
   ]
  },
  {
   "cell_type": "markdown",
   "metadata": {},
   "source": [
    "# Mistake"
   ]
  },
  {
   "cell_type": "code",
   "execution_count": null,
   "metadata": {
    "collapsed": false,
    "jupyter": {
     "outputs_hidden": false
    },
    "pycharm": {
     "name": "#%%\n"
    }
   },
   "outputs": [],
   "source": [
    "test_df = pd.read_csv(\n",
    "    \"/data/dac/dedupe-project/test/new/GT_added.csv\", encoding=\"ISO-8859-1\"\n",
    ")\n",
    "mistakes_df = pd.read_excel(\"/data/dac/dedupe-project/test/new/mistakes.xlsx\")"
   ]
  },
  {
   "cell_type": "code",
   "execution_count": null,
   "metadata": {
    "collapsed": false,
    "jupyter": {
     "outputs_hidden": false
    },
    "pycharm": {
     "name": "#%%\n"
    }
   },
   "outputs": [],
   "source": [
    "mistakes = [\n",
    "    \"misunderstanding\",\n",
    "    \"typing error (translate)\",\n",
    "    \"don’t know zipcode\",\n",
    "]\n",
    "mistake_dict = {\n",
    "    mistake: list(mistakes_df[mistake].dropna().index) for mistake in mistakes\n",
    "}"
   ]
  },
  {
   "cell_type": "code",
   "execution_count": null,
   "metadata": {
    "collapsed": false,
    "jupyter": {
     "outputs_hidden": false
    },
    "pycharm": {
     "name": "#%%\n"
    }
   },
   "outputs": [],
   "source": [
    "test_df.fillna(\"\", inplace=True)\n",
    "test_df.reset_index(inplace=True)\n",
    "test_df_1 = test_df.loc[:, [\"address\"]]\n",
    "test_df_1[\"content\"] = (\n",
    "    test_df_1[\"address\"]\n",
    "    .str.lower()\n",
    "    .str.replace(\"\\n\", \" \")\n",
    "    .str.replace(r\"[ ]+\", \" \", regex=True)\n",
    ")\n",
    "test_df_2 = test_df.loc[:, [\"duplicated_address\"]]\n",
    "test_df_2[\"content\"] = (\n",
    "    test_df_2[\"duplicated_address\"]\n",
    "    .str.lower()\n",
    "    .str.replace(\"\\n\", \" \")\n",
    "    .str.replace(r\"[ ]+\", \" \", regex=True)\n",
    ")"
   ]
  },
  {
   "cell_type": "code",
   "execution_count": null,
   "metadata": {
    "collapsed": false,
    "jupyter": {
     "outputs_hidden": false
    },
    "pycharm": {
     "name": "#%%\n"
    }
   },
   "outputs": [],
   "source": [
    "X1, X2, truncate = data_loader(test_df_2, test_df_1)\n",
    "test_df_1.drop(truncate, inplace=True)\n",
    "# test_df_1.reset_index(inplace=True)\n",
    "test_df_2.drop(truncate, inplace=True)\n",
    "# test_df_2.reset_index(inplace=True)\n",
    "\n",
    "pred_list = np.array([])\n",
    "y_true = np.array([])\n",
    "y_pred = np.array([])\n",
    "att1_list = []\n",
    "att2_list = []\n",
    "for a, b in tqdm(zip(X1, X2)):\n",
    "    # Send data to graphic card - Cuda0\n",
    "    a, b = to_cuda(a), to_cuda(b)\n",
    "    with torch.no_grad():\n",
    "        a, b = model(a, b)\n",
    "        a, b = a.cpu(), b.cpu()\n",
    "        a = a.reshape(a.shape[0], -1)\n",
    "        b = b.reshape(b.shape[0], -1)\n",
    "        #         att1 = att1.cpu()\n",
    "        #         att2 = att2.cpu()\n",
    "        dist = np.array(\n",
    "            [\n",
    "                cosine_similarity([a[i].numpy()], [b[i].numpy()])\n",
    "                for i in range(0, len(a))\n",
    "            ]\n",
    "        ).flatten()\n",
    "\n",
    "        y_true_curr = np.ones(len(dist))\n",
    "        y_true = np.concatenate([y_true, y_true_curr])\n",
    "\n",
    "        y_pred_curr = np.ones(len(dist))\n",
    "        y_pred_curr[np.where(dist <= 0.83)[0]] = 0\n",
    "        y_pred = np.concatenate([y_pred, y_pred_curr])\n",
    "\n",
    "        pred_list = np.concatenate([pred_list, dist])\n",
    "#         att1_list.append(att1)\n",
    "#         att2_list.append(att2)\n",
    "\n",
    "print(\n",
    "    \"Accuracy:\\t{}\\t\\tF1-score:\\t{}\\t\\t\".format(\n",
    "        round(accuracy_score(y_true, y_pred), 4), round(f1_score(y_true, y_pred), 4)\n",
    "    ),\n",
    "    end=\"\",\n",
    ")\n",
    "print(\n",
    "    \"Precision:\\t{}\\t\\tRecall:\\t{}\\t\\t\".format(\n",
    "        round(precision_score(y_true, y_pred), 4),\n",
    "        round(recall_score(y_true, y_pred), 4),\n",
    "    ),\n",
    "    end=\"\",\n",
    ")"
   ]
  },
  {
   "cell_type": "code",
   "execution_count": null,
   "metadata": {
    "collapsed": false,
    "jupyter": {
     "outputs_hidden": false
    },
    "pycharm": {
     "name": "#%%\n"
    }
   },
   "outputs": [],
   "source": [
    "for key, value in mistake_dict.items():\n",
    "    y_t = y_true[value]\n",
    "    y_p = y_pred[value]\n",
    "    print(key)\n",
    "    print(\n",
    "        \"Accuracy:\\t{}\\t\\tF1-score:\\t{}\\t\\t\".format(\n",
    "            round(accuracy_score(y_t, y_p), 4), round(f1_score(y_t, y_p), 4)\n",
    "        ),\n",
    "        end=\"\",\n",
    "    )\n",
    "    print(\n",
    "        \"Precision:\\t{}\\t\\tRecall:\\t{}\\t\\t\".format(\n",
    "            round(precision_score(y_t, y_p), 4), round(recall_score(y_t, y_p), 4),\n",
    "        )\n",
    "    )"
   ]
  },
  {
   "cell_type": "code",
   "execution_count": null,
   "metadata": {
    "collapsed": false,
    "jupyter": {
     "outputs_hidden": false
    },
    "pycharm": {
     "name": "#%%\n"
    }
   },
   "outputs": [],
   "source": [
    "test_df_1.to_csv(\"/data/dac/dedupe-project/test/new/GT_added.csv\", encoding=\"utf-8\")"
   ]
  }
 ],
 "metadata": {
  "kernelspec": {
   "display_name": "Python 3",
   "language": "python",
   "name": "python3"
  },
  "language_info": {
   "codemirror_mode": {
    "name": "ipython",
    "version": 3
   },
   "file_extension": ".py",
   "mimetype": "text/x-python",
   "name": "python",
   "nbconvert_exporter": "python",
   "pygments_lexer": "ipython3",
   "version": "3.7.5"
  },
  "pycharm": {
   "stem_cell": {
    "cell_type": "raw",
    "metadata": {
     "collapsed": false
    },
    "source": []
   }
  },
  "toc-autonumbering": true,
  "toc-showcode": false,
  "toc-showmarkdowntxt": true,
  "toc-showtags": false,
  "widgets": {
   "application/vnd.jupyter.widget-state+json": {
    "state": {
     "00425a22b107407cad45a838a14ebbf3": {
      "model_module": "@jupyter-widgets/controls",
      "model_module_version": "1.5.0",
      "model_name": "HTMLModel",
      "state": {
       "layout": "IPY_MODEL_d53e0f0d4fc844d799ec08d39c6a404e",
       "style": "IPY_MODEL_3cc4b47cfb004d2e87d06d1d4d52f8c3",
       "value": " 1/? [00:00&lt;00:00, 10.58it/s]"
      }
     },
     "006ebab480804a948a27624c7a7c6119": {
      "model_module": "@jupyter-widgets/controls",
      "model_module_version": "1.5.0",
      "model_name": "ProgressStyleModel",
      "state": {
       "description_width": "initial"
      }
     },
     "0108f33f03e440c19e32a99d57e5b877": {
      "model_module": "@jupyter-widgets/controls",
      "model_module_version": "1.5.0",
      "model_name": "HBoxModel",
      "state": {
       "children": [
        "IPY_MODEL_09c8ac56c8b7477398f8636f648cc306",
        "IPY_MODEL_debfacc409184f6ca71e0fedc4c0c2d1"
       ],
       "layout": "IPY_MODEL_65fd0a4f9d264e9da4af8688e6d396c7"
      }
     },
     "01c4928d52d4483784b192774b0527f2": {
      "model_module": "@jupyter-widgets/controls",
      "model_module_version": "1.5.0",
      "model_name": "HTMLModel",
      "state": {
       "layout": "IPY_MODEL_53102a8eb82a4f87ac39dfc0a2c97113",
       "style": "IPY_MODEL_392496b8563b4fbabaabbb3b8e2b0f28",
       "value": " 1/? [01:30&lt;00:00, 90.30s/it]"
      }
     },
     "03145899f87a4dd7a03b70c5dcba8060": {
      "model_module": "@jupyter-widgets/base",
      "model_module_version": "1.2.0",
      "model_name": "LayoutModel",
      "state": {}
     },
     "037b55e9b5694fa0891e69270760e3ce": {
      "model_module": "@jupyter-widgets/base",
      "model_module_version": "1.2.0",
      "model_name": "LayoutModel",
      "state": {}
     },
     "03d039e32d4044828ebd42455e6bb184": {
      "model_module": "@jupyter-widgets/base",
      "model_module_version": "1.2.0",
      "model_name": "LayoutModel",
      "state": {}
     },
     "03e4d6e30a664c06aef131f0a789c156": {
      "model_module": "@jupyter-widgets/controls",
      "model_module_version": "1.5.0",
      "model_name": "ProgressStyleModel",
      "state": {
       "description_width": "initial"
      }
     },
     "0476e4e9cd5b48ef936368716fd04fbf": {
      "model_module": "@jupyter-widgets/controls",
      "model_module_version": "1.5.0",
      "model_name": "HTMLModel",
      "state": {
       "layout": "IPY_MODEL_4f7ee8ab3ce14bb98fa05b097c07baad",
       "style": "IPY_MODEL_8856536696724520883cc5fe0682b26e",
       "value": " 1/? [00:13&lt;00:00, 13.96s/it]"
      }
     },
     "047e7d8110d84c9a812e1c7d4f491f82": {
      "model_module": "@jupyter-widgets/controls",
      "model_module_version": "1.5.0",
      "model_name": "DescriptionStyleModel",
      "state": {
       "description_width": ""
      }
     },
     "04904e3568c04fb0a782f6d4e8f708fd": {
      "model_module": "@jupyter-widgets/controls",
      "model_module_version": "1.5.0",
      "model_name": "HBoxModel",
      "state": {
       "children": [
        "IPY_MODEL_33c6c2bf3ddb4e63ab9c9cbc56eaf1de",
        "IPY_MODEL_38313a3801b44416aefa7043f49deae9"
       ],
       "layout": "IPY_MODEL_7dc3d6656a684833a495ea559a304d9c"
      }
     },
     "0580f82fb6ad4bddaafed8c7351d7bc1": {
      "model_module": "@jupyter-widgets/controls",
      "model_module_version": "1.5.0",
      "model_name": "DescriptionStyleModel",
      "state": {
       "description_width": ""
      }
     },
     "064a18eced37409389d59734d3e4e21d": {
      "model_module": "@jupyter-widgets/controls",
      "model_module_version": "1.5.0",
      "model_name": "DescriptionStyleModel",
      "state": {
       "description_width": ""
      }
     },
     "0717212427eb4a72ba81683cb3b3621a": {
      "model_module": "@jupyter-widgets/base",
      "model_module_version": "1.2.0",
      "model_name": "LayoutModel",
      "state": {}
     },
     "07f47d51537547fe9e95974e993120bd": {
      "model_module": "@jupyter-widgets/controls",
      "model_module_version": "1.5.0",
      "model_name": "ProgressStyleModel",
      "state": {
       "description_width": "initial"
      }
     },
     "09c8ac56c8b7477398f8636f648cc306": {
      "model_module": "@jupyter-widgets/controls",
      "model_module_version": "1.5.0",
      "model_name": "IntProgressModel",
      "state": {
       "bar_style": "danger",
       "layout": "IPY_MODEL_1519b53edcef46599b681b455837cca2",
       "max": 1,
       "style": "IPY_MODEL_bedf4c3fe32e47adbef0a7f89e6305cd"
      }
     },
     "0b380a2cf02c4b3ca552608e503fa2c6": {
      "model_module": "@jupyter-widgets/controls",
      "model_module_version": "1.5.0",
      "model_name": "IntProgressModel",
      "state": {
       "bar_style": "danger",
       "layout": "IPY_MODEL_9b8d40259fa948be946309f1315b1b73",
       "max": 1,
       "style": "IPY_MODEL_6c67a7db7a674f139691a77ce248091d"
      }
     },
     "0b3c4a48635d4420bbf988807dba6044": {
      "model_module": "@jupyter-widgets/controls",
      "model_module_version": "1.5.0",
      "model_name": "HBoxModel",
      "state": {
       "children": [
        "IPY_MODEL_d9c857549a78477e9268b343888c4841",
        "IPY_MODEL_d456d810a8674732afbc65df98ab31d2"
       ],
       "layout": "IPY_MODEL_ce0914ed5ebf43189e2e43a05d8c1fd7"
      }
     },
     "0b454c4b1e6b460eba57c89a47e25e13": {
      "model_module": "@jupyter-widgets/controls",
      "model_module_version": "1.5.0",
      "model_name": "DescriptionStyleModel",
      "state": {
       "description_width": ""
      }
     },
     "0b9d98142b594102932a9000ed4a2a23": {
      "model_module": "@jupyter-widgets/controls",
      "model_module_version": "1.5.0",
      "model_name": "DescriptionStyleModel",
      "state": {
       "description_width": ""
      }
     },
     "0ccb04c5877848fb93bccf2a4d27e205": {
      "model_module": "@jupyter-widgets/controls",
      "model_module_version": "1.5.0",
      "model_name": "DescriptionStyleModel",
      "state": {
       "description_width": ""
      }
     },
     "0ce8c7b1d8284d07ae45c6235860f683": {
      "model_module": "@jupyter-widgets/controls",
      "model_module_version": "1.5.0",
      "model_name": "HTMLModel",
      "state": {
       "layout": "IPY_MODEL_59694a3d84a94ac7af28e08b47dae4e2",
       "style": "IPY_MODEL_7c1211a23ab24b39b162da3531db38c8",
       "value": " 1/? [00:00&lt;00:00, 11.55it/s]"
      }
     },
     "0d058497d8e64233a813cab4af43756b": {
      "model_module": "@jupyter-widgets/controls",
      "model_module_version": "1.5.0",
      "model_name": "HBoxModel",
      "state": {
       "children": [
        "IPY_MODEL_cf2ee9e8eb9841e09d020735626afee1",
        "IPY_MODEL_d09dbead76c84ca988eb7432d1c7be6d"
       ],
       "layout": "IPY_MODEL_d8bc34c0757f451c9359cd3ce756c385"
      }
     },
     "0d61f1d4db724364b5b55891a2244d0f": {
      "model_module": "@jupyter-widgets/controls",
      "model_module_version": "1.5.0",
      "model_name": "IntProgressModel",
      "state": {
       "bar_style": "success",
       "layout": "IPY_MODEL_e9891de1af5c4315b90e0d987e16a432",
       "max": 1,
       "style": "IPY_MODEL_275fd2b4b0b14d7982c633ca8bf58561",
       "value": 1
      }
     },
     "0d6fe65131e743efa811965fbf9468d9": {
      "model_module": "@jupyter-widgets/controls",
      "model_module_version": "1.5.0",
      "model_name": "IntProgressModel",
      "state": {
       "bar_style": "success",
       "description": "Padding: 100%",
       "layout": "IPY_MODEL_b6d9be7c470e4401bea31fd6ada0e767",
       "max": 189,
       "style": "IPY_MODEL_659b9a1c2f204062b2da94510fa505b5",
       "value": 189
      }
     },
     "0da746e3311a4e8da0e45d02703d1a73": {
      "model_module": "@jupyter-widgets/base",
      "model_module_version": "1.2.0",
      "model_name": "LayoutModel",
      "state": {}
     },
     "0e7951ca1a6d459e93b30600d4bf492e": {
      "model_module": "@jupyter-widgets/base",
      "model_module_version": "1.2.0",
      "model_name": "LayoutModel",
      "state": {}
     },
     "0ec41da2ce4d4ea48cb87002a21956e1": {
      "model_module": "@jupyter-widgets/controls",
      "model_module_version": "1.5.0",
      "model_name": "IntProgressModel",
      "state": {
       "bar_style": "success",
       "description": "Padding: 100%",
       "layout": "IPY_MODEL_faa149763ae54178963cb4064eb94351",
       "max": 189,
       "style": "IPY_MODEL_e6bf17d99e18473181ba80fc47de331d",
       "value": 189
      }
     },
     "10fc2ff40c894b93bbb774c5163a2563": {
      "model_module": "@jupyter-widgets/base",
      "model_module_version": "1.2.0",
      "model_name": "LayoutModel",
      "state": {}
     },
     "11281c50ff594fd0ac9c0d16e52e7107": {
      "model_module": "@jupyter-widgets/controls",
      "model_module_version": "1.5.0",
      "model_name": "IntProgressModel",
      "state": {
       "bar_style": "success",
       "description": "Padding: 100%",
       "layout": "IPY_MODEL_781045c50d04464dad30fc2ece9b5fe7",
       "max": 189,
       "style": "IPY_MODEL_bbbc71a1c00f44038f32212c9f6561a4",
       "value": 189
      }
     },
     "114a6c36989841d8a04be67742e90804": {
      "model_module": "@jupyter-widgets/base",
      "model_module_version": "1.2.0",
      "model_name": "LayoutModel",
      "state": {}
     },
     "11e415719b4f4ce4b02067b341c39b79": {
      "model_module": "@jupyter-widgets/base",
      "model_module_version": "1.2.0",
      "model_name": "LayoutModel",
      "state": {}
     },
     "1233dc870232485e8183162136682131": {
      "model_module": "@jupyter-widgets/controls",
      "model_module_version": "1.5.0",
      "model_name": "ProgressStyleModel",
      "state": {
       "description_width": "initial"
      }
     },
     "13cee832b93f44b5ade8c5c3d7d22244": {
      "model_module": "@jupyter-widgets/controls",
      "model_module_version": "1.5.0",
      "model_name": "ProgressStyleModel",
      "state": {
       "description_width": "initial"
      }
     },
     "145e50fd2a674fe684176492fa56d328": {
      "model_module": "@jupyter-widgets/base",
      "model_module_version": "1.2.0",
      "model_name": "LayoutModel",
      "state": {}
     },
     "14894c71e6524d6fb0a703025e342256": {
      "model_module": "@jupyter-widgets/controls",
      "model_module_version": "1.5.0",
      "model_name": "ProgressStyleModel",
      "state": {
       "description_width": "initial"
      }
     },
     "15164597b4c049e0847e83daa5e432ea": {
      "model_module": "@jupyter-widgets/controls",
      "model_module_version": "1.5.0",
      "model_name": "ProgressStyleModel",
      "state": {
       "description_width": "initial"
      }
     },
     "1519b53edcef46599b681b455837cca2": {
      "model_module": "@jupyter-widgets/base",
      "model_module_version": "1.2.0",
      "model_name": "LayoutModel",
      "state": {}
     },
     "1522bff2a0e544a29192599aeefcc47b": {
      "model_module": "@jupyter-widgets/base",
      "model_module_version": "1.2.0",
      "model_name": "LayoutModel",
      "state": {}
     },
     "15ca600d6ce14ea5b1c2e84b3d6c2cf3": {
      "model_module": "@jupyter-widgets/controls",
      "model_module_version": "1.5.0",
      "model_name": "ProgressStyleModel",
      "state": {
       "description_width": "initial"
      }
     },
     "15dc52c1855546c684520370c66976b6": {
      "model_module": "@jupyter-widgets/controls",
      "model_module_version": "1.5.0",
      "model_name": "ProgressStyleModel",
      "state": {
       "description_width": "initial"
      }
     },
     "16a5e2980bb14fbfbdd0d33fb7d7c3d3": {
      "model_module": "@jupyter-widgets/base",
      "model_module_version": "1.2.0",
      "model_name": "LayoutModel",
      "state": {}
     },
     "178036eab499475b946b0d4282a450d6": {
      "model_module": "@jupyter-widgets/base",
      "model_module_version": "1.2.0",
      "model_name": "LayoutModel",
      "state": {}
     },
     "17cf8bbcb3424ed085302d8466d78eaa": {
      "model_module": "@jupyter-widgets/controls",
      "model_module_version": "1.5.0",
      "model_name": "IntProgressModel",
      "state": {
       "bar_style": "success",
       "layout": "IPY_MODEL_22ce072932e7487990605f4759f8a798",
       "max": 1,
       "style": "IPY_MODEL_b36ff1d0e5a342f098818747e4ccacbd",
       "value": 1
      }
     },
     "180f4b87616342ba90cc09d4a5965f3e": {
      "model_module": "@jupyter-widgets/controls",
      "model_module_version": "1.5.0",
      "model_name": "HTMLModel",
      "state": {
       "layout": "IPY_MODEL_824f6918d8c944a1b411498bf3be4fc6",
       "style": "IPY_MODEL_64f2d3df63e54e6e8d1c8e87822bd859",
       "value": " 189/189 [00:00&lt;00:00, 719.62it/s]"
      }
     },
     "18a8d8512a244a7a9424f0675ec2f6f0": {
      "model_module": "@jupyter-widgets/base",
      "model_module_version": "1.2.0",
      "model_name": "LayoutModel",
      "state": {}
     },
     "192d968a55c74f7497ea2d7cf5d75d9e": {
      "model_module": "@jupyter-widgets/base",
      "model_module_version": "1.2.0",
      "model_name": "LayoutModel",
      "state": {}
     },
     "19bf933f25a94ab5a184c9712d8af97a": {
      "model_module": "@jupyter-widgets/controls",
      "model_module_version": "1.5.0",
      "model_name": "HBoxModel",
      "state": {
       "children": [
        "IPY_MODEL_872a1611a558467a88d7b5f8426b22ca",
        "IPY_MODEL_6a157acbd1fe448780eb67e6e8448c81"
       ],
       "layout": "IPY_MODEL_5de256171269489c9491ccc58d8ec382"
      }
     },
     "1aa9076212d14db1995005d647ad8009": {
      "model_module": "@jupyter-widgets/controls",
      "model_module_version": "1.5.0",
      "model_name": "HTMLModel",
      "state": {
       "layout": "IPY_MODEL_94f539354dc640409b19569df2edefde",
       "style": "IPY_MODEL_884936d2a87c4d7b8d15efd12326c928",
       "value": " 1/? [00:00&lt;00:00, 11.92it/s]"
      }
     },
     "1bc51af13b08400a9d926fd5419ffaa4": {
      "model_module": "@jupyter-widgets/controls",
      "model_module_version": "1.5.0",
      "model_name": "HBoxModel",
      "state": {
       "children": [
        "IPY_MODEL_653b79a62f2c45c287a88f7a68935888",
        "IPY_MODEL_e502341f517c4ef189a0beea095a4a61"
       ],
       "layout": "IPY_MODEL_eb8b7aef31d841d09a4a8d3631e86a07"
      }
     },
     "1c1697be79e640c8b9ca7866c409b25e": {
      "model_module": "@jupyter-widgets/controls",
      "model_module_version": "1.5.0",
      "model_name": "ProgressStyleModel",
      "state": {
       "description_width": "initial"
      }
     },
     "1d92fd23fa464f0eb2cb8eaf83032ee1": {
      "model_module": "@jupyter-widgets/base",
      "model_module_version": "1.2.0",
      "model_name": "LayoutModel",
      "state": {}
     },
     "1e5d347a4dd245fc857fee6bef9e46b6": {
      "model_module": "@jupyter-widgets/base",
      "model_module_version": "1.2.0",
      "model_name": "LayoutModel",
      "state": {}
     },
     "1ed688b462f14b86928dda167f04c2c4": {
      "model_module": "@jupyter-widgets/controls",
      "model_module_version": "1.5.0",
      "model_name": "HTMLModel",
      "state": {
       "layout": "IPY_MODEL_a99f421ef3ab4a1d9841e32651cfe13a",
       "style": "IPY_MODEL_88ee94634b50473dbdcef94e926fb381",
       "value": " 1225/1225 [2:20:48&lt;00:00,  6.90s/it]"
      }
     },
     "1f1b62c8f79b448197138f7d2b04e96e": {
      "model_module": "@jupyter-widgets/controls",
      "model_module_version": "1.5.0",
      "model_name": "HTMLModel",
      "state": {
       "layout": "IPY_MODEL_ac08ad9d23a745eaa88af5c5eace0bf3",
       "style": "IPY_MODEL_3b2b68606884458ba2e701e72236b613",
       "value": " 28896/28896 [2:46:03&lt;00:00,  2.90it/s]"
      }
     },
     "1f4c595602484ef3b5638cae9acfe87a": {
      "model_module": "@jupyter-widgets/base",
      "model_module_version": "1.2.0",
      "model_name": "LayoutModel",
      "state": {}
     },
     "1fd407aed2fc409482ca9327c722c2ff": {
      "model_module": "@jupyter-widgets/base",
      "model_module_version": "1.2.0",
      "model_name": "LayoutModel",
      "state": {}
     },
     "1fd8486bc0d94858bd6288f92baebcee": {
      "model_module": "@jupyter-widgets/controls",
      "model_module_version": "1.5.0",
      "model_name": "HTMLModel",
      "state": {
       "layout": "IPY_MODEL_87cce1063b75489a9b08683705af528a",
       "style": "IPY_MODEL_8c0998643b6a47b098e25ef7dd529643",
       "value": " 1/? [00:06&lt;00:00,  6.38s/it]"
      }
     },
     "20e47236d1104097acde06fd20a1d919": {
      "model_module": "@jupyter-widgets/base",
      "model_module_version": "1.2.0",
      "model_name": "LayoutModel",
      "state": {}
     },
     "20e7a5f68e6345bea7310f05a72d623b": {
      "model_module": "@jupyter-widgets/base",
      "model_module_version": "1.2.0",
      "model_name": "LayoutModel",
      "state": {}
     },
     "211481c07b8843108ace3381012481db": {
      "model_module": "@jupyter-widgets/base",
      "model_module_version": "1.2.0",
      "model_name": "LayoutModel",
      "state": {}
     },
     "216a39a1a637466d894c486389cb1479": {
      "model_module": "@jupyter-widgets/controls",
      "model_module_version": "1.5.0",
      "model_name": "ProgressStyleModel",
      "state": {
       "description_width": "initial"
      }
     },
     "218e61814aae4a39b1f3f8e1fdf83251": {
      "model_module": "@jupyter-widgets/base",
      "model_module_version": "1.2.0",
      "model_name": "LayoutModel",
      "state": {}
     },
     "2201ff7b6ed24d1a9e23674b73a8f549": {
      "model_module": "@jupyter-widgets/base",
      "model_module_version": "1.2.0",
      "model_name": "LayoutModel",
      "state": {}
     },
     "22ce072932e7487990605f4759f8a798": {
      "model_module": "@jupyter-widgets/base",
      "model_module_version": "1.2.0",
      "model_name": "LayoutModel",
      "state": {}
     },
     "237693a4af1c4e49ad5ecc5402106a28": {
      "model_module": "@jupyter-widgets/controls",
      "model_module_version": "1.5.0",
      "model_name": "HTMLModel",
      "state": {
       "layout": "IPY_MODEL_6eb515b6701346a4a1e272b98ce69e6c",
       "style": "IPY_MODEL_63c85c160df54da6a2bcc809848d573f",
       "value": " 189/189 [14:37&lt;00:00,  4.64s/it]"
      }
     },
     "2417de9522db4ce6b4bbbb4f8c1225c2": {
      "model_module": "@jupyter-widgets/controls",
      "model_module_version": "1.5.0",
      "model_name": "ProgressStyleModel",
      "state": {
       "description_width": "initial"
      }
     },
     "247eb7a4d3d7404ab20165e5ee047f82": {
      "model_module": "@jupyter-widgets/controls",
      "model_module_version": "1.5.0",
      "model_name": "IntProgressModel",
      "state": {
       "bar_style": "success",
       "layout": "IPY_MODEL_ea556933318e478788edead68b0431e4",
       "max": 1,
       "style": "IPY_MODEL_54e9952a9c6047a9b36e9ebeebe10264",
       "value": 1
      }
     },
     "25334ad339bb4ff0b40bb6b8ae1aeec6": {
      "model_module": "@jupyter-widgets/base",
      "model_module_version": "1.2.0",
      "model_name": "LayoutModel",
      "state": {}
     },
     "25fd8ce486f64e52990e2dee806cbf39": {
      "model_module": "@jupyter-widgets/controls",
      "model_module_version": "1.5.0",
      "model_name": "IntProgressModel",
      "state": {
       "bar_style": "success",
       "layout": "IPY_MODEL_5f6b67db46aa452aaa0f1de23d057d7b",
       "max": 1,
       "style": "IPY_MODEL_99204d65d1b94ad5bc7e6c6fd281ac23",
       "value": 1
      }
     },
     "273c66565f774252b5b05ae17d9d49b0": {
      "model_module": "@jupyter-widgets/controls",
      "model_module_version": "1.5.0",
      "model_name": "ProgressStyleModel",
      "state": {
       "description_width": "initial"
      }
     },
     "274c50cede954f0c9a49fac576877bbb": {
      "model_module": "@jupyter-widgets/base",
      "model_module_version": "1.2.0",
      "model_name": "LayoutModel",
      "state": {}
     },
     "275fd2b4b0b14d7982c633ca8bf58561": {
      "model_module": "@jupyter-widgets/controls",
      "model_module_version": "1.5.0",
      "model_name": "ProgressStyleModel",
      "state": {
       "description_width": "initial"
      }
     },
     "285460d4297b430f86beab9fccad9dfa": {
      "model_module": "@jupyter-widgets/base",
      "model_module_version": "1.2.0",
      "model_name": "LayoutModel",
      "state": {}
     },
     "2866b0081fa74e2c899f0b702a3386cf": {
      "model_module": "@jupyter-widgets/controls",
      "model_module_version": "1.5.0",
      "model_name": "ProgressStyleModel",
      "state": {
       "description_width": "initial"
      }
     },
     "287f7b3cc08d401a99ab993a3523a3e5": {
      "model_module": "@jupyter-widgets/controls",
      "model_module_version": "1.5.0",
      "model_name": "HTMLModel",
      "state": {
       "layout": "IPY_MODEL_e7b73a4775674340a06f90feb4159631",
       "style": "IPY_MODEL_abc86101d897431ba992bd29f7e6d282",
       "value": " 1/? [03:30&lt;00:00, 210.79s/it]"
      }
     },
     "28bb178cac284303887f38b8e00db679": {
      "model_module": "@jupyter-widgets/base",
      "model_module_version": "1.2.0",
      "model_name": "LayoutModel",
      "state": {}
     },
     "2919ce5816d847ef97a7604c39f3a17a": {
      "model_module": "@jupyter-widgets/controls",
      "model_module_version": "1.5.0",
      "model_name": "IntProgressModel",
      "state": {
       "bar_style": "success",
       "layout": "IPY_MODEL_ea5fe26e55a84375b7f8e76d317fddaf",
       "max": 1,
       "style": "IPY_MODEL_07f47d51537547fe9e95974e993120bd",
       "value": 1
      }
     },
     "2a44fe546912471db0179268f4a210bd": {
      "model_module": "@jupyter-widgets/base",
      "model_module_version": "1.2.0",
      "model_name": "LayoutModel",
      "state": {}
     },
     "2a48c25442ff46f3af46925e5214d6df": {
      "model_module": "@jupyter-widgets/controls",
      "model_module_version": "1.5.0",
      "model_name": "IntProgressModel",
      "state": {
       "bar_style": "success",
       "layout": "IPY_MODEL_2201ff7b6ed24d1a9e23674b73a8f549",
       "max": 1,
       "style": "IPY_MODEL_f0fa5132e2cf4fafae9cc1925d4aad7b",
       "value": 1
      }
     },
     "2b9ab1f41ca44365a95beab06e105cee": {
      "model_module": "@jupyter-widgets/controls",
      "model_module_version": "1.5.0",
      "model_name": "IntProgressModel",
      "state": {
       "bar_style": "success",
       "layout": "IPY_MODEL_edb871719a004a4e87358573e855d2a9",
       "max": 1,
       "style": "IPY_MODEL_273c66565f774252b5b05ae17d9d49b0",
       "value": 1
      }
     },
     "2bd441fd698a49cbafc05e6c4763a17c": {
      "model_module": "@jupyter-widgets/base",
      "model_module_version": "1.2.0",
      "model_name": "LayoutModel",
      "state": {}
     },
     "2c31fae567a54ecfb9818a16f1470d10": {
      "model_module": "@jupyter-widgets/base",
      "model_module_version": "1.2.0",
      "model_name": "LayoutModel",
      "state": {}
     },
     "2cad97f3a20f45b1ae39da75877f7109": {
      "model_module": "@jupyter-widgets/base",
      "model_module_version": "1.2.0",
      "model_name": "LayoutModel",
      "state": {}
     },
     "2d331b5de9304aef86e046d873b92d4f": {
      "model_module": "@jupyter-widgets/base",
      "model_module_version": "1.2.0",
      "model_name": "LayoutModel",
      "state": {}
     },
     "2dc294461dc74e7d8d366cafcb5c5cf8": {
      "model_module": "@jupyter-widgets/controls",
      "model_module_version": "1.5.0",
      "model_name": "HBoxModel",
      "state": {
       "children": [
        "IPY_MODEL_247eb7a4d3d7404ab20165e5ee047f82",
        "IPY_MODEL_1fd8486bc0d94858bd6288f92baebcee"
       ],
       "layout": "IPY_MODEL_037b55e9b5694fa0891e69270760e3ce"
      }
     },
     "2e3f4879a60445e28db21e04bb1fc3f9": {
      "model_module": "@jupyter-widgets/controls",
      "model_module_version": "1.5.0",
      "model_name": "IntProgressModel",
      "state": {
       "bar_style": "danger",
       "description": "Padding:   0%",
       "layout": "IPY_MODEL_abff12db63b3418c8825d465c42aa8b7",
       "max": 189,
       "style": "IPY_MODEL_1c1697be79e640c8b9ca7866c409b25e"
      }
     },
     "2e573ae6747f424e98479ac340e92ae3": {
      "model_module": "@jupyter-widgets/controls",
      "model_module_version": "1.5.0",
      "model_name": "IntProgressModel",
      "state": {
       "bar_style": "success",
       "description": "Padding: 100%",
       "layout": "IPY_MODEL_16a5e2980bb14fbfbdd0d33fb7d7c3d3",
       "max": 189,
       "style": "IPY_MODEL_9a70b799324a48848d8ab9faac0e4882",
       "value": 189
      }
     },
     "2eab71e77efd4419b9aa18e6f3fd197f": {
      "model_module": "@jupyter-widgets/controls",
      "model_module_version": "1.5.0",
      "model_name": "HTMLModel",
      "state": {
       "layout": "IPY_MODEL_6735fd8cb3854e65b89d80d6e021568a",
       "style": "IPY_MODEL_addd1eda18ba45ad95a5c1c4d65ecf97",
       "value": " 189/189 [00:00&lt;00:00, 3592.64it/s]"
      }
     },
     "2fdb2182a95e412ca907fcf79d5e4e09": {
      "model_module": "@jupyter-widgets/base",
      "model_module_version": "1.2.0",
      "model_name": "LayoutModel",
      "state": {}
     },
     "313005174a954c4e8793612de4162fb3": {
      "model_module": "@jupyter-widgets/controls",
      "model_module_version": "1.5.0",
      "model_name": "IntProgressModel",
      "state": {
       "bar_style": "success",
       "description": "Padding: 100%",
       "layout": "IPY_MODEL_7b7747e36ca049b89ded29321792aa95",
       "max": 1225,
       "style": "IPY_MODEL_f78d7b1f0be649c6825f1d171d3b4b14",
       "value": 1225
      }
     },
     "316b04eeee5c40a0ad55d470048f87dc": {
      "model_module": "@jupyter-widgets/controls",
      "model_module_version": "1.5.0",
      "model_name": "HBoxModel",
      "state": {
       "children": [
        "IPY_MODEL_c44c986818a04843bbe9a7eb3be5ad43",
        "IPY_MODEL_6cdfcb22c16e4ae99ddf596b499123be"
       ],
       "layout": "IPY_MODEL_274c50cede954f0c9a49fac576877bbb"
      }
     },
     "31826cf5c2aa481bb5c2b3ae42d96a34": {
      "model_module": "@jupyter-widgets/base",
      "model_module_version": "1.2.0",
      "model_name": "LayoutModel",
      "state": {}
     },
     "3182e588e38e4096b77958faac8b28d1": {
      "model_module": "@jupyter-widgets/base",
      "model_module_version": "1.2.0",
      "model_name": "LayoutModel",
      "state": {}
     },
     "32a181f23225432eb61ec87076003d40": {
      "model_module": "@jupyter-widgets/controls",
      "model_module_version": "1.5.0",
      "model_name": "HTMLModel",
      "state": {
       "layout": "IPY_MODEL_d0c6494f0cb740a68f5f404ad8183e06",
       "style": "IPY_MODEL_0b454c4b1e6b460eba57c89a47e25e13",
       "value": " 189/189 [00:00&lt;00:00, 256.83it/s]"
      }
     },
     "32ce939be2e844c7a085ffc273d8d744": {
      "model_module": "@jupyter-widgets/controls",
      "model_module_version": "1.5.0",
      "model_name": "ProgressStyleModel",
      "state": {
       "description_width": "initial"
      }
     },
     "3352a620d1224210ac21c96e3e355ca5": {
      "model_module": "@jupyter-widgets/controls",
      "model_module_version": "1.5.0",
      "model_name": "ProgressStyleModel",
      "state": {
       "description_width": "initial"
      }
     },
     "33539287e77749a09b8a313059354334": {
      "model_module": "@jupyter-widgets/base",
      "model_module_version": "1.2.0",
      "model_name": "LayoutModel",
      "state": {}
     },
     "33a7f591bd3f4df995b15711f7256914": {
      "model_module": "@jupyter-widgets/controls",
      "model_module_version": "1.5.0",
      "model_name": "HBoxModel",
      "state": {
       "children": [
        "IPY_MODEL_772ae2e4f0a94dd293edca434bec7ea1",
        "IPY_MODEL_287f7b3cc08d401a99ab993a3523a3e5"
       ],
       "layout": "IPY_MODEL_18a8d8512a244a7a9424f0675ec2f6f0"
      }
     },
     "33c6c2bf3ddb4e63ab9c9cbc56eaf1de": {
      "model_module": "@jupyter-widgets/controls",
      "model_module_version": "1.5.0",
      "model_name": "IntProgressModel",
      "state": {
       "bar_style": "success",
       "description": "Load triplets: 100%",
       "layout": "IPY_MODEL_c359a6cfbd3d458d8770fa4616e8a239",
       "max": 2070054,
       "style": "IPY_MODEL_14894c71e6524d6fb0a703025e342256",
       "value": 2070054
      }
     },
     "355ffdafc64d43e0a0ced76553e2734c": {
      "model_module": "@jupyter-widgets/controls",
      "model_module_version": "1.5.0",
      "model_name": "HBoxModel",
      "state": {
       "children": [
        "IPY_MODEL_8be9621c9ddd46209f4b102160d0f116",
        "IPY_MODEL_0ce8c7b1d8284d07ae45c6235860f683"
       ],
       "layout": "IPY_MODEL_c1a47da623014f54925234eb470f6e60"
      }
     },
     "38313a3801b44416aefa7043f49deae9": {
      "model_module": "@jupyter-widgets/controls",
      "model_module_version": "1.5.0",
      "model_name": "HTMLModel",
      "state": {
       "layout": "IPY_MODEL_e8ca090f094145f7a6d153f0d654990e",
       "style": "IPY_MODEL_ef314b87f24a468198c5d5642feed32e",
       "value": " 2070054/2070054 [00:08&lt;00:00, 258554.10it/s]"
      }
     },
     "38ceb941839f428e913ae12124252217": {
      "model_module": "@jupyter-widgets/controls",
      "model_module_version": "1.5.0",
      "model_name": "HTMLModel",
      "state": {
       "layout": "IPY_MODEL_7fa49087748c429e8755277c79ca83cf",
       "style": "IPY_MODEL_93b9d5a6c911413ebec015154cc04740",
       "value": " 189/189 [01:54&lt;00:00,  1.65it/s]"
      }
     },
     "392496b8563b4fbabaabbb3b8e2b0f28": {
      "model_module": "@jupyter-widgets/controls",
      "model_module_version": "1.5.0",
      "model_name": "DescriptionStyleModel",
      "state": {
       "description_width": ""
      }
     },
     "3a64f3b9a7ea474ba654a620d5fcd6bd": {
      "model_module": "@jupyter-widgets/base",
      "model_module_version": "1.2.0",
      "model_name": "LayoutModel",
      "state": {}
     },
     "3af8e3fb7a2b454ab0831704e1ba7d3b": {
      "model_module": "@jupyter-widgets/controls",
      "model_module_version": "1.5.0",
      "model_name": "HBoxModel",
      "state": {
       "children": [
        "IPY_MODEL_0b380a2cf02c4b3ca552608e503fa2c6",
        "IPY_MODEL_4f98a8796d6a41d3b10be74dfa613f3c"
       ],
       "layout": "IPY_MODEL_2bd441fd698a49cbafc05e6c4763a17c"
      }
     },
     "3b183da4f64043e6af967316e1874fdc": {
      "model_module": "@jupyter-widgets/base",
      "model_module_version": "1.2.0",
      "model_name": "LayoutModel",
      "state": {}
     },
     "3b2b68606884458ba2e701e72236b613": {
      "model_module": "@jupyter-widgets/controls",
      "model_module_version": "1.5.0",
      "model_name": "DescriptionStyleModel",
      "state": {
       "description_width": ""
      }
     },
     "3ba3d7db81544a958178a0104cafabc2": {
      "model_module": "@jupyter-widgets/base",
      "model_module_version": "1.2.0",
      "model_name": "LayoutModel",
      "state": {}
     },
     "3cc4b47cfb004d2e87d06d1d4d52f8c3": {
      "model_module": "@jupyter-widgets/controls",
      "model_module_version": "1.5.0",
      "model_name": "DescriptionStyleModel",
      "state": {
       "description_width": ""
      }
     },
     "3ce3c7cc32f44eb8a2b9c62354545449": {
      "model_module": "@jupyter-widgets/controls",
      "model_module_version": "1.5.0",
      "model_name": "ProgressStyleModel",
      "state": {
       "description_width": "initial"
      }
     },
     "3eea2c79ac3d4de0b3e7abb43535bf5b": {
      "model_module": "@jupyter-widgets/controls",
      "model_module_version": "1.5.0",
      "model_name": "IntProgressModel",
      "state": {
       "bar_style": "success",
       "layout": "IPY_MODEL_211481c07b8843108ace3381012481db",
       "max": 1,
       "style": "IPY_MODEL_482c17e8226d43b0b9d1c03ab0db79e0",
       "value": 1
      }
     },
     "3fc15865ceb748d3bd9664582ad4045c": {
      "model_module": "@jupyter-widgets/controls",
      "model_module_version": "1.5.0",
      "model_name": "HBoxModel",
      "state": {
       "children": [
        "IPY_MODEL_f7581008c2b84a16ad6a3a4746ffabcb",
        "IPY_MODEL_dc6161f5a1fc4cc6bc06ab3dcf3113e5"
       ],
       "layout": "IPY_MODEL_8fb4d0c33100489a8bd96fae38b4130d"
      }
     },
     "4137d8256baf444287415c70e082cd2e": {
      "model_module": "@jupyter-widgets/base",
      "model_module_version": "1.2.0",
      "model_name": "LayoutModel",
      "state": {}
     },
     "427d1ee9dfcf403b85c9620b4ef9b1e1": {
      "model_module": "@jupyter-widgets/base",
      "model_module_version": "1.2.0",
      "model_name": "LayoutModel",
      "state": {}
     },
     "442e5c510847414aaaba8d7cc42cb380": {
      "model_module": "@jupyter-widgets/base",
      "model_module_version": "1.2.0",
      "model_name": "LayoutModel",
      "state": {}
     },
     "44c4c348d83d417eaaef3a1f1f5434f0": {
      "model_module": "@jupyter-widgets/controls",
      "model_module_version": "1.5.0",
      "model_name": "IntProgressModel",
      "state": {
       "bar_style": "success",
       "layout": "IPY_MODEL_bbd14ea7adab495ba9758ab5c52e7a51",
       "max": 1,
       "style": "IPY_MODEL_32ce939be2e844c7a085ffc273d8d744",
       "value": 1
      }
     },
     "4680e0be8f32452293f61febce44eb17": {
      "model_module": "@jupyter-widgets/controls",
      "model_module_version": "1.5.0",
      "model_name": "IntProgressModel",
      "state": {
       "bar_style": "success",
       "description": "Padding: 100%",
       "layout": "IPY_MODEL_e365da77e9e04f75b12981318e7527e6",
       "max": 189,
       "style": "IPY_MODEL_a489aa5280a74019a2d0a7118882d8a2",
       "value": 189
      }
     },
     "46d6934b0e14491c9f08da2cd7769c4f": {
      "model_module": "@jupyter-widgets/controls",
      "model_module_version": "1.5.0",
      "model_name": "ProgressStyleModel",
      "state": {
       "description_width": "initial"
      }
     },
     "4703336e07a340119c70fc28b36fb48c": {
      "model_module": "@jupyter-widgets/controls",
      "model_module_version": "1.5.0",
      "model_name": "DescriptionStyleModel",
      "state": {
       "description_width": ""
      }
     },
     "482c17e8226d43b0b9d1c03ab0db79e0": {
      "model_module": "@jupyter-widgets/controls",
      "model_module_version": "1.5.0",
      "model_name": "ProgressStyleModel",
      "state": {
       "description_width": "initial"
      }
     },
     "48607570b9694a21aac2fc109e770640": {
      "model_module": "@jupyter-widgets/base",
      "model_module_version": "1.2.0",
      "model_name": "LayoutModel",
      "state": {}
     },
     "487307154dcd45248e650a1ab7192830": {
      "model_module": "@jupyter-widgets/controls",
      "model_module_version": "1.5.0",
      "model_name": "IntProgressModel",
      "state": {
       "bar_style": "success",
       "layout": "IPY_MODEL_bf87cb696d6342d3bb11928cca10240b",
       "max": 1,
       "style": "IPY_MODEL_03e4d6e30a664c06aef131f0a789c156",
       "value": 1
      }
     },
     "4a9c19cf4098431dbcca357180ebba3f": {
      "model_module": "@jupyter-widgets/base",
      "model_module_version": "1.2.0",
      "model_name": "LayoutModel",
      "state": {}
     },
     "4b49772cd7bc4ddbb34f8e67972d3b7a": {
      "model_module": "@jupyter-widgets/controls",
      "model_module_version": "1.5.0",
      "model_name": "IntProgressModel",
      "state": {
       "bar_style": "success",
       "description": "Padding: 100%",
       "layout": "IPY_MODEL_d3eec903d1184f3082833c8920ac05ff",
       "max": 189,
       "style": "IPY_MODEL_f9912b6072a143d5934d934ef4bcdc23",
       "value": 189
      }
     },
     "4be968dae650492cb264b6fa78d67f6e": {
      "model_module": "@jupyter-widgets/controls",
      "model_module_version": "1.5.0",
      "model_name": "HTMLModel",
      "state": {
       "layout": "IPY_MODEL_55b6e6adf1c24447a1f76bda6fc40643",
       "style": "IPY_MODEL_8fb8a113479d45d8b7348bebbfeb4c5b",
       "value": " 1/? [00:00&lt;00:00, 12.95it/s]"
      }
     },
     "4c4bd31622544f4aa3019394f45acc15": {
      "model_module": "@jupyter-widgets/controls",
      "model_module_version": "1.5.0",
      "model_name": "DescriptionStyleModel",
      "state": {
       "description_width": ""
      }
     },
     "4c4d40ecba994afc8d0917ac0b7165e4": {
      "model_module": "@jupyter-widgets/base",
      "model_module_version": "1.2.0",
      "model_name": "LayoutModel",
      "state": {}
     },
     "4c9aa3b197604624bd0fd4f26e11eacb": {
      "model_module": "@jupyter-widgets/base",
      "model_module_version": "1.2.0",
      "model_name": "LayoutModel",
      "state": {}
     },
     "4d7a164a522743afb90d532e632a0b7d": {
      "model_module": "@jupyter-widgets/base",
      "model_module_version": "1.2.0",
      "model_name": "LayoutModel",
      "state": {}
     },
     "4e44b8631daa40c9a27adfe3d1078890": {
      "model_module": "@jupyter-widgets/controls",
      "model_module_version": "1.5.0",
      "model_name": "HTMLModel",
      "state": {
       "layout": "IPY_MODEL_8dc78276d88243d58234decbe7af727c",
       "style": "IPY_MODEL_064a18eced37409389d59734d3e4e21d",
       "value": " 189/189 [07:03&lt;00:00,  2.24s/it]"
      }
     },
     "4f7ee8ab3ce14bb98fa05b097c07baad": {
      "model_module": "@jupyter-widgets/base",
      "model_module_version": "1.2.0",
      "model_name": "LayoutModel",
      "state": {}
     },
     "4f9241a6854a4e0bba33b1cafad235d4": {
      "model_module": "@jupyter-widgets/controls",
      "model_module_version": "1.5.0",
      "model_name": "ProgressStyleModel",
      "state": {
       "description_width": "initial"
      }
     },
     "4f98a8796d6a41d3b10be74dfa613f3c": {
      "model_module": "@jupyter-widgets/controls",
      "model_module_version": "1.5.0",
      "model_name": "HTMLModel",
      "state": {
       "layout": "IPY_MODEL_20e7a5f68e6345bea7310f05a72d623b",
       "style": "IPY_MODEL_a87a2f1c986b498aa48f6a863c92343b",
       "value": " 0/? [00:00&lt;?, ?it/s]"
      }
     },
     "50c673224eb541ed805b5a297bad64f6": {
      "model_module": "@jupyter-widgets/base",
      "model_module_version": "1.2.0",
      "model_name": "LayoutModel",
      "state": {}
     },
     "51cbab3e492e48a486b138d2140d8316": {
      "model_module": "@jupyter-widgets/controls",
      "model_module_version": "1.5.0",
      "model_name": "HBoxModel",
      "state": {
       "children": [
        "IPY_MODEL_2a48c25442ff46f3af46925e5214d6df",
        "IPY_MODEL_9d25912bb0304653bc6179ffe7909f39"
       ],
       "layout": "IPY_MODEL_4c9aa3b197604624bd0fd4f26e11eacb"
      }
     },
     "5206beeead0843f5b58059be296be21a": {
      "model_module": "@jupyter-widgets/base",
      "model_module_version": "1.2.0",
      "model_name": "LayoutModel",
      "state": {}
     },
     "524bf37c01464dc9be0ff6d35d9c0b45": {
      "model_module": "@jupyter-widgets/controls",
      "model_module_version": "1.5.0",
      "model_name": "DescriptionStyleModel",
      "state": {
       "description_width": ""
      }
     },
     "5279dea7a3cc43a18e4cd27aeaf7d9ff": {
      "model_module": "@jupyter-widgets/base",
      "model_module_version": "1.2.0",
      "model_name": "LayoutModel",
      "state": {}
     },
     "5293795f22674f148f7907607036654d": {
      "model_module": "@jupyter-widgets/controls",
      "model_module_version": "1.5.0",
      "model_name": "HBoxModel",
      "state": {
       "children": [
        "IPY_MODEL_6f326c52086648a9ab00e039501ed0c3",
        "IPY_MODEL_7b502f6c68b04e9bbffbbe41a7929dfe"
       ],
       "layout": "IPY_MODEL_ec5984d95f8c4210857c617738ff00ea"
      }
     },
     "53102a8eb82a4f87ac39dfc0a2c97113": {
      "model_module": "@jupyter-widgets/base",
      "model_module_version": "1.2.0",
      "model_name": "LayoutModel",
      "state": {}
     },
     "53b743467c724a0db601a4556bafc089": {
      "model_module": "@jupyter-widgets/base",
      "model_module_version": "1.2.0",
      "model_name": "LayoutModel",
      "state": {}
     },
     "53fa4c859e41484a88d5b98eb4c7d888": {
      "model_module": "@jupyter-widgets/base",
      "model_module_version": "1.2.0",
      "model_name": "LayoutModel",
      "state": {}
     },
     "54e9952a9c6047a9b36e9ebeebe10264": {
      "model_module": "@jupyter-widgets/controls",
      "model_module_version": "1.5.0",
      "model_name": "ProgressStyleModel",
      "state": {
       "description_width": "initial"
      }
     },
     "55b6e6adf1c24447a1f76bda6fc40643": {
      "model_module": "@jupyter-widgets/base",
      "model_module_version": "1.2.0",
      "model_name": "LayoutModel",
      "state": {}
     },
     "55bf1b5093d4427486ccab163de216af": {
      "model_module": "@jupyter-widgets/controls",
      "model_module_version": "1.5.0",
      "model_name": "IntProgressModel",
      "state": {
       "bar_style": "success",
       "layout": "IPY_MODEL_d760405021e14f6dbc5874ab601322ee",
       "max": 1,
       "style": "IPY_MODEL_9e7ecdcd0e0c465a988918b1e608b932",
       "value": 1
      }
     },
     "55fbe4b4a65246a8b1296f0ed0e93e98": {
      "model_module": "@jupyter-widgets/controls",
      "model_module_version": "1.5.0",
      "model_name": "HTMLModel",
      "state": {
       "layout": "IPY_MODEL_99c8fcef073a434e9696dee8b372cade",
       "style": "IPY_MODEL_678215ac45c64f6182adf1275132698f",
       "value": " 189/189 [14:37&lt;00:00,  4.64s/it]"
      }
     },
     "56f41e74461a435fbf7aa8109a8c51be": {
      "model_module": "@jupyter-widgets/base",
      "model_module_version": "1.2.0",
      "model_name": "LayoutModel",
      "state": {}
     },
     "570be6fa274046329d5ba46516c1967b": {
      "model_module": "@jupyter-widgets/controls",
      "model_module_version": "1.5.0",
      "model_name": "HTMLModel",
      "state": {
       "layout": "IPY_MODEL_53fa4c859e41484a88d5b98eb4c7d888",
       "style": "IPY_MODEL_f65384962a954a23a03e1c62bb8aab8a",
       "value": " 189/189 [17:11&lt;00:00,  5.46s/it]"
      }
     },
     "57c6942e6cf8416daaf6de8809ce0ad5": {
      "model_module": "@jupyter-widgets/controls",
      "model_module_version": "1.5.0",
      "model_name": "ProgressStyleModel",
      "state": {
       "description_width": "initial"
      }
     },
     "58168f6af5bd4079ae259cd0d0c7c1ec": {
      "model_module": "@jupyter-widgets/base",
      "model_module_version": "1.2.0",
      "model_name": "LayoutModel",
      "state": {}
     },
     "5869e9c514f0407594380cd65b220564": {
      "model_module": "@jupyter-widgets/controls",
      "model_module_version": "1.5.0",
      "model_name": "HBoxModel",
      "state": {
       "children": [
        "IPY_MODEL_25fd8ce486f64e52990e2dee806cbf39",
        "IPY_MODEL_1aa9076212d14db1995005d647ad8009"
       ],
       "layout": "IPY_MODEL_f43032d457e5496db7fd432ca9e113fb"
      }
     },
     "58a229007673434b899066215b863db2": {
      "model_module": "@jupyter-widgets/controls",
      "model_module_version": "1.5.0",
      "model_name": "HBoxModel",
      "state": {
       "children": [
        "IPY_MODEL_487307154dcd45248e650a1ab7192830",
        "IPY_MODEL_00425a22b107407cad45a838a14ebbf3"
       ],
       "layout": "IPY_MODEL_5fe2bfdd855946f1a2236fccb22f0391"
      }
     },
     "59694a3d84a94ac7af28e08b47dae4e2": {
      "model_module": "@jupyter-widgets/base",
      "model_module_version": "1.2.0",
      "model_name": "LayoutModel",
      "state": {}
     },
     "5a8e8bdb23954419b88bc9981cf9b237": {
      "model_module": "@jupyter-widgets/controls",
      "model_module_version": "1.5.0",
      "model_name": "ProgressStyleModel",
      "state": {
       "description_width": "initial"
      }
     },
     "5bb92454a8904e769e7d7ed0b6b3438a": {
      "model_module": "@jupyter-widgets/base",
      "model_module_version": "1.2.0",
      "model_name": "LayoutModel",
      "state": {}
     },
     "5ccb6ac0f2134df7b13e7edf44cb1ec6": {
      "model_module": "@jupyter-widgets/controls",
      "model_module_version": "1.5.0",
      "model_name": "IntProgressModel",
      "state": {
       "bar_style": "success",
       "description": "Padding: 100%",
       "layout": "IPY_MODEL_1522bff2a0e544a29192599aeefcc47b",
       "max": 189,
       "style": "IPY_MODEL_216a39a1a637466d894c486389cb1479",
       "value": 189
      }
     },
     "5de256171269489c9491ccc58d8ec382": {
      "model_module": "@jupyter-widgets/base",
      "model_module_version": "1.2.0",
      "model_name": "LayoutModel",
      "state": {}
     },
     "5e77385e5ad741caa2f6c62df90a4a79": {
      "model_module": "@jupyter-widgets/controls",
      "model_module_version": "1.5.0",
      "model_name": "HTMLModel",
      "state": {
       "layout": "IPY_MODEL_fa99b945463b4802aa37b270ef5dbfd0",
       "style": "IPY_MODEL_d6dfd97b7b584326a08fdb66173970c3",
       "value": " 1/? [00:04&lt;00:00,  4.68s/it]"
      }
     },
     "5f4d6239667b4c0b87dea8a3024b61ab": {
      "model_module": "@jupyter-widgets/controls",
      "model_module_version": "1.5.0",
      "model_name": "HBoxModel",
      "state": {
       "children": [
        "IPY_MODEL_3eea2c79ac3d4de0b3e7abb43535bf5b",
        "IPY_MODEL_ef85b45b0a4c45a69eb291da66471a7d"
       ],
       "layout": "IPY_MODEL_2d331b5de9304aef86e046d873b92d4f"
      }
     },
     "5f6b24265d814e64acf36a67520c8d3e": {
      "model_module": "@jupyter-widgets/controls",
      "model_module_version": "1.5.0",
      "model_name": "HTMLModel",
      "state": {
       "layout": "IPY_MODEL_70c9c373b5474894a5bf9107cfd83ac2",
       "style": "IPY_MODEL_7a419ea2e0d044179c6c26079edabe47",
       "value": " 1/? [00:06&lt;00:00,  6.76s/it]"
      }
     },
     "5f6b67db46aa452aaa0f1de23d057d7b": {
      "model_module": "@jupyter-widgets/base",
      "model_module_version": "1.2.0",
      "model_name": "LayoutModel",
      "state": {}
     },
     "5fe2bfdd855946f1a2236fccb22f0391": {
      "model_module": "@jupyter-widgets/base",
      "model_module_version": "1.2.0",
      "model_name": "LayoutModel",
      "state": {}
     },
     "5fe8014f6ea84e5289009b5a8fa740d9": {
      "model_module": "@jupyter-widgets/base",
      "model_module_version": "1.2.0",
      "model_name": "LayoutModel",
      "state": {}
     },
     "60167e51d91c42a1b95a1a2d3b76b1a8": {
      "model_module": "@jupyter-widgets/controls",
      "model_module_version": "1.5.0",
      "model_name": "HBoxModel",
      "state": {
       "children": [
        "IPY_MODEL_bc2932a104424b859407925cf27b8f30",
        "IPY_MODEL_32a181f23225432eb61ec87076003d40"
       ],
       "layout": "IPY_MODEL_442e5c510847414aaaba8d7cc42cb380"
      }
     },
     "606c672f9b634f56b1d44d1b49fd3a2d": {
      "model_module": "@jupyter-widgets/controls",
      "model_module_version": "1.5.0",
      "model_name": "ProgressStyleModel",
      "state": {
       "description_width": "initial"
      }
     },
     "615a54a8d16d43259d736c4403196b1e": {
      "model_module": "@jupyter-widgets/base",
      "model_module_version": "1.2.0",
      "model_name": "LayoutModel",
      "state": {}
     },
     "6181fc111fc243ad86a5605b6651ad8c": {
      "model_module": "@jupyter-widgets/controls",
      "model_module_version": "1.5.0",
      "model_name": "HBoxModel",
      "state": {
       "children": [
        "IPY_MODEL_eefe3fe42cdd448bb893b57c6c7f6ecb",
        "IPY_MODEL_1f1b62c8f79b448197138f7d2b04e96e"
       ],
       "layout": "IPY_MODEL_0da746e3311a4e8da0e45d02703d1a73"
      }
     },
     "618d350741fd4ec38dd87923ec10617d": {
      "model_module": "@jupyter-widgets/controls",
      "model_module_version": "1.5.0",
      "model_name": "HTMLModel",
      "state": {
       "layout": "IPY_MODEL_a5fcb5b017a949d7a5e4ce442295a8f7",
       "style": "IPY_MODEL_809cd64b1e8a45139307ee683d4955e5",
       "value": " 189/189 [00:01&lt;00:00, 184.52it/s]"
      }
     },
     "61aa3dbafdae4f208c6feb9f48d2b099": {
      "model_module": "@jupyter-widgets/base",
      "model_module_version": "1.2.0",
      "model_name": "LayoutModel",
      "state": {}
     },
     "61e924efd6a3481db5f4033725ec61dc": {
      "model_module": "@jupyter-widgets/controls",
      "model_module_version": "1.5.0",
      "model_name": "HBoxModel",
      "state": {
       "children": [
        "IPY_MODEL_f0efb3e342774e46a44272b629d2ceaf",
        "IPY_MODEL_2eab71e77efd4419b9aa18e6f3fd197f"
       ],
       "layout": "IPY_MODEL_285460d4297b430f86beab9fccad9dfa"
      }
     },
     "6270523a3691455c9ac8a93a5cf20032": {
      "model_module": "@jupyter-widgets/controls",
      "model_module_version": "1.5.0",
      "model_name": "DescriptionStyleModel",
      "state": {
       "description_width": ""
      }
     },
     "62c873ab6f7d42e8b4a585931f24d9e2": {
      "model_module": "@jupyter-widgets/controls",
      "model_module_version": "1.5.0",
      "model_name": "HTMLModel",
      "state": {
       "layout": "IPY_MODEL_178036eab499475b946b0d4282a450d6",
       "style": "IPY_MODEL_f7ad2954742e49f091694a4f553aec1a",
       "value": " 189/189 [00:00&lt;00:00, 204.39it/s]"
      }
     },
     "63c85c160df54da6a2bcc809848d573f": {
      "model_module": "@jupyter-widgets/controls",
      "model_module_version": "1.5.0",
      "model_name": "DescriptionStyleModel",
      "state": {
       "description_width": ""
      }
     },
     "63fa12ca02bf421a8a8983f0d66acad0": {
      "model_module": "@jupyter-widgets/controls",
      "model_module_version": "1.5.0",
      "model_name": "DescriptionStyleModel",
      "state": {
       "description_width": ""
      }
     },
     "64e6579e504e4a78beb5322ec2ad37e1": {
      "model_module": "@jupyter-widgets/controls",
      "model_module_version": "1.5.0",
      "model_name": "HTMLModel",
      "state": {
       "layout": "IPY_MODEL_a9018500dc7c48ab884a9af999f1155b",
       "style": "IPY_MODEL_0ccb04c5877848fb93bccf2a4d27e205",
       "value": " 1/? [00:58&lt;00:00, 58.92s/it]"
      }
     },
     "64ead69cd89146c989a4174f05d17cb8": {
      "model_module": "@jupyter-widgets/controls",
      "model_module_version": "1.5.0",
      "model_name": "HTMLModel",
      "state": {
       "layout": "IPY_MODEL_11e415719b4f4ce4b02067b341c39b79",
       "style": "IPY_MODEL_c455d636518d4d4f993dadf8e6313b81",
       "value": " 189/189 [00:00&lt;00:00, 2366.20it/s]"
      }
     },
     "64f2d3df63e54e6e8d1c8e87822bd859": {
      "model_module": "@jupyter-widgets/controls",
      "model_module_version": "1.5.0",
      "model_name": "DescriptionStyleModel",
      "state": {
       "description_width": ""
      }
     },
     "653b79a62f2c45c287a88f7a68935888": {
      "model_module": "@jupyter-widgets/controls",
      "model_module_version": "1.5.0",
      "model_name": "IntProgressModel",
      "state": {
       "bar_style": "success",
       "layout": "IPY_MODEL_25334ad339bb4ff0b40bb6b8ae1aeec6",
       "max": 1,
       "style": "IPY_MODEL_57c6942e6cf8416daaf6de8809ce0ad5",
       "value": 1
      }
     },
     "6545e4208fea4544a650571ad15e6b2e": {
      "model_module": "@jupyter-widgets/base",
      "model_module_version": "1.2.0",
      "model_name": "LayoutModel",
      "state": {}
     },
     "65464920ae5e4ba1be9d46f0dd4330d6": {
      "model_module": "@jupyter-widgets/base",
      "model_module_version": "1.2.0",
      "model_name": "LayoutModel",
      "state": {}
     },
     "6560aa2e3c0b4699a16b63e040db9261": {
      "model_module": "@jupyter-widgets/controls",
      "model_module_version": "1.5.0",
      "model_name": "HBoxModel",
      "state": {
       "children": [
        "IPY_MODEL_c549bc1ab3c64747bba8bdc34a82b7fa",
        "IPY_MODEL_1ed688b462f14b86928dda167f04c2c4"
       ],
       "layout": "IPY_MODEL_33539287e77749a09b8a313059354334"
      }
     },
     "65640c96f4b34b6caf029e253d02abbf": {
      "model_module": "@jupyter-widgets/controls",
      "model_module_version": "1.5.0",
      "model_name": "DescriptionStyleModel",
      "state": {
       "description_width": ""
      }
     },
     "659b9a1c2f204062b2da94510fa505b5": {
      "model_module": "@jupyter-widgets/controls",
      "model_module_version": "1.5.0",
      "model_name": "ProgressStyleModel",
      "state": {
       "description_width": "initial"
      }
     },
     "65fd0a4f9d264e9da4af8688e6d396c7": {
      "model_module": "@jupyter-widgets/base",
      "model_module_version": "1.2.0",
      "model_name": "LayoutModel",
      "state": {}
     },
     "664d1487acda4c089e4de3366eca37e8": {
      "model_module": "@jupyter-widgets/controls",
      "model_module_version": "1.5.0",
      "model_name": "HBoxModel",
      "state": {
       "children": [
        "IPY_MODEL_55bf1b5093d4427486ccab163de216af",
        "IPY_MODEL_edd6aa4b4bb74abc9e0b300c5342c6d0"
       ],
       "layout": "IPY_MODEL_3182e588e38e4096b77958faac8b28d1"
      }
     },
     "666648637d944f19b5e54f7956dc866f": {
      "model_module": "@jupyter-widgets/controls",
      "model_module_version": "1.5.0",
      "model_name": "HTMLModel",
      "state": {
       "layout": "IPY_MODEL_92d7407271504a90915bedad5901efc4",
       "style": "IPY_MODEL_c964d5af25cc42bc8421ff5f23d0bd54",
       "value": " 1/? [00:04&lt;00:00,  4.75s/it]"
      }
     },
     "66894ed326d3405b83778e4f91dfb56e": {
      "model_module": "@jupyter-widgets/controls",
      "model_module_version": "1.5.0",
      "model_name": "HBoxModel",
      "state": {
       "children": [
        "IPY_MODEL_743cb7677e514b4f8e38a6acfefd1c8b",
        "IPY_MODEL_7e40e5b2349d4969acd09873a748e884"
       ],
       "layout": "IPY_MODEL_2a44fe546912471db0179268f4a210bd"
      }
     },
     "6735fd8cb3854e65b89d80d6e021568a": {
      "model_module": "@jupyter-widgets/base",
      "model_module_version": "1.2.0",
      "model_name": "LayoutModel",
      "state": {}
     },
     "678215ac45c64f6182adf1275132698f": {
      "model_module": "@jupyter-widgets/controls",
      "model_module_version": "1.5.0",
      "model_name": "DescriptionStyleModel",
      "state": {
       "description_width": ""
      }
     },
     "67f6e6720a264987a0725d21dfb3edaa": {
      "model_module": "@jupyter-widgets/controls",
      "model_module_version": "1.5.0",
      "model_name": "HBoxModel",
      "state": {
       "children": [
        "IPY_MODEL_4b49772cd7bc4ddbb34f8e67972d3b7a",
        "IPY_MODEL_ec5cb1038f9f4a8b9d97cd38b9e7b72e"
       ],
       "layout": "IPY_MODEL_6545e4208fea4544a650571ad15e6b2e"
      }
     },
     "690999a8c08e416a99c99d53dad5b4ec": {
      "model_module": "@jupyter-widgets/controls",
      "model_module_version": "1.5.0",
      "model_name": "DescriptionStyleModel",
      "state": {
       "description_width": ""
      }
     },
     "69c0c7ddc76a4ee5b8c617db1c747d56": {
      "model_module": "@jupyter-widgets/base",
      "model_module_version": "1.2.0",
      "model_name": "LayoutModel",
      "state": {}
     },
     "6a157acbd1fe448780eb67e6e8448c81": {
      "model_module": "@jupyter-widgets/controls",
      "model_module_version": "1.5.0",
      "model_name": "HTMLModel",
      "state": {
       "layout": "IPY_MODEL_65464920ae5e4ba1be9d46f0dd4330d6",
       "style": "IPY_MODEL_0580f82fb6ad4bddaafed8c7351d7bc1",
       "value": " 189/189 [14:58&lt;00:00,  4.75s/it]"
      }
     },
     "6b4f75da17ab4b00aa588a6a75c4ab46": {
      "model_module": "@jupyter-widgets/controls",
      "model_module_version": "1.5.0",
      "model_name": "ProgressStyleModel",
      "state": {
       "description_width": "initial"
      }
     },
     "6c67a7db7a674f139691a77ce248091d": {
      "model_module": "@jupyter-widgets/controls",
      "model_module_version": "1.5.0",
      "model_name": "ProgressStyleModel",
      "state": {
       "description_width": "initial"
      }
     },
     "6ca67c11b95d4ab4be2e3b31f4193d4d": {
      "model_module": "@jupyter-widgets/controls",
      "model_module_version": "1.5.0",
      "model_name": "DescriptionStyleModel",
      "state": {
       "description_width": ""
      }
     },
     "6cdfcb22c16e4ae99ddf596b499123be": {
      "model_module": "@jupyter-widgets/controls",
      "model_module_version": "1.5.0",
      "model_name": "HTMLModel",
      "state": {
       "layout": "IPY_MODEL_58168f6af5bd4079ae259cd0d0c7c1ec",
       "style": "IPY_MODEL_ff83176817ea4e6eb9e03b8abd6473c3",
       "value": " 137/137 [00:00&lt;00:00, 2416.61it/s]"
      }
     },
     "6dfeddd1a763415eaa910238d7764ff8": {
      "model_module": "@jupyter-widgets/controls",
      "model_module_version": "1.5.0",
      "model_name": "ProgressStyleModel",
      "state": {
       "description_width": "initial"
      }
     },
     "6e3ff9a149214b70a9e2dcf24bf21e66": {
      "model_module": "@jupyter-widgets/controls",
      "model_module_version": "1.5.0",
      "model_name": "HTMLModel",
      "state": {
       "layout": "IPY_MODEL_0717212427eb4a72ba81683cb3b3621a",
       "style": "IPY_MODEL_0b9d98142b594102932a9000ed4a2a23",
       "value": " 189/189 [00:01&lt;00:00, 179.68it/s]"
      }
     },
     "6eb515b6701346a4a1e272b98ce69e6c": {
      "model_module": "@jupyter-widgets/base",
      "model_module_version": "1.2.0",
      "model_name": "LayoutModel",
      "state": {}
     },
     "6f326c52086648a9ab00e039501ed0c3": {
      "model_module": "@jupyter-widgets/controls",
      "model_module_version": "1.5.0",
      "model_name": "IntProgressModel",
      "state": {
       "bar_style": "success",
       "description": "Padding: 100%",
       "layout": "IPY_MODEL_79867b901bbf41d5ad107750fa31834c",
       "max": 189,
       "style": "IPY_MODEL_15dc52c1855546c684520370c66976b6",
       "value": 189
      }
     },
     "7082d28dbe1248f79de4fc31585df9d5": {
      "model_module": "@jupyter-widgets/controls",
      "model_module_version": "1.5.0",
      "model_name": "HBoxModel",
      "state": {
       "children": [
        "IPY_MODEL_8f70b958f8c9438e97a1e89c140edfcf",
        "IPY_MODEL_6e3ff9a149214b70a9e2dcf24bf21e66"
       ],
       "layout": "IPY_MODEL_4c4d40ecba994afc8d0917ac0b7165e4"
      }
     },
     "709b7c22e0da4d8e80dff047c8af03be": {
      "model_module": "@jupyter-widgets/controls",
      "model_module_version": "1.5.0",
      "model_name": "IntProgressModel",
      "state": {
       "bar_style": "success",
       "description": "[Generate Triplet Dataset] Join thread: 100%",
       "layout": "IPY_MODEL_53b743467c724a0db601a4556bafc089",
       "max": 137,
       "style": "IPY_MODEL_a9828cb546be497ca590f20f43a94f93",
       "value": 137
      }
     },
     "70c9c373b5474894a5bf9107cfd83ac2": {
      "model_module": "@jupyter-widgets/base",
      "model_module_version": "1.2.0",
      "model_name": "LayoutModel",
      "state": {}
     },
     "70f8b4bf9c8e49969b1b5833b5d5cdbd": {
      "model_module": "@jupyter-widgets/controls",
      "model_module_version": "1.5.0",
      "model_name": "DescriptionStyleModel",
      "state": {
       "description_width": ""
      }
     },
     "73aa5d7ab60f4f8d899b0267ec77a05e": {
      "model_module": "@jupyter-widgets/base",
      "model_module_version": "1.2.0",
      "model_name": "LayoutModel",
      "state": {}
     },
     "743cb7677e514b4f8e38a6acfefd1c8b": {
      "model_module": "@jupyter-widgets/controls",
      "model_module_version": "1.5.0",
      "model_name": "IntProgressModel",
      "state": {
       "bar_style": "success",
       "layout": "IPY_MODEL_61aa3dbafdae4f208c6feb9f48d2b099",
       "max": 1,
       "style": "IPY_MODEL_15ca600d6ce14ea5b1c2e84b3d6c2cf3",
       "value": 1
      }
     },
     "771f0da5b1e342e6818126da29926c5d": {
      "model_module": "@jupyter-widgets/base",
      "model_module_version": "1.2.0",
      "model_name": "LayoutModel",
      "state": {}
     },
     "772ae2e4f0a94dd293edca434bec7ea1": {
      "model_module": "@jupyter-widgets/controls",
      "model_module_version": "1.5.0",
      "model_name": "IntProgressModel",
      "state": {
       "bar_style": "success",
       "layout": "IPY_MODEL_be2a13fd92fc42fc9fcf2db46ff3e707",
       "max": 1,
       "style": "IPY_MODEL_15164597b4c049e0847e83daa5e432ea",
       "value": 1
      }
     },
     "781045c50d04464dad30fc2ece9b5fe7": {
      "model_module": "@jupyter-widgets/base",
      "model_module_version": "1.2.0",
      "model_name": "LayoutModel",
      "state": {}
     },
     "789db9a36e1c4812bcf0a172ad6d59a0": {
      "model_module": "@jupyter-widgets/controls",
      "model_module_version": "1.5.0",
      "model_name": "HTMLModel",
      "state": {
       "layout": "IPY_MODEL_82f1aa8e255245daad9137802fbe64ea",
       "style": "IPY_MODEL_6ca67c11b95d4ab4be2e3b31f4193d4d",
       "value": " 1/? [00:37&lt;00:00, 37.89s/it]"
      }
     },
     "78d618e98af9498989f1d2469071c67b": {
      "model_module": "@jupyter-widgets/controls",
      "model_module_version": "1.5.0",
      "model_name": "IntProgressModel",
      "state": {
       "bar_style": "success",
       "description": "Padding: 100%",
       "layout": "IPY_MODEL_3b183da4f64043e6af967316e1874fdc",
       "max": 189,
       "style": "IPY_MODEL_606c672f9b634f56b1d44d1b49fd3a2d",
       "value": 189
      }
     },
     "79652b8cd9d84837acd9011f9edbe34b": {
      "model_module": "@jupyter-widgets/controls",
      "model_module_version": "1.5.0",
      "model_name": "IntProgressModel",
      "state": {
       "bar_style": "success",
       "layout": "IPY_MODEL_796c87ace3934bf78fe646c7b166c69c",
       "max": 1,
       "style": "IPY_MODEL_9acf119510a94765b204e5d817b5ac23",
       "value": 1
      }
     },
     "796c87ace3934bf78fe646c7b166c69c": {
      "model_module": "@jupyter-widgets/base",
      "model_module_version": "1.2.0",
      "model_name": "LayoutModel",
      "state": {}
     },
     "79867b901bbf41d5ad107750fa31834c": {
      "model_module": "@jupyter-widgets/base",
      "model_module_version": "1.2.0",
      "model_name": "LayoutModel",
      "state": {}
     },
     "79ea84f58b1243cb8ee25188b26fa7c3": {
      "model_module": "@jupyter-widgets/controls",
      "model_module_version": "1.5.0",
      "model_name": "HBoxModel",
      "state": {
       "children": [
        "IPY_MODEL_709b7c22e0da4d8e80dff047c8af03be",
        "IPY_MODEL_fbbe9905009b43d58f529a191a5e7f21"
       ],
       "layout": "IPY_MODEL_3a64f3b9a7ea474ba654a620d5fcd6bd"
      }
     },
     "7a419ea2e0d044179c6c26079edabe47": {
      "model_module": "@jupyter-widgets/controls",
      "model_module_version": "1.5.0",
      "model_name": "DescriptionStyleModel",
      "state": {
       "description_width": ""
      }
     },
     "7b502f6c68b04e9bbffbbe41a7929dfe": {
      "model_module": "@jupyter-widgets/controls",
      "model_module_version": "1.5.0",
      "model_name": "HTMLModel",
      "state": {
       "layout": "IPY_MODEL_ce057a986f7f4256bda05666f518f623",
       "style": "IPY_MODEL_b7275248cc814cfe90af8c850e8b81f2",
       "value": " 189/189 [00:00&lt;00:00, 2163.91it/s]"
      }
     },
     "7b7747e36ca049b89ded29321792aa95": {
      "model_module": "@jupyter-widgets/base",
      "model_module_version": "1.2.0",
      "model_name": "LayoutModel",
      "state": {}
     },
     "7c1211a23ab24b39b162da3531db38c8": {
      "model_module": "@jupyter-widgets/controls",
      "model_module_version": "1.5.0",
      "model_name": "DescriptionStyleModel",
      "state": {
       "description_width": ""
      }
     },
     "7c860a96abd34fc9abe0d3bf36880dfa": {
      "model_module": "@jupyter-widgets/controls",
      "model_module_version": "1.5.0",
      "model_name": "HTMLModel",
      "state": {
       "layout": "IPY_MODEL_9fd142fd4f684c94a819fad59fd91be4",
       "style": "IPY_MODEL_b0dd597a5c7a43de9be3343f619c30b4",
       "value": " 1/? [00:00&lt;00:00, 16.17it/s]"
      }
     },
     "7cfed06c874e430da3b58491dbfe89b2": {
      "model_module": "@jupyter-widgets/base",
      "model_module_version": "1.2.0",
      "model_name": "LayoutModel",
      "state": {}
     },
     "7d802c810a4c4c519a582cfc7f794595": {
      "model_module": "@jupyter-widgets/controls",
      "model_module_version": "1.5.0",
      "model_name": "HBoxModel",
      "state": {
       "children": [
        "IPY_MODEL_cce973597742482dad78d97c053de123",
        "IPY_MODEL_88d663672de5460ba1a1a021cad181bc"
       ],
       "layout": "IPY_MODEL_5279dea7a3cc43a18e4cd27aeaf7d9ff"
      }
     },
     "7dc3d6656a684833a495ea559a304d9c": {
      "model_module": "@jupyter-widgets/base",
      "model_module_version": "1.2.0",
      "model_name": "LayoutModel",
      "state": {}
     },
     "7e40e5b2349d4969acd09873a748e884": {
      "model_module": "@jupyter-widgets/controls",
      "model_module_version": "1.5.0",
      "model_name": "HTMLModel",
      "state": {
       "layout": "IPY_MODEL_a6edc8351d0f40208dee7fd4775ee35c",
       "style": "IPY_MODEL_e01e2efe0f2645fbba709f069294352d",
       "value": " 1/? [00:00&lt;00:00,  5.83it/s]"
      }
     },
     "7e52a03b06944e92981a381f8356e30a": {
      "model_module": "@jupyter-widgets/base",
      "model_module_version": "1.2.0",
      "model_name": "LayoutModel",
      "state": {}
     },
     "7fa49087748c429e8755277c79ca83cf": {
      "model_module": "@jupyter-widgets/base",
      "model_module_version": "1.2.0",
      "model_name": "LayoutModel",
      "state": {}
     },
     "801e185ea29042e1b6edbc62e12aabf4": {
      "model_module": "@jupyter-widgets/controls",
      "model_module_version": "1.5.0",
      "model_name": "IntProgressModel",
      "state": {
       "bar_style": "success",
       "description": "Padding: 100%",
       "layout": "IPY_MODEL_92485db18fae47338412019f4baa6136",
       "max": 189,
       "style": "IPY_MODEL_1233dc870232485e8183162136682131",
       "value": 189
      }
     },
     "809cd64b1e8a45139307ee683d4955e5": {
      "model_module": "@jupyter-widgets/controls",
      "model_module_version": "1.5.0",
      "model_name": "DescriptionStyleModel",
      "state": {
       "description_width": ""
      }
     },
     "819ac13b8fe543e990a66dd6eec342cd": {
      "model_module": "@jupyter-widgets/controls",
      "model_module_version": "1.5.0",
      "model_name": "DescriptionStyleModel",
      "state": {
       "description_width": ""
      }
     },
     "824f6918d8c944a1b411498bf3be4fc6": {
      "model_module": "@jupyter-widgets/base",
      "model_module_version": "1.2.0",
      "model_name": "LayoutModel",
      "state": {}
     },
     "82f1aa8e255245daad9137802fbe64ea": {
      "model_module": "@jupyter-widgets/base",
      "model_module_version": "1.2.0",
      "model_name": "LayoutModel",
      "state": {}
     },
     "838776b2a4394d04a6d7e0ce77da9357": {
      "model_module": "@jupyter-widgets/base",
      "model_module_version": "1.2.0",
      "model_name": "LayoutModel",
      "state": {}
     },
     "856ccd797f0b4bed80edc76a58c39805": {
      "model_module": "@jupyter-widgets/base",
      "model_module_version": "1.2.0",
      "model_name": "LayoutModel",
      "state": {}
     },
     "860cb1b893f74b16a8f0c282fbcf74c1": {
      "model_module": "@jupyter-widgets/controls",
      "model_module_version": "1.5.0",
      "model_name": "DescriptionStyleModel",
      "state": {
       "description_width": ""
      }
     },
     "872a1611a558467a88d7b5f8426b22ca": {
      "model_module": "@jupyter-widgets/controls",
      "model_module_version": "1.5.0",
      "model_name": "IntProgressModel",
      "state": {
       "bar_style": "success",
       "description": "Padding: 100%",
       "layout": "IPY_MODEL_ae67fbebda1b45718aa320efa779becf",
       "max": 189,
       "style": "IPY_MODEL_93669ae2fcdb46849484667220fb762d",
       "value": 189
      }
     },
     "875af6028b6c4a169c0590d9e4aadfa1": {
      "model_module": "@jupyter-widgets/controls",
      "model_module_version": "1.5.0",
      "model_name": "IntProgressModel",
      "state": {
       "bar_style": "success",
       "description": "Padding: 100%",
       "layout": "IPY_MODEL_fc15c3f6071c48fab4498f1ce1ae3036",
       "max": 189,
       "style": "IPY_MODEL_8fe132ef23ac4c4881fa254f81c55ba6",
       "value": 189
      }
     },
     "87cce1063b75489a9b08683705af528a": {
      "model_module": "@jupyter-widgets/base",
      "model_module_version": "1.2.0",
      "model_name": "LayoutModel",
      "state": {}
     },
     "8807d740dacf496ba116ef0dc351abf7": {
      "model_module": "@jupyter-widgets/base",
      "model_module_version": "1.2.0",
      "model_name": "LayoutModel",
      "state": {}
     },
     "884936d2a87c4d7b8d15efd12326c928": {
      "model_module": "@jupyter-widgets/controls",
      "model_module_version": "1.5.0",
      "model_name": "DescriptionStyleModel",
      "state": {
       "description_width": ""
      }
     },
     "8856536696724520883cc5fe0682b26e": {
      "model_module": "@jupyter-widgets/controls",
      "model_module_version": "1.5.0",
      "model_name": "DescriptionStyleModel",
      "state": {
       "description_width": ""
      }
     },
     "88d663672de5460ba1a1a021cad181bc": {
      "model_module": "@jupyter-widgets/controls",
      "model_module_version": "1.5.0",
      "model_name": "HTMLModel",
      "state": {
       "layout": "IPY_MODEL_114a6c36989841d8a04be67742e90804",
       "style": "IPY_MODEL_c582d5c8602d43f38223c057cd83b2e3",
       "value": " 1/? [01:43&lt;00:00, 103.29s/it]"
      }
     },
     "88ee94634b50473dbdcef94e926fb381": {
      "model_module": "@jupyter-widgets/controls",
      "model_module_version": "1.5.0",
      "model_name": "DescriptionStyleModel",
      "state": {
       "description_width": ""
      }
     },
     "89efea0a9a18412aaea8161bd8261009": {
      "model_module": "@jupyter-widgets/controls",
      "model_module_version": "1.5.0",
      "model_name": "HBoxModel",
      "state": {
       "children": [
        "IPY_MODEL_78d618e98af9498989f1d2469071c67b",
        "IPY_MODEL_e359d0b073db424a9c920c02b1f391f9"
       ],
       "layout": "IPY_MODEL_48607570b9694a21aac2fc109e770640"
      }
     },
     "8be9621c9ddd46209f4b102160d0f116": {
      "model_module": "@jupyter-widgets/controls",
      "model_module_version": "1.5.0",
      "model_name": "IntProgressModel",
      "state": {
       "bar_style": "success",
       "layout": "IPY_MODEL_ff885708283f4be7bd269e019e0c6d4d",
       "max": 1,
       "style": "IPY_MODEL_6dfeddd1a763415eaa910238d7764ff8",
       "value": 1
      }
     },
     "8bf361edd6bf4b7b80c2be30cdaca505": {
      "model_module": "@jupyter-widgets/controls",
      "model_module_version": "1.5.0",
      "model_name": "ProgressStyleModel",
      "state": {
       "description_width": "initial"
      }
     },
     "8c0998643b6a47b098e25ef7dd529643": {
      "model_module": "@jupyter-widgets/controls",
      "model_module_version": "1.5.0",
      "model_name": "DescriptionStyleModel",
      "state": {
       "description_width": ""
      }
     },
     "8c8725395c1848cbbc2fbbaff3e3e1d0": {
      "model_module": "@jupyter-widgets/controls",
      "model_module_version": "1.5.0",
      "model_name": "HBoxModel",
      "state": {
       "children": [
        "IPY_MODEL_2e3f4879a60445e28db21e04bb1fc3f9",
        "IPY_MODEL_905b2a5f8a564d87ad6149f14de9db1a"
       ],
       "layout": "IPY_MODEL_192d968a55c74f7497ea2d7cf5d75d9e"
      }
     },
     "8dc78276d88243d58234decbe7af727c": {
      "model_module": "@jupyter-widgets/base",
      "model_module_version": "1.2.0",
      "model_name": "LayoutModel",
      "state": {}
     },
     "8f70b958f8c9438e97a1e89c140edfcf": {
      "model_module": "@jupyter-widgets/controls",
      "model_module_version": "1.5.0",
      "model_name": "IntProgressModel",
      "state": {
       "bar_style": "success",
       "description": "Padding: 100%",
       "layout": "IPY_MODEL_d839e0b6cc7a4e478fa2d9ff37bfde3c",
       "max": 189,
       "style": "IPY_MODEL_fb01c4d466594b05ad828666e0f9b24b",
       "value": 189
      }
     },
     "8fb4d0c33100489a8bd96fae38b4130d": {
      "model_module": "@jupyter-widgets/base",
      "model_module_version": "1.2.0",
      "model_name": "LayoutModel",
      "state": {}
     },
     "8fb8a113479d45d8b7348bebbfeb4c5b": {
      "model_module": "@jupyter-widgets/controls",
      "model_module_version": "1.5.0",
      "model_name": "DescriptionStyleModel",
      "state": {
       "description_width": ""
      }
     },
     "8fe132ef23ac4c4881fa254f81c55ba6": {
      "model_module": "@jupyter-widgets/controls",
      "model_module_version": "1.5.0",
      "model_name": "ProgressStyleModel",
      "state": {
       "description_width": "initial"
      }
     },
     "900e5a5e62904913b32ba3cdb66be214": {
      "model_module": "@jupyter-widgets/controls",
      "model_module_version": "1.5.0",
      "model_name": "HBoxModel",
      "state": {
       "children": [
        "IPY_MODEL_875af6028b6c4a169c0590d9e4aadfa1",
        "IPY_MODEL_180f4b87616342ba90cc09d4a5965f3e"
       ],
       "layout": "IPY_MODEL_df61c176a60e4264b6f08e122643b393"
      }
     },
     "905b2a5f8a564d87ad6149f14de9db1a": {
      "model_module": "@jupyter-widgets/controls",
      "model_module_version": "1.5.0",
      "model_name": "HTMLModel",
      "state": {
       "layout": "IPY_MODEL_9d05be5505ec44b6ae9128a1b0956d7a",
       "style": "IPY_MODEL_4c4bd31622544f4aa3019394f45acc15",
       "value": " 0/189 [00:00&lt;?, ?it/s]"
      }
     },
     "90755c68268e4637a14fc555dcb7e99c": {
      "model_module": "@jupyter-widgets/controls",
      "model_module_version": "1.5.0",
      "model_name": "HBoxModel",
      "state": {
       "children": [
        "IPY_MODEL_17cf8bbcb3424ed085302d8466d78eaa",
        "IPY_MODEL_789db9a36e1c4812bcf0a172ad6d59a0"
       ],
       "layout": "IPY_MODEL_a460fcde0c3a4e6caa99031e34d434fc"
      }
     },
     "9177683d11084beaa39d6e4e48308726": {
      "model_module": "@jupyter-widgets/controls",
      "model_module_version": "1.5.0",
      "model_name": "HBoxModel",
      "state": {
       "children": [
        "IPY_MODEL_e20dae3244dd4a63971ea3ab1e50630a",
        "IPY_MODEL_7c860a96abd34fc9abe0d3bf36880dfa"
       ],
       "layout": "IPY_MODEL_20e47236d1104097acde06fd20a1d919"
      }
     },
     "92485db18fae47338412019f4baa6136": {
      "model_module": "@jupyter-widgets/base",
      "model_module_version": "1.2.0",
      "model_name": "LayoutModel",
      "state": {}
     },
     "92d7407271504a90915bedad5901efc4": {
      "model_module": "@jupyter-widgets/base",
      "model_module_version": "1.2.0",
      "model_name": "LayoutModel",
      "state": {}
     },
     "93669ae2fcdb46849484667220fb762d": {
      "model_module": "@jupyter-widgets/controls",
      "model_module_version": "1.5.0",
      "model_name": "ProgressStyleModel",
      "state": {
       "description_width": "initial"
      }
     },
     "936dae60c4354de49d6617811f493931": {
      "model_module": "@jupyter-widgets/controls",
      "model_module_version": "1.5.0",
      "model_name": "IntProgressModel",
      "state": {
       "bar_style": "success",
       "layout": "IPY_MODEL_5fe8014f6ea84e5289009b5a8fa740d9",
       "max": 1,
       "style": "IPY_MODEL_f1de2b00dfa34e7e8c54f77533064963",
       "value": 1
      }
     },
     "93b9d5a6c911413ebec015154cc04740": {
      "model_module": "@jupyter-widgets/controls",
      "model_module_version": "1.5.0",
      "model_name": "DescriptionStyleModel",
      "state": {
       "description_width": ""
      }
     },
     "93f43ec816b6490f883c9810522814c4": {
      "model_module": "@jupyter-widgets/base",
      "model_module_version": "1.2.0",
      "model_name": "LayoutModel",
      "state": {}
     },
     "94ca213aa29e4943aba44d77bea8c41b": {
      "model_module": "@jupyter-widgets/controls",
      "model_module_version": "1.5.0",
      "model_name": "HBoxModel",
      "state": {
       "children": [
        "IPY_MODEL_0d6fe65131e743efa811965fbf9468d9",
        "IPY_MODEL_9728d9839d4447f7840e0d40b45a6251"
       ],
       "layout": "IPY_MODEL_dae36c5a23f847e9a6f5236ca092cb2f"
      }
     },
     "94f539354dc640409b19569df2edefde": {
      "model_module": "@jupyter-widgets/base",
      "model_module_version": "1.2.0",
      "model_name": "LayoutModel",
      "state": {}
     },
     "9728d9839d4447f7840e0d40b45a6251": {
      "model_module": "@jupyter-widgets/controls",
      "model_module_version": "1.5.0",
      "model_name": "HTMLModel",
      "state": {
       "layout": "IPY_MODEL_615a54a8d16d43259d736c4403196b1e",
       "style": "IPY_MODEL_e6bc06f9bf894783b355d29db44984b1",
       "value": " 189/189 [00:00&lt;00:00, 198.61it/s]"
      }
     },
     "99204d65d1b94ad5bc7e6c6fd281ac23": {
      "model_module": "@jupyter-widgets/controls",
      "model_module_version": "1.5.0",
      "model_name": "ProgressStyleModel",
      "state": {
       "description_width": "initial"
      }
     },
     "99c8fcef073a434e9696dee8b372cade": {
      "model_module": "@jupyter-widgets/base",
      "model_module_version": "1.2.0",
      "model_name": "LayoutModel",
      "state": {}
     },
     "9a1917e897804aa7b30eae2ba81d4659": {
      "model_module": "@jupyter-widgets/controls",
      "model_module_version": "1.5.0",
      "model_name": "HTMLModel",
      "state": {
       "layout": "IPY_MODEL_fa1dd8d32cf24c33ab3b68bdd9bedc86",
       "style": "IPY_MODEL_860cb1b893f74b16a8f0c282fbcf74c1",
       "value": " 1/? [00:03&lt;00:00,  3.76s/it]"
      }
     },
     "9a70b799324a48848d8ab9faac0e4882": {
      "model_module": "@jupyter-widgets/controls",
      "model_module_version": "1.5.0",
      "model_name": "ProgressStyleModel",
      "state": {
       "description_width": "initial"
      }
     },
     "9acf119510a94765b204e5d817b5ac23": {
      "model_module": "@jupyter-widgets/controls",
      "model_module_version": "1.5.0",
      "model_name": "ProgressStyleModel",
      "state": {
       "description_width": "initial"
      }
     },
     "9b06057f2d394be8a90aa33e589bacc9": {
      "model_module": "@jupyter-widgets/controls",
      "model_module_version": "1.5.0",
      "model_name": "ProgressStyleModel",
      "state": {
       "description_width": "initial"
      }
     },
     "9b8d40259fa948be946309f1315b1b73": {
      "model_module": "@jupyter-widgets/base",
      "model_module_version": "1.2.0",
      "model_name": "LayoutModel",
      "state": {}
     },
     "9be68ba9fd1c479a954567e7300b3cf9": {
      "model_module": "@jupyter-widgets/controls",
      "model_module_version": "1.5.0",
      "model_name": "HBoxModel",
      "state": {
       "children": [
        "IPY_MODEL_0d61f1d4db724364b5b55891a2244d0f",
        "IPY_MODEL_666648637d944f19b5e54f7956dc866f"
       ],
       "layout": "IPY_MODEL_3ba3d7db81544a958178a0104cafabc2"
      }
     },
     "9ccaa43c32024d9897b5ab52d89e7ae3": {
      "model_module": "@jupyter-widgets/base",
      "model_module_version": "1.2.0",
      "model_name": "LayoutModel",
      "state": {}
     },
     "9d05be5505ec44b6ae9128a1b0956d7a": {
      "model_module": "@jupyter-widgets/base",
      "model_module_version": "1.2.0",
      "model_name": "LayoutModel",
      "state": {}
     },
     "9d25912bb0304653bc6179ffe7909f39": {
      "model_module": "@jupyter-widgets/controls",
      "model_module_version": "1.5.0",
      "model_name": "HTMLModel",
      "state": {
       "layout": "IPY_MODEL_eb69aa2542be4c3584ec6bd2982824c2",
       "style": "IPY_MODEL_d945a35087bc49f39fbe2e6b5046183d",
       "value": " 1/? [00:24&lt;00:00, 24.87s/it]"
      }
     },
     "9e10ad0650d044b283cbac5bbcc7dca2": {
      "model_module": "@jupyter-widgets/controls",
      "model_module_version": "1.5.0",
      "model_name": "HBoxModel",
      "state": {
       "children": [
        "IPY_MODEL_0ec41da2ce4d4ea48cb87002a21956e1",
        "IPY_MODEL_55fbe4b4a65246a8b1296f0ed0e93e98"
       ],
       "layout": "IPY_MODEL_50c673224eb541ed805b5a297bad64f6"
      }
     },
     "9e67c96fe2c649fd9a777f7cdc556082": {
      "model_module": "@jupyter-widgets/controls",
      "model_module_version": "1.5.0",
      "model_name": "HBoxModel",
      "state": {
       "children": [
        "IPY_MODEL_b9ba5c4d6eef48c0b8945bc9d8648952",
        "IPY_MODEL_570be6fa274046329d5ba46516c1967b"
       ],
       "layout": "IPY_MODEL_31826cf5c2aa481bb5c2b3ae42d96a34"
      }
     },
     "9e7ecdcd0e0c465a988918b1e608b932": {
      "model_module": "@jupyter-widgets/controls",
      "model_module_version": "1.5.0",
      "model_name": "ProgressStyleModel",
      "state": {
       "description_width": "initial"
      }
     },
     "9f904f579d5c4e0da3304560fee4e73d": {
      "model_module": "@jupyter-widgets/controls",
      "model_module_version": "1.5.0",
      "model_name": "HBoxModel",
      "state": {
       "children": [
        "IPY_MODEL_44c4c348d83d417eaaef3a1f1f5434f0",
        "IPY_MODEL_e99dd3c364af4e63be40c4e039100371"
       ],
       "layout": "IPY_MODEL_dbec96e1b9c24306a670806b75a211cc"
      }
     },
     "9fd142fd4f684c94a819fad59fd91be4": {
      "model_module": "@jupyter-widgets/base",
      "model_module_version": "1.2.0",
      "model_name": "LayoutModel",
      "state": {}
     },
     "a2deea27194b48a2ace1013a5a0cd616": {
      "model_module": "@jupyter-widgets/controls",
      "model_module_version": "1.5.0",
      "model_name": "DescriptionStyleModel",
      "state": {
       "description_width": ""
      }
     },
     "a460fcde0c3a4e6caa99031e34d434fc": {
      "model_module": "@jupyter-widgets/base",
      "model_module_version": "1.2.0",
      "model_name": "LayoutModel",
      "state": {}
     },
     "a489aa5280a74019a2d0a7118882d8a2": {
      "model_module": "@jupyter-widgets/controls",
      "model_module_version": "1.5.0",
      "model_name": "ProgressStyleModel",
      "state": {
       "description_width": "initial"
      }
     },
     "a516eb6a9f894b35929b53032c6f180e": {
      "model_module": "@jupyter-widgets/controls",
      "model_module_version": "1.5.0",
      "model_name": "ProgressStyleModel",
      "state": {
       "description_width": "initial"
      }
     },
     "a540295fe14741c3a32917acf0777f3a": {
      "model_module": "@jupyter-widgets/controls",
      "model_module_version": "1.5.0",
      "model_name": "HBoxModel",
      "state": {
       "children": [
        "IPY_MODEL_2b9ab1f41ca44365a95beab06e105cee",
        "IPY_MODEL_9a1917e897804aa7b30eae2ba81d4659"
       ],
       "layout": "IPY_MODEL_218e61814aae4a39b1f3f8e1fdf83251"
      }
     },
     "a5fcb5b017a949d7a5e4ce442295a8f7": {
      "model_module": "@jupyter-widgets/base",
      "model_module_version": "1.2.0",
      "model_name": "LayoutModel",
      "state": {}
     },
     "a646324ea6a44000ae59086de208f845": {
      "model_module": "@jupyter-widgets/base",
      "model_module_version": "1.2.0",
      "model_name": "LayoutModel",
      "state": {}
     },
     "a6edc8351d0f40208dee7fd4775ee35c": {
      "model_module": "@jupyter-widgets/base",
      "model_module_version": "1.2.0",
      "model_name": "LayoutModel",
      "state": {}
     },
     "a75757acece740a8aa9d4d9bc5e0e8ea": {
      "model_module": "@jupyter-widgets/controls",
      "model_module_version": "1.5.0",
      "model_name": "HBoxModel",
      "state": {
       "children": [
        "IPY_MODEL_b3ef67211e1344759b150adb3cf245b8",
        "IPY_MODEL_5f6b24265d814e64acf36a67520c8d3e"
       ],
       "layout": "IPY_MODEL_9ccaa43c32024d9897b5ab52d89e7ae3"
      }
     },
     "a87a2f1c986b498aa48f6a863c92343b": {
      "model_module": "@jupyter-widgets/controls",
      "model_module_version": "1.5.0",
      "model_name": "DescriptionStyleModel",
      "state": {
       "description_width": ""
      }
     },
     "a8b29857d05a4e1da0a57f2756231c9a": {
      "model_module": "@jupyter-widgets/base",
      "model_module_version": "1.2.0",
      "model_name": "LayoutModel",
      "state": {}
     },
     "a9018500dc7c48ab884a9af999f1155b": {
      "model_module": "@jupyter-widgets/base",
      "model_module_version": "1.2.0",
      "model_name": "LayoutModel",
      "state": {}
     },
     "a9828cb546be497ca590f20f43a94f93": {
      "model_module": "@jupyter-widgets/controls",
      "model_module_version": "1.5.0",
      "model_name": "ProgressStyleModel",
      "state": {
       "description_width": "initial"
      }
     },
     "a99f421ef3ab4a1d9841e32651cfe13a": {
      "model_module": "@jupyter-widgets/base",
      "model_module_version": "1.2.0",
      "model_name": "LayoutModel",
      "state": {}
     },
     "aaedc508cc184f56be52284f60bc90f3": {
      "model_module": "@jupyter-widgets/controls",
      "model_module_version": "1.5.0",
      "model_name": "HBoxModel",
      "state": {
       "children": [
        "IPY_MODEL_f5e6770360664ceeb95291ef5fc28cb2",
        "IPY_MODEL_e86fdee131724563a247b9412b5ec4ea"
       ],
       "layout": "IPY_MODEL_ff29ffdc7a0a4e8eb28c4c7aa1a64cde"
      }
     },
     "aaede564e3824ae29483ba0ddf8358e3": {
      "model_module": "@jupyter-widgets/controls",
      "model_module_version": "1.5.0",
      "model_name": "IntProgressModel",
      "state": {
       "bar_style": "success",
       "layout": "IPY_MODEL_771f0da5b1e342e6818126da29926c5d",
       "max": 1,
       "style": "IPY_MODEL_fa391aafd2ae474aa0f1265e8b5476a3",
       "value": 1
      }
     },
     "abc5111bd1bd472a80cf4a22a3aa1feb": {
      "model_module": "@jupyter-widgets/base",
      "model_module_version": "1.2.0",
      "model_name": "LayoutModel",
      "state": {}
     },
     "abc86101d897431ba992bd29f7e6d282": {
      "model_module": "@jupyter-widgets/controls",
      "model_module_version": "1.5.0",
      "model_name": "DescriptionStyleModel",
      "state": {
       "description_width": ""
      }
     },
     "abff12db63b3418c8825d465c42aa8b7": {
      "model_module": "@jupyter-widgets/base",
      "model_module_version": "1.2.0",
      "model_name": "LayoutModel",
      "state": {}
     },
     "ac08ad9d23a745eaa88af5c5eace0bf3": {
      "model_module": "@jupyter-widgets/base",
      "model_module_version": "1.2.0",
      "model_name": "LayoutModel",
      "state": {}
     },
     "addd1eda18ba45ad95a5c1c4d65ecf97": {
      "model_module": "@jupyter-widgets/controls",
      "model_module_version": "1.5.0",
      "model_name": "DescriptionStyleModel",
      "state": {
       "description_width": ""
      }
     },
     "ae67fbebda1b45718aa320efa779becf": {
      "model_module": "@jupyter-widgets/base",
      "model_module_version": "1.2.0",
      "model_name": "LayoutModel",
      "state": {}
     },
     "aff2c9a5affc40798a0030b68428fddc": {
      "model_module": "@jupyter-widgets/controls",
      "model_module_version": "1.5.0",
      "model_name": "HBoxModel",
      "state": {
       "children": [
        "IPY_MODEL_11281c50ff594fd0ac9c0d16e52e7107",
        "IPY_MODEL_38ceb941839f428e913ae12124252217"
       ],
       "layout": "IPY_MODEL_93f43ec816b6490f883c9810522814c4"
      }
     },
     "b0dd597a5c7a43de9be3343f619c30b4": {
      "model_module": "@jupyter-widgets/controls",
      "model_module_version": "1.5.0",
      "model_name": "DescriptionStyleModel",
      "state": {
       "description_width": ""
      }
     },
     "b1d11ba56ca04056b1d8d6ac44b94e25": {
      "model_module": "@jupyter-widgets/base",
      "model_module_version": "1.2.0",
      "model_name": "LayoutModel",
      "state": {}
     },
     "b36ff1d0e5a342f098818747e4ccacbd": {
      "model_module": "@jupyter-widgets/controls",
      "model_module_version": "1.5.0",
      "model_name": "ProgressStyleModel",
      "state": {
       "description_width": "initial"
      }
     },
     "b3ef67211e1344759b150adb3cf245b8": {
      "model_module": "@jupyter-widgets/controls",
      "model_module_version": "1.5.0",
      "model_name": "IntProgressModel",
      "state": {
       "bar_style": "success",
       "layout": "IPY_MODEL_1f4c595602484ef3b5638cae9acfe87a",
       "max": 1,
       "style": "IPY_MODEL_9b06057f2d394be8a90aa33e589bacc9",
       "value": 1
      }
     },
     "b55d41f1ad134e99a179ae1cb0eb827a": {
      "model_module": "@jupyter-widgets/base",
      "model_module_version": "1.2.0",
      "model_name": "LayoutModel",
      "state": {}
     },
     "b59f59f3b3da4f2c9f61f99462a510d5": {
      "model_module": "@jupyter-widgets/base",
      "model_module_version": "1.2.0",
      "model_name": "LayoutModel",
      "state": {}
     },
     "b5c398ae621d4d899607cee4f54b0cf6": {
      "model_module": "@jupyter-widgets/controls",
      "model_module_version": "1.5.0",
      "model_name": "HBoxModel",
      "state": {
       "children": [
        "IPY_MODEL_c635f5823f6348409bea6af1a45225d8",
        "IPY_MODEL_237693a4af1c4e49ad5ecc5402106a28"
       ],
       "layout": "IPY_MODEL_4a9c19cf4098431dbcca357180ebba3f"
      }
     },
     "b6d9be7c470e4401bea31fd6ada0e767": {
      "model_module": "@jupyter-widgets/base",
      "model_module_version": "1.2.0",
      "model_name": "LayoutModel",
      "state": {}
     },
     "b703c2a8c88946c5a03207256dceadb4": {
      "model_module": "@jupyter-widgets/controls",
      "model_module_version": "1.5.0",
      "model_name": "HBoxModel",
      "state": {
       "children": [
        "IPY_MODEL_5ccb6ac0f2134df7b13e7edf44cb1ec6",
        "IPY_MODEL_618d350741fd4ec38dd87923ec10617d"
       ],
       "layout": "IPY_MODEL_7cfed06c874e430da3b58491dbfe89b2"
      }
     },
     "b7275248cc814cfe90af8c850e8b81f2": {
      "model_module": "@jupyter-widgets/controls",
      "model_module_version": "1.5.0",
      "model_name": "DescriptionStyleModel",
      "state": {
       "description_width": ""
      }
     },
     "b743d04de38f451485f30df2681b186f": {
      "model_module": "@jupyter-widgets/base",
      "model_module_version": "1.2.0",
      "model_name": "LayoutModel",
      "state": {}
     },
     "b833699b3ac34c0e90d980f1a00ebb26": {
      "model_module": "@jupyter-widgets/controls",
      "model_module_version": "1.5.0",
      "model_name": "HBoxModel",
      "state": {
       "children": [
        "IPY_MODEL_2e573ae6747f424e98479ac340e92ae3",
        "IPY_MODEL_caa3e60e4b52484ba3b649b7b4180ab8"
       ],
       "layout": "IPY_MODEL_427d1ee9dfcf403b85c9620b4ef9b1e1"
      }
     },
     "b9ba5c4d6eef48c0b8945bc9d8648952": {
      "model_module": "@jupyter-widgets/controls",
      "model_module_version": "1.5.0",
      "model_name": "IntProgressModel",
      "state": {
       "bar_style": "success",
       "description": "Padding: 100%",
       "layout": "IPY_MODEL_c09132544d65419e9eae361f19ae7242",
       "max": 189,
       "style": "IPY_MODEL_d4a07d1fa5bd40c990b2f88fcd16aae7",
       "value": 189
      }
     },
     "ba69e7ad6c1a434295defe1598870f4e": {
      "model_module": "@jupyter-widgets/base",
      "model_module_version": "1.2.0",
      "model_name": "LayoutModel",
      "state": {}
     },
     "bb6247ad8599449f9e7bf9ae07fdced8": {
      "model_module": "@jupyter-widgets/controls",
      "model_module_version": "1.5.0",
      "model_name": "HBoxModel",
      "state": {
       "children": [
        "IPY_MODEL_e9bb0b8954c6492db3029d96c14fb7a9",
        "IPY_MODEL_01c4928d52d4483784b192774b0527f2"
       ],
       "layout": "IPY_MODEL_0e7951ca1a6d459e93b30600d4bf492e"
      }
     },
     "bbaccf08862e49a0b0f2a6d98c7f72c8": {
      "model_module": "@jupyter-widgets/base",
      "model_module_version": "1.2.0",
      "model_name": "LayoutModel",
      "state": {}
     },
     "bbbc71a1c00f44038f32212c9f6561a4": {
      "model_module": "@jupyter-widgets/controls",
      "model_module_version": "1.5.0",
      "model_name": "ProgressStyleModel",
      "state": {
       "description_width": "initial"
      }
     },
     "bbd14ea7adab495ba9758ab5c52e7a51": {
      "model_module": "@jupyter-widgets/base",
      "model_module_version": "1.2.0",
      "model_name": "LayoutModel",
      "state": {}
     },
     "bc2932a104424b859407925cf27b8f30": {
      "model_module": "@jupyter-widgets/controls",
      "model_module_version": "1.5.0",
      "model_name": "IntProgressModel",
      "state": {
       "bar_style": "success",
       "description": "Padding: 100%",
       "layout": "IPY_MODEL_856ccd797f0b4bed80edc76a58c39805",
       "max": 189,
       "style": "IPY_MODEL_3352a620d1224210ac21c96e3e355ca5",
       "value": 189
      }
     },
     "bd68ce2168484db0b09bfb1b8f50f51d": {
      "model_module": "@jupyter-widgets/controls",
      "model_module_version": "1.5.0",
      "model_name": "DescriptionStyleModel",
      "state": {
       "description_width": ""
      }
     },
     "bd7b6effc0e147ba9865a97230e68ae3": {
      "model_module": "@jupyter-widgets/base",
      "model_module_version": "1.2.0",
      "model_name": "LayoutModel",
      "state": {}
     },
     "be2a13fd92fc42fc9fcf2db46ff3e707": {
      "model_module": "@jupyter-widgets/base",
      "model_module_version": "1.2.0",
      "model_name": "LayoutModel",
      "state": {}
     },
     "bedf4c3fe32e47adbef0a7f89e6305cd": {
      "model_module": "@jupyter-widgets/controls",
      "model_module_version": "1.5.0",
      "model_name": "ProgressStyleModel",
      "state": {
       "description_width": "initial"
      }
     },
     "bf75db3696aa42499ffa5f9e0d8ae59f": {
      "model_module": "@jupyter-widgets/controls",
      "model_module_version": "1.5.0",
      "model_name": "HBoxModel",
      "state": {
       "children": [
        "IPY_MODEL_313005174a954c4e8793612de4162fb3",
        "IPY_MODEL_d35625462a124a0c894eb045b7ea7c5a"
       ],
       "layout": "IPY_MODEL_f73eec4b30c141c59fe15c26f402610c"
      }
     },
     "bf87cb696d6342d3bb11928cca10240b": {
      "model_module": "@jupyter-widgets/base",
      "model_module_version": "1.2.0",
      "model_name": "LayoutModel",
      "state": {}
     },
     "c09132544d65419e9eae361f19ae7242": {
      "model_module": "@jupyter-widgets/base",
      "model_module_version": "1.2.0",
      "model_name": "LayoutModel",
      "state": {}
     },
     "c0c76fae43fd427ab3bfe838f539cdf2": {
      "model_module": "@jupyter-widgets/controls",
      "model_module_version": "1.5.0",
      "model_name": "HBoxModel",
      "state": {
       "children": [
        "IPY_MODEL_aaede564e3824ae29483ba0ddf8358e3",
        "IPY_MODEL_4be968dae650492cb264b6fa78d67f6e"
       ],
       "layout": "IPY_MODEL_bd7b6effc0e147ba9865a97230e68ae3"
      }
     },
     "c1a47da623014f54925234eb470f6e60": {
      "model_module": "@jupyter-widgets/base",
      "model_module_version": "1.2.0",
      "model_name": "LayoutModel",
      "state": {}
     },
     "c1ad8e2f125b4132add8abb39961c226": {
      "model_module": "@jupyter-widgets/controls",
      "model_module_version": "1.5.0",
      "model_name": "HTMLModel",
      "state": {
       "layout": "IPY_MODEL_2cad97f3a20f45b1ae39da75877f7109",
       "style": "IPY_MODEL_a2deea27194b48a2ace1013a5a0cd616",
       "value": " 1/? [00:13&lt;00:00, 13.96s/it]"
      }
     },
     "c23c2f8905114934a1caaf5a74034d27": {
      "model_module": "@jupyter-widgets/controls",
      "model_module_version": "1.5.0",
      "model_name": "DescriptionStyleModel",
      "state": {
       "description_width": ""
      }
     },
     "c31de0c8f63045a98b831edba55cbc21": {
      "model_module": "@jupyter-widgets/base",
      "model_module_version": "1.2.0",
      "model_name": "LayoutModel",
      "state": {}
     },
     "c359a6cfbd3d458d8770fa4616e8a239": {
      "model_module": "@jupyter-widgets/base",
      "model_module_version": "1.2.0",
      "model_name": "LayoutModel",
      "state": {}
     },
     "c44c986818a04843bbe9a7eb3be5ad43": {
      "model_module": "@jupyter-widgets/controls",
      "model_module_version": "1.5.0",
      "model_name": "IntProgressModel",
      "state": {
       "bar_style": "success",
       "description": "[Generate Triplet Dataset] Start thread: 100%",
       "layout": "IPY_MODEL_a646324ea6a44000ae59086de208f845",
       "max": 137,
       "style": "IPY_MODEL_ee5fb684083e4cb5b5e4a0907fb55ee4",
       "value": 137
      }
     },
     "c455d636518d4d4f993dadf8e6313b81": {
      "model_module": "@jupyter-widgets/controls",
      "model_module_version": "1.5.0",
      "model_name": "DescriptionStyleModel",
      "state": {
       "description_width": ""
      }
     },
     "c549bc1ab3c64747bba8bdc34a82b7fa": {
      "model_module": "@jupyter-widgets/controls",
      "model_module_version": "1.5.0",
      "model_name": "IntProgressModel",
      "state": {
       "bar_style": "success",
       "description": "Padding: 100%",
       "layout": "IPY_MODEL_e42486e0a7244e309dfd7ed11d8814be",
       "max": 1225,
       "style": "IPY_MODEL_4f9241a6854a4e0bba33b1cafad235d4",
       "value": 1225
      }
     },
     "c575072dde4a4333b84b6c5710477f66": {
      "model_module": "@jupyter-widgets/controls",
      "model_module_version": "1.5.0",
      "model_name": "HBoxModel",
      "state": {
       "children": [
        "IPY_MODEL_4680e0be8f32452293f61febce44eb17",
        "IPY_MODEL_f8d77766c24c4856a09d0103b60d1458"
       ],
       "layout": "IPY_MODEL_69c0c7ddc76a4ee5b8c617db1c747d56"
      }
     },
     "c582d5c8602d43f38223c057cd83b2e3": {
      "model_module": "@jupyter-widgets/controls",
      "model_module_version": "1.5.0",
      "model_name": "DescriptionStyleModel",
      "state": {
       "description_width": ""
      }
     },
     "c635f5823f6348409bea6af1a45225d8": {
      "model_module": "@jupyter-widgets/controls",
      "model_module_version": "1.5.0",
      "model_name": "IntProgressModel",
      "state": {
       "bar_style": "success",
       "description": "Padding: 100%",
       "layout": "IPY_MODEL_d3a5abef6af243cba44e617ad4318b3d",
       "max": 189,
       "style": "IPY_MODEL_46d6934b0e14491c9f08da2cd7769c4f",
       "value": 189
      }
     },
     "c86630b1f0c544c48e12eb56784b3108": {
      "model_module": "@jupyter-widgets/base",
      "model_module_version": "1.2.0",
      "model_name": "LayoutModel",
      "state": {}
     },
     "c964d5af25cc42bc8421ff5f23d0bd54": {
      "model_module": "@jupyter-widgets/controls",
      "model_module_version": "1.5.0",
      "model_name": "DescriptionStyleModel",
      "state": {
       "description_width": ""
      }
     },
     "ca20b97d97554f02bdf73ecf389dd9d3": {
      "model_module": "@jupyter-widgets/controls",
      "model_module_version": "1.5.0",
      "model_name": "ProgressStyleModel",
      "state": {
       "description_width": "initial"
      }
     },
     "caa3e60e4b52484ba3b649b7b4180ab8": {
      "model_module": "@jupyter-widgets/controls",
      "model_module_version": "1.5.0",
      "model_name": "HTMLModel",
      "state": {
       "layout": "IPY_MODEL_56f41e74461a435fbf7aa8109a8c51be",
       "style": "IPY_MODEL_6270523a3691455c9ac8a93a5cf20032",
       "value": " 189/189 [00:00&lt;00:00, 1798.61it/s]"
      }
     },
     "cce973597742482dad78d97c053de123": {
      "model_module": "@jupyter-widgets/controls",
      "model_module_version": "1.5.0",
      "model_name": "IntProgressModel",
      "state": {
       "bar_style": "success",
       "layout": "IPY_MODEL_ba69e7ad6c1a434295defe1598870f4e",
       "max": 1,
       "style": "IPY_MODEL_5a8e8bdb23954419b88bc9981cf9b237",
       "value": 1
      }
     },
     "cdca147a0aca4f3f9667cc2414bb5658": {
      "model_module": "@jupyter-widgets/controls",
      "model_module_version": "1.5.0",
      "model_name": "IntProgressModel",
      "state": {
       "bar_style": "success",
       "layout": "IPY_MODEL_1d92fd23fa464f0eb2cb8eaf83032ee1",
       "max": 1,
       "style": "IPY_MODEL_3ce3c7cc32f44eb8a2b9c62354545449",
       "value": 1
      }
     },
     "ce057a986f7f4256bda05666f518f623": {
      "model_module": "@jupyter-widgets/base",
      "model_module_version": "1.2.0",
      "model_name": "LayoutModel",
      "state": {}
     },
     "ce0914ed5ebf43189e2e43a05d8c1fd7": {
      "model_module": "@jupyter-widgets/base",
      "model_module_version": "1.2.0",
      "model_name": "LayoutModel",
      "state": {}
     },
     "cf2ee9e8eb9841e09d020735626afee1": {
      "model_module": "@jupyter-widgets/controls",
      "model_module_version": "1.5.0",
      "model_name": "IntProgressModel",
      "state": {
       "bar_style": "success",
       "layout": "IPY_MODEL_b59f59f3b3da4f2c9f61f99462a510d5",
       "max": 1,
       "style": "IPY_MODEL_8bf361edd6bf4b7b80c2be30cdaca505",
       "value": 1
      }
     },
     "cf325480e0cc43faadd74994d75606be": {
      "model_module": "@jupyter-widgets/controls",
      "model_module_version": "1.5.0",
      "model_name": "DescriptionStyleModel",
      "state": {
       "description_width": ""
      }
     },
     "d09dbead76c84ca988eb7432d1c7be6d": {
      "model_module": "@jupyter-widgets/controls",
      "model_module_version": "1.5.0",
      "model_name": "HTMLModel",
      "state": {
       "layout": "IPY_MODEL_fb35ce10ec854693ac48e618e6c1e2fe",
       "style": "IPY_MODEL_70f8b4bf9c8e49969b1b5833b5d5cdbd",
       "value": " 1/? [00:29&lt;00:00, 29.86s/it]"
      }
     },
     "d0be2f540e004fe4887e16576cc40490": {
      "model_module": "@jupyter-widgets/controls",
      "model_module_version": "1.5.0",
      "model_name": "HBoxModel",
      "state": {
       "children": [
        "IPY_MODEL_79652b8cd9d84837acd9011f9edbe34b",
        "IPY_MODEL_64e6579e504e4a78beb5322ec2ad37e1"
       ],
       "layout": "IPY_MODEL_a8b29857d05a4e1da0a57f2756231c9a"
      }
     },
     "d0c6494f0cb740a68f5f404ad8183e06": {
      "model_module": "@jupyter-widgets/base",
      "model_module_version": "1.2.0",
      "model_name": "LayoutModel",
      "state": {}
     },
     "d1bf81d11ef3447a81afeb3b4096c566": {
      "model_module": "@jupyter-widgets/controls",
      "model_module_version": "1.5.0",
      "model_name": "HBoxModel",
      "state": {
       "children": [
        "IPY_MODEL_801e185ea29042e1b6edbc62e12aabf4",
        "IPY_MODEL_62c873ab6f7d42e8b4a585931f24d9e2"
       ],
       "layout": "IPY_MODEL_2fdb2182a95e412ca907fcf79d5e4e09"
      }
     },
     "d35625462a124a0c894eb045b7ea7c5a": {
      "model_module": "@jupyter-widgets/controls",
      "model_module_version": "1.5.0",
      "model_name": "HTMLModel",
      "state": {
       "layout": "IPY_MODEL_1fd407aed2fc409482ca9327c722c2ff",
       "style": "IPY_MODEL_bd68ce2168484db0b09bfb1b8f50f51d",
       "value": " 1225/1225 [2:20:48&lt;00:00,  6.90s/it]"
      }
     },
     "d3a5abef6af243cba44e617ad4318b3d": {
      "model_module": "@jupyter-widgets/base",
      "model_module_version": "1.2.0",
      "model_name": "LayoutModel",
      "state": {}
     },
     "d3eec903d1184f3082833c8920ac05ff": {
      "model_module": "@jupyter-widgets/base",
      "model_module_version": "1.2.0",
      "model_name": "LayoutModel",
      "state": {}
     },
     "d456d810a8674732afbc65df98ab31d2": {
      "model_module": "@jupyter-widgets/controls",
      "model_module_version": "1.5.0",
      "model_name": "HTMLModel",
      "state": {
       "layout": "IPY_MODEL_4d7a164a522743afb90d532e632a0b7d",
       "style": "IPY_MODEL_65640c96f4b34b6caf029e253d02abbf",
       "value": " 189/189 [00:00&lt;00:00, 800.18it/s]"
      }
     },
     "d4a07d1fa5bd40c990b2f88fcd16aae7": {
      "model_module": "@jupyter-widgets/controls",
      "model_module_version": "1.5.0",
      "model_name": "ProgressStyleModel",
      "state": {
       "description_width": "initial"
      }
     },
     "d53e0f0d4fc844d799ec08d39c6a404e": {
      "model_module": "@jupyter-widgets/base",
      "model_module_version": "1.2.0",
      "model_name": "LayoutModel",
      "state": {}
     },
     "d5e33dd3f41e4ef7ae615c8533efd196": {
      "model_module": "@jupyter-widgets/controls",
      "model_module_version": "1.5.0",
      "model_name": "HBoxModel",
      "state": {
       "children": [
        "IPY_MODEL_ffa605d4eee14cef92a943c6fd1c4084",
        "IPY_MODEL_5e77385e5ad741caa2f6c62df90a4a79"
       ],
       "layout": "IPY_MODEL_73aa5d7ab60f4f8d899b0267ec77a05e"
      }
     },
     "d6500e3680ab4159931f1b32c5dd7927": {
      "model_module": "@jupyter-widgets/controls",
      "model_module_version": "1.5.0",
      "model_name": "ProgressStyleModel",
      "state": {
       "description_width": "initial"
      }
     },
     "d6dfd97b7b584326a08fdb66173970c3": {
      "model_module": "@jupyter-widgets/controls",
      "model_module_version": "1.5.0",
      "model_name": "DescriptionStyleModel",
      "state": {
       "description_width": ""
      }
     },
     "d6e218f6dd694510a6d01dd52284197d": {
      "model_module": "@jupyter-widgets/controls",
      "model_module_version": "1.5.0",
      "model_name": "HTMLModel",
      "state": {
       "layout": "IPY_MODEL_1e5d347a4dd245fc857fee6bef9e46b6",
       "style": "IPY_MODEL_cf325480e0cc43faadd74994d75606be",
       "value": " 1/? [00:08&lt;00:00,  8.74s/it]"
      }
     },
     "d760405021e14f6dbc5874ab601322ee": {
      "model_module": "@jupyter-widgets/base",
      "model_module_version": "1.2.0",
      "model_name": "LayoutModel",
      "state": {}
     },
     "d7cd275989a84e019644e6f5012f6c37": {
      "model_module": "@jupyter-widgets/base",
      "model_module_version": "1.2.0",
      "model_name": "LayoutModel",
      "state": {}
     },
     "d839e0b6cc7a4e478fa2d9ff37bfde3c": {
      "model_module": "@jupyter-widgets/base",
      "model_module_version": "1.2.0",
      "model_name": "LayoutModel",
      "state": {}
     },
     "d8bc34c0757f451c9359cd3ce756c385": {
      "model_module": "@jupyter-widgets/base",
      "model_module_version": "1.2.0",
      "model_name": "LayoutModel",
      "state": {}
     },
     "d945a35087bc49f39fbe2e6b5046183d": {
      "model_module": "@jupyter-widgets/controls",
      "model_module_version": "1.5.0",
      "model_name": "DescriptionStyleModel",
      "state": {
       "description_width": ""
      }
     },
     "d9c857549a78477e9268b343888c4841": {
      "model_module": "@jupyter-widgets/controls",
      "model_module_version": "1.5.0",
      "model_name": "IntProgressModel",
      "state": {
       "bar_style": "success",
       "description": "Padding: 100%",
       "layout": "IPY_MODEL_03145899f87a4dd7a03b70c5dcba8060",
       "max": 189,
       "style": "IPY_MODEL_13cee832b93f44b5ade8c5c3d7d22244",
       "value": 189
      }
     },
     "dae36c5a23f847e9a6f5236ca092cb2f": {
      "model_module": "@jupyter-widgets/base",
      "model_module_version": "1.2.0",
      "model_name": "LayoutModel",
      "state": {}
     },
     "dbec96e1b9c24306a670806b75a211cc": {
      "model_module": "@jupyter-widgets/base",
      "model_module_version": "1.2.0",
      "model_name": "LayoutModel",
      "state": {}
     },
     "dc349290ebcb444aaf05d51ecd4d24ed": {
      "model_module": "@jupyter-widgets/base",
      "model_module_version": "1.2.0",
      "model_name": "LayoutModel",
      "state": {}
     },
     "dc6161f5a1fc4cc6bc06ab3dcf3113e5": {
      "model_module": "@jupyter-widgets/controls",
      "model_module_version": "1.5.0",
      "model_name": "HTMLModel",
      "state": {
       "layout": "IPY_MODEL_03d039e32d4044828ebd42455e6bb184",
       "style": "IPY_MODEL_524bf37c01464dc9be0ff6d35d9c0b45",
       "value": " 189/189 [01:54&lt;00:00,  1.65it/s]"
      }
     },
     "dc726aa7cf9a4092997153904a21325a": {
      "model_module": "@jupyter-widgets/controls",
      "model_module_version": "1.5.0",
      "model_name": "HBoxModel",
      "state": {
       "children": [
        "IPY_MODEL_2919ce5816d847ef97a7604c39f3a17a",
        "IPY_MODEL_0476e4e9cd5b48ef936368716fd04fbf"
       ],
       "layout": "IPY_MODEL_838776b2a4394d04a6d7e0ce77da9357"
      }
     },
     "dc7ac30e06674430962d0ea93054ca59": {
      "model_module": "@jupyter-widgets/controls",
      "model_module_version": "1.5.0",
      "model_name": "DescriptionStyleModel",
      "state": {
       "description_width": ""
      }
     },
     "dca61bd82f1e4bb5b26c5e7513b4bcee": {
      "model_module": "@jupyter-widgets/controls",
      "model_module_version": "1.5.0",
      "model_name": "HBoxModel",
      "state": {
       "children": [
        "IPY_MODEL_cdca147a0aca4f3f9667cc2414bb5658",
        "IPY_MODEL_d6e218f6dd694510a6d01dd52284197d"
       ],
       "layout": "IPY_MODEL_10fc2ff40c894b93bbb774c5163a2563"
      }
     },
     "de8531c148f64e32b2445f2fb83174f6": {
      "model_module": "@jupyter-widgets/controls",
      "model_module_version": "1.5.0",
      "model_name": "IntProgressModel",
      "state": {
       "bar_style": "success",
       "description": "Padding: 100%",
       "layout": "IPY_MODEL_f47b57563a574129a5788e0f6c22647c",
       "max": 189,
       "style": "IPY_MODEL_6b4f75da17ab4b00aa588a6a75c4ab46",
       "value": 189
      }
     },
     "deb675a9ec8d4c718be012b1165ccf8d": {
      "model_module": "@jupyter-widgets/controls",
      "model_module_version": "1.5.0",
      "model_name": "IntProgressModel",
      "state": {
       "bar_style": "success",
       "description": "Padding: 100%",
       "layout": "IPY_MODEL_d7cd275989a84e019644e6f5012f6c37",
       "max": 189,
       "style": "IPY_MODEL_ca20b97d97554f02bdf73ecf389dd9d3",
       "value": 189
      }
     },
     "debfacc409184f6ca71e0fedc4c0c2d1": {
      "model_module": "@jupyter-widgets/controls",
      "model_module_version": "1.5.0",
      "model_name": "HTMLModel",
      "state": {
       "layout": "IPY_MODEL_abc5111bd1bd472a80cf4a22a3aa1feb",
       "style": "IPY_MODEL_df72141ff9eb411295b96211955d00c7",
       "value": " 0/? [00:00&lt;?, ?it/s]"
      }
     },
     "df61c176a60e4264b6f08e122643b393": {
      "model_module": "@jupyter-widgets/base",
      "model_module_version": "1.2.0",
      "model_name": "LayoutModel",
      "state": {}
     },
     "df72141ff9eb411295b96211955d00c7": {
      "model_module": "@jupyter-widgets/controls",
      "model_module_version": "1.5.0",
      "model_name": "DescriptionStyleModel",
      "state": {
       "description_width": ""
      }
     },
     "e01e2efe0f2645fbba709f069294352d": {
      "model_module": "@jupyter-widgets/controls",
      "model_module_version": "1.5.0",
      "model_name": "DescriptionStyleModel",
      "state": {
       "description_width": ""
      }
     },
     "e05b47bd73da48f9a189a6e3b3757d08": {
      "model_module": "@jupyter-widgets/controls",
      "model_module_version": "1.5.0",
      "model_name": "HBoxModel",
      "state": {
       "children": [
        "IPY_MODEL_de8531c148f64e32b2445f2fb83174f6",
        "IPY_MODEL_4e44b8631daa40c9a27adfe3d1078890"
       ],
       "layout": "IPY_MODEL_7e52a03b06944e92981a381f8356e30a"
      }
     },
     "e20dae3244dd4a63971ea3ab1e50630a": {
      "model_module": "@jupyter-widgets/controls",
      "model_module_version": "1.5.0",
      "model_name": "IntProgressModel",
      "state": {
       "bar_style": "success",
       "layout": "IPY_MODEL_5bb92454a8904e769e7d7ed0b6b3438a",
       "max": 1,
       "style": "IPY_MODEL_2417de9522db4ce6b4bbbb4f8c1225c2",
       "value": 1
      }
     },
     "e359d0b073db424a9c920c02b1f391f9": {
      "model_module": "@jupyter-widgets/controls",
      "model_module_version": "1.5.0",
      "model_name": "HTMLModel",
      "state": {
       "layout": "IPY_MODEL_28bb178cac284303887f38b8e00db679",
       "style": "IPY_MODEL_dc7ac30e06674430962d0ea93054ca59",
       "value": " 189/189 [00:00&lt;00:00, 246.84it/s]"
      }
     },
     "e365da77e9e04f75b12981318e7527e6": {
      "model_module": "@jupyter-widgets/base",
      "model_module_version": "1.2.0",
      "model_name": "LayoutModel",
      "state": {}
     },
     "e38a563b564a43b8a8e48f94e8b85e1a": {
      "model_module": "@jupyter-widgets/controls",
      "model_module_version": "1.5.0",
      "model_name": "HBoxModel",
      "state": {
       "children": [
        "IPY_MODEL_936dae60c4354de49d6617811f493931",
        "IPY_MODEL_c1ad8e2f125b4132add8abb39961c226"
       ],
       "layout": "IPY_MODEL_fc449f49849b4bb2baa20e73fcb972de"
      }
     },
     "e3ddf61e39bf4beb8a27170150faf369": {
      "model_module": "@jupyter-widgets/controls",
      "model_module_version": "1.5.0",
      "model_name": "HBoxModel",
      "state": {
       "children": [
        "IPY_MODEL_deb675a9ec8d4c718be012b1165ccf8d",
        "IPY_MODEL_64ead69cd89146c989a4174f05d17cb8"
       ],
       "layout": "IPY_MODEL_5206beeead0843f5b58059be296be21a"
      }
     },
     "e3eb8d35f942446982bfadb4cd16b0b4": {
      "model_module": "@jupyter-widgets/base",
      "model_module_version": "1.2.0",
      "model_name": "LayoutModel",
      "state": {}
     },
     "e42486e0a7244e309dfd7ed11d8814be": {
      "model_module": "@jupyter-widgets/base",
      "model_module_version": "1.2.0",
      "model_name": "LayoutModel",
      "state": {}
     },
     "e502341f517c4ef189a0beea095a4a61": {
      "model_module": "@jupyter-widgets/controls",
      "model_module_version": "1.5.0",
      "model_name": "HTMLModel",
      "state": {
       "layout": "IPY_MODEL_dc349290ebcb444aaf05d51ecd4d24ed",
       "style": "IPY_MODEL_c23c2f8905114934a1caaf5a74034d27",
       "value": " 1/? [00:03&lt;00:00,  3.61s/it]"
      }
     },
     "e6bc06f9bf894783b355d29db44984b1": {
      "model_module": "@jupyter-widgets/controls",
      "model_module_version": "1.5.0",
      "model_name": "DescriptionStyleModel",
      "state": {
       "description_width": ""
      }
     },
     "e6bf17d99e18473181ba80fc47de331d": {
      "model_module": "@jupyter-widgets/controls",
      "model_module_version": "1.5.0",
      "model_name": "ProgressStyleModel",
      "state": {
       "description_width": "initial"
      }
     },
     "e7b73a4775674340a06f90feb4159631": {
      "model_module": "@jupyter-widgets/base",
      "model_module_version": "1.2.0",
      "model_name": "LayoutModel",
      "state": {}
     },
     "e86fdee131724563a247b9412b5ec4ea": {
      "model_module": "@jupyter-widgets/controls",
      "model_module_version": "1.5.0",
      "model_name": "HTMLModel",
      "state": {
       "layout": "IPY_MODEL_b1d11ba56ca04056b1d8d6ac44b94e25",
       "style": "IPY_MODEL_63fa12ca02bf421a8a8983f0d66acad0",
       "value": " 189/189 [07:03&lt;00:00,  2.24s/it]"
      }
     },
     "e8865fdbe3e94520bcdfbd7ddbf307ff": {
      "model_module": "@jupyter-widgets/controls",
      "model_module_version": "1.5.0",
      "model_name": "DescriptionStyleModel",
      "state": {
       "description_width": ""
      }
     },
     "e8a52978be08407ea0da30b7c52d5970": {
      "model_module": "@jupyter-widgets/base",
      "model_module_version": "1.2.0",
      "model_name": "LayoutModel",
      "state": {}
     },
     "e8ca090f094145f7a6d153f0d654990e": {
      "model_module": "@jupyter-widgets/base",
      "model_module_version": "1.2.0",
      "model_name": "LayoutModel",
      "state": {}
     },
     "e9891de1af5c4315b90e0d987e16a432": {
      "model_module": "@jupyter-widgets/base",
      "model_module_version": "1.2.0",
      "model_name": "LayoutModel",
      "state": {}
     },
     "e99dd3c364af4e63be40c4e039100371": {
      "model_module": "@jupyter-widgets/controls",
      "model_module_version": "1.5.0",
      "model_name": "HTMLModel",
      "state": {
       "layout": "IPY_MODEL_c31de0c8f63045a98b831edba55cbc21",
       "style": "IPY_MODEL_ff69a3e526e24a6e98dee34f233490b1",
       "value": " 1/? [00:00&lt;00:00,  6.51it/s]"
      }
     },
     "e9bb0b8954c6492db3029d96c14fb7a9": {
      "model_module": "@jupyter-widgets/controls",
      "model_module_version": "1.5.0",
      "model_name": "IntProgressModel",
      "state": {
       "bar_style": "success",
       "layout": "IPY_MODEL_c86630b1f0c544c48e12eb56784b3108",
       "max": 1,
       "style": "IPY_MODEL_006ebab480804a948a27624c7a7c6119",
       "value": 1
      }
     },
     "ea556933318e478788edead68b0431e4": {
      "model_module": "@jupyter-widgets/base",
      "model_module_version": "1.2.0",
      "model_name": "LayoutModel",
      "state": {}
     },
     "ea5fe26e55a84375b7f8e76d317fddaf": {
      "model_module": "@jupyter-widgets/base",
      "model_module_version": "1.2.0",
      "model_name": "LayoutModel",
      "state": {}
     },
     "eb69aa2542be4c3584ec6bd2982824c2": {
      "model_module": "@jupyter-widgets/base",
      "model_module_version": "1.2.0",
      "model_name": "LayoutModel",
      "state": {}
     },
     "eb8b7aef31d841d09a4a8d3631e86a07": {
      "model_module": "@jupyter-widgets/base",
      "model_module_version": "1.2.0",
      "model_name": "LayoutModel",
      "state": {}
     },
     "ec5984d95f8c4210857c617738ff00ea": {
      "model_module": "@jupyter-widgets/base",
      "model_module_version": "1.2.0",
      "model_name": "LayoutModel",
      "state": {}
     },
     "ec5cb1038f9f4a8b9d97cd38b9e7b72e": {
      "model_module": "@jupyter-widgets/controls",
      "model_module_version": "1.5.0",
      "model_name": "HTMLModel",
      "state": {
       "layout": "IPY_MODEL_fd2e65d7a71946e3b178c8fdb55b92a3",
       "style": "IPY_MODEL_690999a8c08e416a99c99d53dad5b4ec",
       "value": " 189/189 [00:00&lt;00:00, 2483.76it/s]"
      }
     },
     "edb871719a004a4e87358573e855d2a9": {
      "model_module": "@jupyter-widgets/base",
      "model_module_version": "1.2.0",
      "model_name": "LayoutModel",
      "state": {}
     },
     "edd6aa4b4bb74abc9e0b300c5342c6d0": {
      "model_module": "@jupyter-widgets/controls",
      "model_module_version": "1.5.0",
      "model_name": "HTMLModel",
      "state": {
       "layout": "IPY_MODEL_e8a52978be08407ea0da30b7c52d5970",
       "style": "IPY_MODEL_4703336e07a340119c70fc28b36fb48c",
       "value": " 1/? [00:13&lt;00:00, 13.82s/it]"
      }
     },
     "ee5fb684083e4cb5b5e4a0907fb55ee4": {
      "model_module": "@jupyter-widgets/controls",
      "model_module_version": "1.5.0",
      "model_name": "ProgressStyleModel",
      "state": {
       "description_width": "initial"
      }
     },
     "eefe3fe42cdd448bb893b57c6c7f6ecb": {
      "model_module": "@jupyter-widgets/controls",
      "model_module_version": "1.5.0",
      "model_name": "IntProgressModel",
      "state": {
       "bar_style": "success",
       "description": "Padding: 100%",
       "layout": "IPY_MODEL_2c31fae567a54ecfb9818a16f1470d10",
       "max": 28896,
       "style": "IPY_MODEL_d6500e3680ab4159931f1b32c5dd7927",
       "value": 28896
      }
     },
     "eeffcbbbddbd4ff483025098addfee8a": {
      "model_module": "@jupyter-widgets/controls",
      "model_module_version": "1.5.0",
      "model_name": "ProgressStyleModel",
      "state": {
       "description_width": "initial"
      }
     },
     "ef314b87f24a468198c5d5642feed32e": {
      "model_module": "@jupyter-widgets/controls",
      "model_module_version": "1.5.0",
      "model_name": "DescriptionStyleModel",
      "state": {
       "description_width": ""
      }
     },
     "ef85b45b0a4c45a69eb291da66471a7d": {
      "model_module": "@jupyter-widgets/controls",
      "model_module_version": "1.5.0",
      "model_name": "HTMLModel",
      "state": {
       "layout": "IPY_MODEL_8807d740dacf496ba116ef0dc351abf7",
       "style": "IPY_MODEL_e8865fdbe3e94520bcdfbd7ddbf307ff",
       "value": " 1/? [01:03&lt;00:00, 63.30s/it]"
      }
     },
     "f0efb3e342774e46a44272b629d2ceaf": {
      "model_module": "@jupyter-widgets/controls",
      "model_module_version": "1.5.0",
      "model_name": "IntProgressModel",
      "state": {
       "bar_style": "success",
       "description": "Padding: 100%",
       "layout": "IPY_MODEL_e3eb8d35f942446982bfadb4cd16b0b4",
       "max": 189,
       "style": "IPY_MODEL_eeffcbbbddbd4ff483025098addfee8a",
       "value": 189
      }
     },
     "f0fa5132e2cf4fafae9cc1925d4aad7b": {
      "model_module": "@jupyter-widgets/controls",
      "model_module_version": "1.5.0",
      "model_name": "ProgressStyleModel",
      "state": {
       "description_width": "initial"
      }
     },
     "f1de2b00dfa34e7e8c54f77533064963": {
      "model_module": "@jupyter-widgets/controls",
      "model_module_version": "1.5.0",
      "model_name": "ProgressStyleModel",
      "state": {
       "description_width": "initial"
      }
     },
     "f43032d457e5496db7fd432ca9e113fb": {
      "model_module": "@jupyter-widgets/base",
      "model_module_version": "1.2.0",
      "model_name": "LayoutModel",
      "state": {}
     },
     "f47b57563a574129a5788e0f6c22647c": {
      "model_module": "@jupyter-widgets/base",
      "model_module_version": "1.2.0",
      "model_name": "LayoutModel",
      "state": {}
     },
     "f5e6770360664ceeb95291ef5fc28cb2": {
      "model_module": "@jupyter-widgets/controls",
      "model_module_version": "1.5.0",
      "model_name": "IntProgressModel",
      "state": {
       "bar_style": "success",
       "description": "Padding: 100%",
       "layout": "IPY_MODEL_b743d04de38f451485f30df2681b186f",
       "max": 189,
       "style": "IPY_MODEL_fc22a76605ef47fd9c472e6082638801",
       "value": 189
      }
     },
     "f65384962a954a23a03e1c62bb8aab8a": {
      "model_module": "@jupyter-widgets/controls",
      "model_module_version": "1.5.0",
      "model_name": "DescriptionStyleModel",
      "state": {
       "description_width": ""
      }
     },
     "f73eec4b30c141c59fe15c26f402610c": {
      "model_module": "@jupyter-widgets/base",
      "model_module_version": "1.2.0",
      "model_name": "LayoutModel",
      "state": {}
     },
     "f7581008c2b84a16ad6a3a4746ffabcb": {
      "model_module": "@jupyter-widgets/controls",
      "model_module_version": "1.5.0",
      "model_name": "IntProgressModel",
      "state": {
       "bar_style": "success",
       "description": "Padding: 100%",
       "layout": "IPY_MODEL_bbaccf08862e49a0b0f2a6d98c7f72c8",
       "max": 189,
       "style": "IPY_MODEL_a516eb6a9f894b35929b53032c6f180e",
       "value": 189
      }
     },
     "f78d7b1f0be649c6825f1d171d3b4b14": {
      "model_module": "@jupyter-widgets/controls",
      "model_module_version": "1.5.0",
      "model_name": "ProgressStyleModel",
      "state": {
       "description_width": "initial"
      }
     },
     "f7ad2954742e49f091694a4f553aec1a": {
      "model_module": "@jupyter-widgets/controls",
      "model_module_version": "1.5.0",
      "model_name": "DescriptionStyleModel",
      "state": {
       "description_width": ""
      }
     },
     "f8d77766c24c4856a09d0103b60d1458": {
      "model_module": "@jupyter-widgets/controls",
      "model_module_version": "1.5.0",
      "model_name": "HTMLModel",
      "state": {
       "layout": "IPY_MODEL_b55d41f1ad134e99a179ae1cb0eb827a",
       "style": "IPY_MODEL_047e7d8110d84c9a812e1c7d4f491f82",
       "value": " 189/189 [00:00&lt;00:00, 3156.17it/s]"
      }
     },
     "f9912b6072a143d5934d934ef4bcdc23": {
      "model_module": "@jupyter-widgets/controls",
      "model_module_version": "1.5.0",
      "model_name": "ProgressStyleModel",
      "state": {
       "description_width": "initial"
      }
     },
     "fa1dd8d32cf24c33ab3b68bdd9bedc86": {
      "model_module": "@jupyter-widgets/base",
      "model_module_version": "1.2.0",
      "model_name": "LayoutModel",
      "state": {}
     },
     "fa391aafd2ae474aa0f1265e8b5476a3": {
      "model_module": "@jupyter-widgets/controls",
      "model_module_version": "1.5.0",
      "model_name": "ProgressStyleModel",
      "state": {
       "description_width": "initial"
      }
     },
     "fa99b945463b4802aa37b270ef5dbfd0": {
      "model_module": "@jupyter-widgets/base",
      "model_module_version": "1.2.0",
      "model_name": "LayoutModel",
      "state": {}
     },
     "faa149763ae54178963cb4064eb94351": {
      "model_module": "@jupyter-widgets/base",
      "model_module_version": "1.2.0",
      "model_name": "LayoutModel",
      "state": {}
     },
     "fb01c4d466594b05ad828666e0f9b24b": {
      "model_module": "@jupyter-widgets/controls",
      "model_module_version": "1.5.0",
      "model_name": "ProgressStyleModel",
      "state": {
       "description_width": "initial"
      }
     },
     "fb35ce10ec854693ac48e618e6c1e2fe": {
      "model_module": "@jupyter-widgets/base",
      "model_module_version": "1.2.0",
      "model_name": "LayoutModel",
      "state": {}
     },
     "fbbe9905009b43d58f529a191a5e7f21": {
      "model_module": "@jupyter-widgets/controls",
      "model_module_version": "1.5.0",
      "model_name": "HTMLModel",
      "state": {
       "layout": "IPY_MODEL_4137d8256baf444287415c70e082cd2e",
       "style": "IPY_MODEL_819ac13b8fe543e990a66dd6eec342cd",
       "value": " 137/137 [2:46:01&lt;00:00, 72.71s/it]"
      }
     },
     "fc15c3f6071c48fab4498f1ce1ae3036": {
      "model_module": "@jupyter-widgets/base",
      "model_module_version": "1.2.0",
      "model_name": "LayoutModel",
      "state": {}
     },
     "fc22a76605ef47fd9c472e6082638801": {
      "model_module": "@jupyter-widgets/controls",
      "model_module_version": "1.5.0",
      "model_name": "ProgressStyleModel",
      "state": {
       "description_width": "initial"
      }
     },
     "fc449f49849b4bb2baa20e73fcb972de": {
      "model_module": "@jupyter-widgets/base",
      "model_module_version": "1.2.0",
      "model_name": "LayoutModel",
      "state": {}
     },
     "fd2e65d7a71946e3b178c8fdb55b92a3": {
      "model_module": "@jupyter-widgets/base",
      "model_module_version": "1.2.0",
      "model_name": "LayoutModel",
      "state": {}
     },
     "ff29ffdc7a0a4e8eb28c4c7aa1a64cde": {
      "model_module": "@jupyter-widgets/base",
      "model_module_version": "1.2.0",
      "model_name": "LayoutModel",
      "state": {}
     },
     "ff69a3e526e24a6e98dee34f233490b1": {
      "model_module": "@jupyter-widgets/controls",
      "model_module_version": "1.5.0",
      "model_name": "DescriptionStyleModel",
      "state": {
       "description_width": ""
      }
     },
     "ff83176817ea4e6eb9e03b8abd6473c3": {
      "model_module": "@jupyter-widgets/controls",
      "model_module_version": "1.5.0",
      "model_name": "DescriptionStyleModel",
      "state": {
       "description_width": ""
      }
     },
     "ff885708283f4be7bd269e019e0c6d4d": {
      "model_module": "@jupyter-widgets/base",
      "model_module_version": "1.2.0",
      "model_name": "LayoutModel",
      "state": {}
     },
     "ffa605d4eee14cef92a943c6fd1c4084": {
      "model_module": "@jupyter-widgets/controls",
      "model_module_version": "1.5.0",
      "model_name": "IntProgressModel",
      "state": {
       "bar_style": "success",
       "layout": "IPY_MODEL_145e50fd2a674fe684176492fa56d328",
       "max": 1,
       "style": "IPY_MODEL_2866b0081fa74e2c899f0b702a3386cf",
       "value": 1
      }
     }
    },
    "version_major": 2,
    "version_minor": 0
   }
  }
 },
 "nbformat": 4,
 "nbformat_minor": 4
}
